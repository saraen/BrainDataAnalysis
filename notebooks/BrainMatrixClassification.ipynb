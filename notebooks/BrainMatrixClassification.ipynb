{
 "cells": [
  {
   "cell_type": "code",
   "execution_count": 15,
   "metadata": {},
   "outputs": [],
   "source": [
    "# Imports\n",
    "import pandas as pd\n",
    "from sklearn.model_selection import train_test_split\n",
    "from sklearn.model_selection import GridSearchCV\n",
    "from sklearn.model_selection import RandomizedSearchCV\n",
    "from sklearn.neighbors import KNeighborsClassifier\n",
    "from time import time\n",
    "from sklearn.metrics import accuracy_score\n",
    "from sklearn.metrics import confusion_matrix\n",
    "import matplotlib.pyplot as plt\n",
    "%matplotlib inline\n",
    "import numpy as np\n",
    "import itertools\n",
    "from sklearn.svm import SVC\n",
    "from sklearn.utils import shuffle\n",
    "from scipy.stats import uniform\n",
    "from sklearn.model_selection import StratifiedKFold\n",
    "from sklearn.ensemble import RandomForestClassifier"
   ]
  },
  {
   "cell_type": "code",
   "execution_count": 2,
   "metadata": {
    "scrolled": true
   },
   "outputs": [
    {
     "data": {
      "text/html": [
       "<div>\n",
       "<style scoped>\n",
       "    .dataframe tbody tr th:only-of-type {\n",
       "        vertical-align: middle;\n",
       "    }\n",
       "\n",
       "    .dataframe tbody tr th {\n",
       "        vertical-align: top;\n",
       "    }\n",
       "\n",
       "    .dataframe thead th {\n",
       "        text-align: right;\n",
       "    }\n",
       "</style>\n",
       "<table border=\"1\" class=\"dataframe\">\n",
       "  <thead>\n",
       "    <tr style=\"text-align: right;\">\n",
       "      <th></th>\n",
       "      <th>Column1</th>\n",
       "      <th>Column2</th>\n",
       "      <th>Column3</th>\n",
       "      <th>Column4</th>\n",
       "      <th>Column5</th>\n",
       "      <th>Column6</th>\n",
       "      <th>Column7</th>\n",
       "      <th>Column8</th>\n",
       "      <th>Column9</th>\n",
       "      <th>Column10</th>\n",
       "      <th>...</th>\n",
       "      <th>Column194</th>\n",
       "      <th>Column195</th>\n",
       "      <th>Column196</th>\n",
       "      <th>Column197</th>\n",
       "      <th>Column198</th>\n",
       "      <th>Column199</th>\n",
       "      <th>Column200</th>\n",
       "      <th>Column201</th>\n",
       "      <th>Column202</th>\n",
       "      <th>Column203</th>\n",
       "    </tr>\n",
       "  </thead>\n",
       "  <tbody>\n",
       "    <tr>\n",
       "      <th>0</th>\n",
       "      <td>18.850784</td>\n",
       "      <td>16.402654</td>\n",
       "      <td>18.809981</td>\n",
       "      <td>18.661708</td>\n",
       "      <td>17.556558</td>\n",
       "      <td>12.513008</td>\n",
       "      <td>12.394331</td>\n",
       "      <td>19.063928</td>\n",
       "      <td>18.213575</td>\n",
       "      <td>14.936953</td>\n",
       "      <td>...</td>\n",
       "      <td>1.657895</td>\n",
       "      <td>1.052632</td>\n",
       "      <td>1.236842</td>\n",
       "      <td>1.447368</td>\n",
       "      <td>1.592105</td>\n",
       "      <td>1.434211</td>\n",
       "      <td>1.526316</td>\n",
       "      <td>1.434211</td>\n",
       "      <td>3.152472</td>\n",
       "      <td>ms</td>\n",
       "    </tr>\n",
       "    <tr>\n",
       "      <th>1</th>\n",
       "      <td>15.379834</td>\n",
       "      <td>15.053143</td>\n",
       "      <td>8.764925</td>\n",
       "      <td>16.539648</td>\n",
       "      <td>11.803099</td>\n",
       "      <td>14.081771</td>\n",
       "      <td>6.939545</td>\n",
       "      <td>16.653606</td>\n",
       "      <td>17.968536</td>\n",
       "      <td>10.570490</td>\n",
       "      <td>...</td>\n",
       "      <td>1.526316</td>\n",
       "      <td>1.144737</td>\n",
       "      <td>1.355263</td>\n",
       "      <td>1.447368</td>\n",
       "      <td>1.657895</td>\n",
       "      <td>1.460526</td>\n",
       "      <td>1.618421</td>\n",
       "      <td>1.565789</td>\n",
       "      <td>3.384429</td>\n",
       "      <td>ms</td>\n",
       "    </tr>\n",
       "    <tr>\n",
       "      <th>2</th>\n",
       "      <td>20.370230</td>\n",
       "      <td>14.767954</td>\n",
       "      <td>17.956064</td>\n",
       "      <td>19.209180</td>\n",
       "      <td>16.895640</td>\n",
       "      <td>13.473179</td>\n",
       "      <td>11.476377</td>\n",
       "      <td>19.414162</td>\n",
       "      <td>19.302838</td>\n",
       "      <td>14.640634</td>\n",
       "      <td>...</td>\n",
       "      <td>1.644737</td>\n",
       "      <td>1.092105</td>\n",
       "      <td>1.342105</td>\n",
       "      <td>1.421053</td>\n",
       "      <td>1.644737</td>\n",
       "      <td>1.460526</td>\n",
       "      <td>1.565789</td>\n",
       "      <td>1.486842</td>\n",
       "      <td>3.079077</td>\n",
       "      <td>ms</td>\n",
       "    </tr>\n",
       "    <tr>\n",
       "      <th>3</th>\n",
       "      <td>18.350076</td>\n",
       "      <td>17.712715</td>\n",
       "      <td>10.683727</td>\n",
       "      <td>16.155753</td>\n",
       "      <td>12.640386</td>\n",
       "      <td>15.522073</td>\n",
       "      <td>12.730161</td>\n",
       "      <td>21.097650</td>\n",
       "      <td>18.544670</td>\n",
       "      <td>12.890302</td>\n",
       "      <td>...</td>\n",
       "      <td>1.552632</td>\n",
       "      <td>1.092105</td>\n",
       "      <td>1.197368</td>\n",
       "      <td>1.342105</td>\n",
       "      <td>1.526316</td>\n",
       "      <td>1.460526</td>\n",
       "      <td>1.407895</td>\n",
       "      <td>1.486842</td>\n",
       "      <td>3.029070</td>\n",
       "      <td>ms</td>\n",
       "    </tr>\n",
       "    <tr>\n",
       "      <th>4</th>\n",
       "      <td>19.878999</td>\n",
       "      <td>20.705387</td>\n",
       "      <td>16.227605</td>\n",
       "      <td>22.664699</td>\n",
       "      <td>16.868130</td>\n",
       "      <td>17.093917</td>\n",
       "      <td>13.377150</td>\n",
       "      <td>19.524878</td>\n",
       "      <td>19.175979</td>\n",
       "      <td>15.947954</td>\n",
       "      <td>...</td>\n",
       "      <td>1.578947</td>\n",
       "      <td>1.052632</td>\n",
       "      <td>1.342105</td>\n",
       "      <td>1.407895</td>\n",
       "      <td>1.631579</td>\n",
       "      <td>1.578947</td>\n",
       "      <td>1.473684</td>\n",
       "      <td>1.434211</td>\n",
       "      <td>2.998180</td>\n",
       "      <td>ms</td>\n",
       "    </tr>\n",
       "  </tbody>\n",
       "</table>\n",
       "<p>5 rows × 203 columns</p>\n",
       "</div>"
      ],
      "text/plain": [
       "     Column1    Column2    Column3    Column4    Column5    Column6  \\\n",
       "0  18.850784  16.402654  18.809981  18.661708  17.556558  12.513008   \n",
       "1  15.379834  15.053143   8.764925  16.539648  11.803099  14.081771   \n",
       "2  20.370230  14.767954  17.956064  19.209180  16.895640  13.473179   \n",
       "3  18.350076  17.712715  10.683727  16.155753  12.640386  15.522073   \n",
       "4  19.878999  20.705387  16.227605  22.664699  16.868130  17.093917   \n",
       "\n",
       "     Column7    Column8    Column9   Column10    ...      Column194  \\\n",
       "0  12.394331  19.063928  18.213575  14.936953    ...       1.657895   \n",
       "1   6.939545  16.653606  17.968536  10.570490    ...       1.526316   \n",
       "2  11.476377  19.414162  19.302838  14.640634    ...       1.644737   \n",
       "3  12.730161  21.097650  18.544670  12.890302    ...       1.552632   \n",
       "4  13.377150  19.524878  19.175979  15.947954    ...       1.578947   \n",
       "\n",
       "   Column195  Column196  Column197  Column198  Column199  Column200  \\\n",
       "0   1.052632   1.236842   1.447368   1.592105   1.434211   1.526316   \n",
       "1   1.144737   1.355263   1.447368   1.657895   1.460526   1.618421   \n",
       "2   1.092105   1.342105   1.421053   1.644737   1.460526   1.565789   \n",
       "3   1.092105   1.197368   1.342105   1.526316   1.460526   1.407895   \n",
       "4   1.052632   1.342105   1.407895   1.631579   1.578947   1.473684   \n",
       "\n",
       "   Column201  Column202  Column203  \n",
       "0   1.434211   3.152472         ms  \n",
       "1   1.565789   3.384429         ms  \n",
       "2   1.486842   3.079077         ms  \n",
       "3   1.486842   3.029070         ms  \n",
       "4   1.434211   2.998180         ms  \n",
       "\n",
       "[5 rows x 203 columns]"
      ]
     },
     "execution_count": 2,
     "metadata": {},
     "output_type": "execute_result"
    }
   ],
   "source": [
    "# Load the csv brain data with the significant variables\n",
    "data = pd.read_csv(\"FAMatrixSignificantData.csv\") \n",
    "\n",
    "# Shuffle the data\n",
    "data = shuffle(data, random_state=0).reset_index(drop=True)\n",
    "data.head()"
   ]
  },
  {
   "cell_type": "code",
   "execution_count": 3,
   "metadata": {},
   "outputs": [
    {
     "name": "stdout",
     "output_type": "stream",
     "text": [
      "Properties dimensions:  (239, 202)\n",
      "Classes dimensions:  (239,)\n",
      "There are 2 classes: ['hv', 'ms']\n"
     ]
    }
   ],
   "source": [
    "# Separate the dataframe into nodes_properties (x) and classes (y)\n",
    "nodes_properties = data.iloc[:,0:len(data.columns)-1]\n",
    "print('Properties dimensions: ', nodes_properties.shape)\n",
    "\n",
    "classes = data.iloc[:,len(data.columns)-1]\n",
    "classes_names = [\"hv\", \"ms\"]\n",
    "n_classes = len(classes_names)\n",
    "print('Classes dimensions: ', classes.shape)\n",
    "print('There are {} classes: {}'.format(n_classes, classes_names))"
   ]
  },
  {
   "cell_type": "code",
   "execution_count": 4,
   "metadata": {},
   "outputs": [],
   "source": [
    "# Divide the dataframe in the test and train sets, with 80% of the data in the train group and 20% in the test set.\n",
    "# We will stratify using classes, so that there is the same proportion of each class in the test/train sets as in the original\n",
    "# dataset\n",
    "X_train, X_test, y_train, y_test = train_test_split(nodes_properties, classes, test_size=0.2, random_state=2019, stratify=classes)\n"
   ]
  },
  {
   "cell_type": "code",
   "execution_count": 5,
   "metadata": {},
   "outputs": [
    {
     "name": "stdout",
     "output_type": "stream",
     "text": [
      "X_train dimensions:  (191, 202)\n",
      "y_train dimensions:  (191,)\n",
      "X_test dimensions:  (48, 202)\n",
      "y_test dimensions:  (48,)\n"
     ]
    }
   ],
   "source": [
    "print('X_train dimensions: ', X_train.shape)\n",
    "print('y_train dimensions: ', y_train.shape)\n",
    "\n",
    "print('X_test dimensions: ', X_test.shape)\n",
    "print('y_test dimensions: ', y_test.shape)"
   ]
  },
  {
   "cell_type": "markdown",
   "metadata": {},
   "source": [
    "# K-NN"
   ]
  },
  {
   "cell_type": "markdown",
   "metadata": {},
   "source": [
    "#### Hyperparameter tuning"
   ]
  },
  {
   "cell_type": "code",
   "execution_count": 6,
   "metadata": {},
   "outputs": [
    {
     "name": "stdout",
     "output_type": "stream",
     "text": [
      "The search took 3.181504011154175 seconds\n",
      " \n",
      "Rank : 1. Mean accuracy 84.8183 +/- 4.7384. Parameters: {'n_neighbors': 14, 'weights': 'distance'}\n"
     ]
    }
   ],
   "source": [
    "# First of all, create the classifier\n",
    "knn = KNeighborsClassifier()\n",
    "\n",
    "# Then, the hyperparameters to be optimized are defined \n",
    "# k = number of nearest neighbours considered\n",
    "# weights = weight function used in prediction. If it is 'uniform', all the neighbours will have the same importance. If it is \n",
    "# 'distance', closer neighbours will have more influence. \n",
    "\n",
    "k_range = list(range(1, 21))\n",
    "weight_names = ['uniform', 'distance']\n",
    "\n",
    "param_grid = dict(n_neighbors=k_range, weights = weight_names)\n",
    "\n",
    "# Now create the grid search with 4 folds for cross-validation\n",
    "grid = GridSearchCV(knn, param_grid, cv=4, iid=False)\n",
    "\n",
    "# Apply the grid to the data checking the time \n",
    "start = time()\n",
    "grid.fit(X_train, y_train)\n",
    "end = time()\n",
    "\n",
    "# Check the results\n",
    "print(\"The search took {} seconds\".format(end - start))\n",
    "print(\" \")\n",
    "\n",
    "ranks = list(grid.cv_results_['rank_test_score'])\n",
    "means = list(grid.cv_results_[\"mean_test_score\"])\n",
    "stds = list(grid.cv_results_[\"std_test_score\"])\n",
    "params = list(grid.cv_results_['params'])\n",
    "\n",
    "results = zip (ranks, means, stds, params)\n",
    "for rank, mean, std, params in results:\n",
    "    if rank == 1: #If the rank of the result is one, print it\n",
    "        print(\"Rank : {}. Mean accuracy {:.4f} +/- {:.4f}. Parameters: {}\".format(rank, mean*100, std*100, params))\n"
   ]
  },
  {
   "cell_type": "markdown",
   "metadata": {},
   "source": [
    "##### Model training with best parameters"
   ]
  },
  {
   "cell_type": "code",
   "execution_count": 7,
   "metadata": {},
   "outputs": [
    {
     "name": "stdout",
     "output_type": "stream",
     "text": [
      "K-NN Algorithm results\n",
      "-----------------------\n",
      "Optimal k: 14\n",
      "Optimal weights: distance\n",
      "Accuracy in the test set with the optimal parameters: 75.00%\n"
     ]
    }
   ],
   "source": [
    "# First create and fit the model with the best hyperparameters\n",
    "knn = KNeighborsClassifier(n_neighbors=grid.best_params_[\"n_neighbors\"], weights=grid.best_params_[\"weights\"])\n",
    "\n",
    "knn.fit(X_train, y_train)\n",
    "\n",
    "# Predict the test values\n",
    "y_predicted = knn.predict(X_test)\n",
    "\n",
    "# Get the accuracy of the model\n",
    "accuracy = accuracy_score(y_test, y_predicted)\n",
    "\n",
    "# Print the results\n",
    "print(\"K-NN Algorithm results\")\n",
    "print(\"-----------------------\")\n",
    "print(\"Optimal k: {}\".format(grid.best_params_[\"n_neighbors\"]))\n",
    "print(\"Optimal weights: {}\".format(grid.best_params_[\"weights\"]))\n",
    "print(\"Accuracy in the test set with the optimal parameters: {:.2f}%\".format(accuracy*100))"
   ]
  },
  {
   "cell_type": "code",
   "execution_count": 8,
   "metadata": {},
   "outputs": [],
   "source": [
    "# Confusion matrix plot function\n",
    "def plot_confusion_matrix(cm, classes,\n",
    "                          title='Confusion matrix',\n",
    "                          cmap=plt.cm.Blues):\n",
    "    cm = cm.astype('float') / cm.sum(axis=1)[:, np.newaxis]\n",
    "    plt.imshow(cm, interpolation='nearest', cmap=cmap)\n",
    "    plt.title(title)\n",
    "    plt.colorbar()\n",
    "    tick_marks = np.arange(len(classes))\n",
    "    plt.xticks(tick_marks, classes, rotation=45)\n",
    "    plt.yticks(tick_marks, classes)\n",
    "\n",
    "    fmt = '.2f'\n",
    "    thresh = cm.max() / 2.\n",
    "    for i, j in itertools.product(range(cm.shape[0]), range(cm.shape[1])):\n",
    "        plt.text(j, i, format(cm[i, j], fmt),\n",
    "                 horizontalalignment=\"center\",\n",
    "                 color=\"white\" if cm[i, j] > thresh else \"black\")\n",
    "\n",
    "    plt.ylabel('True label')\n",
    "    plt.xlabel('Predicted label')\n",
    "    plt.tight_layout()"
   ]
  },
  {
   "cell_type": "markdown",
   "metadata": {},
   "source": [
    "##### Confusion matrix"
   ]
  },
  {
   "cell_type": "code",
   "execution_count": 9,
   "metadata": {},
   "outputs": [
    {
     "name": "stdout",
     "output_type": "stream",
     "text": [
      "[[ 2  7]\n",
      " [ 5 34]]\n"
     ]
    },
    {
     "data": {
      "image/png": "[encoded data removed]",
      "text/plain": [
       "<Figure size 432x288 with 2 Axes>"
      ]
     },
     "metadata": {
      "needs_background": "light"
     },
     "output_type": "display_data"
    }
   ],
   "source": [
    "conf_matrix = confusion_matrix(y_test, y_predicted)\n",
    "print(conf_matrix)\n",
    "\n",
    "# Plot confusion matrix\n",
    "plt.figure()\n",
    "plot_confusion_matrix(conf_matrix, classes=classes_names,\n",
    "                      title='Matriz de confusión')"
   ]
  },
  {
   "cell_type": "markdown",
   "metadata": {},
   "source": [
    "# SVM"
   ]
  },
  {
   "cell_type": "markdown",
   "metadata": {},
   "source": [
    " ##### Hyperparameter tuning"
   ]
  },
  {
   "cell_type": "code",
   "execution_count": 10,
   "metadata": {},
   "outputs": [
    {
     "name": "stdout",
     "output_type": "stream",
     "text": [
      "The search took 9.802473068237305 seconds\n",
      " \n",
      "Rank : 1. Mean accuracy 81.1518 +/- 0.1718. Parameters: {'C': 89.44181231690317, 'gamma': 0.0636904189190477}\n",
      "Rank : 1. Mean accuracy 81.1518 +/- 0.1718. Parameters: {'C': 68.89346874973006, 'gamma': 0.14212943642873654}\n",
      "Rank : 1. Mean accuracy 81.1518 +/- 0.1718. Parameters: {'C': 16.833140582132053, 'gamma': 0.8034954329307321}\n",
      "Rank : 1. Mean accuracy 81.1518 +/- 0.1718. Parameters: {'C': 38.464252066393556, 'gamma': 0.04012560318219538}\n",
      "Rank : 1. Mean accuracy 81.1518 +/- 0.1718. Parameters: {'C': 12.423143005739833, 'gamma': 0.5158635533564009}\n",
      "Rank : 1. Mean accuracy 81.1518 +/- 0.1718. Parameters: {'C': 31.271323574773103, 'gamma': 0.24925908655470452}\n",
      "Rank : 1. Mean accuracy 81.1518 +/- 0.1718. Parameters: {'C': 42.77815956053846, 'gamma': 0.8777513337137806}\n",
      "Rank : 1. Mean accuracy 81.1518 +/- 0.1718. Parameters: {'C': 31.336571993075346, 'gamma': 0.8187887252352003}\n",
      "Rank : 1. Mean accuracy 81.1518 +/- 0.1718. Parameters: {'C': 77.94374292755022, 'gamma': 0.20355996057025005}\n",
      "Rank : 1. Mean accuracy 81.1518 +/- 0.1718. Parameters: {'C': 99.07581842038246, 'gamma': 0.7897821340779508}\n",
      "Rank : 1. Mean accuracy 81.1518 +/- 0.1718. Parameters: {'C': 100.13727499251794, 'gamma': 0.13952983191139412}\n",
      "Rank : 1. Mean accuracy 81.1518 +/- 0.1718. Parameters: {'C': 26.117604314919284, 'gamma': 0.4339356786794569}\n",
      "Rank : 1. Mean accuracy 81.1518 +/- 0.1718. Parameters: {'C': 83.34535557447741, 'gamma': 0.631468026499731}\n",
      "Rank : 1. Mean accuracy 81.1518 +/- 0.1718. Parameters: {'C': 7.660879967968125, 'gamma': 0.47070001660003713}\n",
      "Rank : 1. Mean accuracy 81.1518 +/- 0.1718. Parameters: {'C': 80.91040022553378, 'gamma': 0.8647755190214013}\n",
      "Rank : 1. Mean accuracy 81.1518 +/- 0.1718. Parameters: {'C': 14.669739900956179, 'gamma': 0.48971956452326404}\n",
      "Rank : 1. Mean accuracy 81.1518 +/- 0.1718. Parameters: {'C': 74.86697599764398, 'gamma': 0.4475127097507515}\n",
      "Rank : 1. Mean accuracy 81.1518 +/- 0.1718. Parameters: {'C': 74.4684654558514, 'gamma': 0.6053659989448081}\n",
      "Rank : 1. Mean accuracy 81.1518 +/- 0.1718. Parameters: {'C': 36.295132219426584, 'gamma': 0.5160456482817574}\n",
      "Rank : 1. Mean accuracy 81.1518 +/- 0.1718. Parameters: {'C': 17.69662048299466, 'gamma': 0.06082379349345857}\n",
      "Rank : 1. Mean accuracy 81.1518 +/- 0.1718. Parameters: {'C': 9.882589750739688, 'gamma': 0.61553056818933}\n",
      "Rank : 1. Mean accuracy 81.1518 +/- 0.1718. Parameters: {'C': 3.606377248166991, 'gamma': 0.7898912144883021}\n",
      "Rank : 1. Mean accuracy 81.1518 +/- 0.1718. Parameters: {'C': 33.285741698742385, 'gamma': 0.19959486528197046}\n",
      "Rank : 1. Mean accuracy 81.1518 +/- 0.1718. Parameters: {'C': 40.285267978875524, 'gamma': 0.7440387585046112}\n",
      "Rank : 1. Mean accuracy 81.1518 +/- 0.1718. Parameters: {'C': 34.16574196564561, 'gamma': 0.0026096513321920414}\n",
      "Rank : 1. Mean accuracy 81.1518 +/- 0.1718. Parameters: {'C': 28.302393369458187, 'gamma': 0.26552037242531834}\n",
      "Rank : 1. Mean accuracy 81.1518 +/- 0.1718. Parameters: {'C': 40.40749306485129, 'gamma': 0.66067732608023}\n",
      "Rank : 1. Mean accuracy 81.1518 +/- 0.1718. Parameters: {'C': 86.42533923054407, 'gamma': 0.6799614123437175}\n",
      "Rank : 1. Mean accuracy 81.1518 +/- 0.1718. Parameters: {'C': 87.90085600828087, 'gamma': 0.9877044349490944}\n",
      "Rank : 1. Mean accuracy 81.1518 +/- 0.1718. Parameters: {'C': 67.36024658628673, 'gamma': 0.10730597945683318}\n",
      "Rank : 1. Mean accuracy 81.1518 +/- 0.1718. Parameters: {'C': 81.98126960237224, 'gamma': 0.5231305029053894}\n",
      "Rank : 1. Mean accuracy 81.1518 +/- 0.1718. Parameters: {'C': 6.782596626693159, 'gamma': 0.9849113604825411}\n",
      "Rank : 1. Mean accuracy 81.1518 +/- 0.1718. Parameters: {'C': 97.45099701379722, 'gamma': 0.8718475890933415}\n",
      "Rank : 1. Mean accuracy 81.1518 +/- 0.1718. Parameters: {'C': 10.113898621350035, 'gamma': 0.09680667744146643}\n",
      "Rank : 1. Mean accuracy 81.1518 +/- 0.1718. Parameters: {'C': 32.065956730431736, 'gamma': 0.5648270172286374}\n",
      "Rank : 1. Mean accuracy 81.1518 +/- 0.1718. Parameters: {'C': 2.783788866753999, 'gamma': 0.6942852228116142}\n",
      "Rank : 1. Mean accuracy 81.1518 +/- 0.1718. Parameters: {'C': 44.51151177020254, 'gamma': 0.6400624661195256}\n",
      "Rank : 1. Mean accuracy 81.1518 +/- 0.1718. Parameters: {'C': 88.1033497903295, 'gamma': 0.7949184289592822}\n",
      "Rank : 1. Mean accuracy 81.1518 +/- 0.1718. Parameters: {'C': 22.196279186012358, 'gamma': 0.19011456481515743}\n",
      "Rank : 1. Mean accuracy 81.1518 +/- 0.1718. Parameters: {'C': 28.89102855223654, 'gamma': 0.2535482109114263}\n",
      "Rank : 1. Mean accuracy 81.1518 +/- 0.1718. Parameters: {'C': 4.0268121998719755, 'gamma': 0.9764414770955616}\n",
      "Rank : 1. Mean accuracy 81.1518 +/- 0.1718. Parameters: {'C': 33.89525882429531, 'gamma': 0.8073034826660938}\n",
      "Rank : 1. Mean accuracy 81.1518 +/- 0.1718. Parameters: {'C': 86.24581596463358, 'gamma': 0.7106638140742882}\n",
      "Rank : 1. Mean accuracy 81.1518 +/- 0.1718. Parameters: {'C': 89.8568731769086, 'gamma': 0.776500134487068}\n",
      "Rank : 1. Mean accuracy 81.1518 +/- 0.1718. Parameters: {'C': 72.05189378632075, 'gamma': 0.796140780116271}\n",
      "Rank : 1. Mean accuracy 81.1518 +/- 0.1718. Parameters: {'C': 43.609741365529906, 'gamma': 0.9645533155071375}\n",
      "Rank : 1. Mean accuracy 81.1518 +/- 0.1718. Parameters: {'C': 26.843348957907118, 'gamma': 0.020113335357307083}\n",
      "Rank : 1. Mean accuracy 81.1518 +/- 0.1718. Parameters: {'C': 17.606102126834433, 'gamma': 0.5680188549409776}\n",
      "Rank : 1. Mean accuracy 81.1518 +/- 0.1718. Parameters: {'C': 73.19595728742803, 'gamma': 0.851154686450353}\n",
      "Rank : 1. Mean accuracy 81.1518 +/- 0.1718. Parameters: {'C': 70.96190260757088, 'gamma': 0.5284891056280413}\n",
      "Rank : 1. Mean accuracy 81.1518 +/- 0.1718. Parameters: {'C': 100.02188370259985, 'gamma': 0.6886813081036717}\n",
      "Rank : 1. Mean accuracy 81.1518 +/- 0.1718. Parameters: {'C': 47.06116922999046, 'gamma': 0.15344493850702023}\n",
      "Rank : 1. Mean accuracy 81.1518 +/- 0.1718. Parameters: {'C': 70.4354300476568, 'gamma': 0.2872946270000437}\n",
      "Rank : 1. Mean accuracy 81.1518 +/- 0.1718. Parameters: {'C': 94.22220319449511, 'gamma': 0.7936409555068046}\n",
      "Rank : 1. Mean accuracy 81.1518 +/- 0.1718. Parameters: {'C': 19.799681428015347, 'gamma': 0.22174180638872643}\n",
      "Rank : 1. Mean accuracy 81.1518 +/- 0.1718. Parameters: {'C': 33.88682832798909, 'gamma': 0.7660057237972717}\n",
      "Rank : 1. Mean accuracy 81.1518 +/- 0.1718. Parameters: {'C': 14.199819222006838, 'gamma': 0.861627876411399}\n",
      "Rank : 1. Mean accuracy 81.1518 +/- 0.1718. Parameters: {'C': 17.045443435849183, 'gamma': 0.06809690078828812}\n",
      "Rank : 1. Mean accuracy 81.1518 +/- 0.1718. Parameters: {'C': 40.2640247400001, 'gamma': 0.10603198958536764}\n",
      "Rank : 1. Mean accuracy 81.1518 +/- 0.1718. Parameters: {'C': 100.6395068182509, 'gamma': 0.9252336065783319}\n",
      "Rank : 1. Mean accuracy 81.1518 +/- 0.1718. Parameters: {'C': 67.74204564910359, 'gamma': 0.3749128125696005}\n",
      "Rank : 1. Mean accuracy 81.1518 +/- 0.1718. Parameters: {'C': 80.07486112050485, 'gamma': 0.6839874699358105}\n",
      "Rank : 1. Mean accuracy 81.1518 +/- 0.1718. Parameters: {'C': 85.78935762433177, 'gamma': 0.08088525505902977}\n",
      "Rank : 1. Mean accuracy 81.1518 +/- 0.1718. Parameters: {'C': 91.9487107602445, 'gamma': 0.05235827522218284}\n",
      "Rank : 1. Mean accuracy 81.1518 +/- 0.1718. Parameters: {'C': 4.139449910657943, 'gamma': 0.3405999461700643}\n",
      "Rank : 1. Mean accuracy 81.1518 +/- 0.1718. Parameters: {'C': 83.89841776019527, 'gamma': 0.6939144775041445}\n",
      "Rank : 1. Mean accuracy 81.1518 +/- 0.1718. Parameters: {'C': 87.38217464153978, 'gamma': 0.8610026863911361}\n",
      "Rank : 1. Mean accuracy 81.1518 +/- 0.1718. Parameters: {'C': 30.118975490094236, 'gamma': 0.6705916060913191}\n",
      "Rank : 1. Mean accuracy 81.1518 +/- 0.1718. Parameters: {'C': 79.32215258779863, 'gamma': 0.6749113737568709}\n",
      "Rank : 1. Mean accuracy 81.1518 +/- 0.1718. Parameters: {'C': 31.85470884308932, 'gamma': 0.46811953308802623}\n",
      "Rank : 1. Mean accuracy 81.1518 +/- 0.1718. Parameters: {'C': 13.213273127438374, 'gamma': 0.24540573156990053}\n",
      "Rank : 1. Mean accuracy 81.1518 +/- 0.1718. Parameters: {'C': 45.023485130449025, 'gamma': 0.8470714412343933}\n",
      "Rank : 1. Mean accuracy 81.1518 +/- 0.1718. Parameters: {'C': 4.823893421721003, 'gamma': 0.2764403930655377}\n",
      "Rank : 1. Mean accuracy 81.1518 +/- 0.1718. Parameters: {'C': 15.844788738444514, 'gamma': 0.672233923116294}\n",
      "Rank : 1. Mean accuracy 81.1518 +/- 0.1718. Parameters: {'C': 94.53960439262083, 'gamma': 0.5066130265587225}\n",
      "Rank : 1. Mean accuracy 81.1518 +/- 0.1718. Parameters: {'C': 29.071659416954176, 'gamma': 0.10472394583376177}\n",
      "Rank : 1. Mean accuracy 81.1518 +/- 0.1718. Parameters: {'C': 26.5534341315347, 'gamma': 0.9156671332979287}\n",
      "Rank : 1. Mean accuracy 81.1518 +/- 0.1718. Parameters: {'C': 75.03330778940843, 'gamma': 0.028681688681394868}\n",
      "Rank : 1. Mean accuracy 81.1518 +/- 0.1718. Parameters: {'C': 88.8124505452274, 'gamma': 0.7093409228432311}\n",
      "Rank : 1. Mean accuracy 81.1518 +/- 0.1718. Parameters: {'C': 8.668790197583919, 'gamma': 0.15123890165808673}\n",
      "Rank : 1. Mean accuracy 81.1518 +/- 0.1718. Parameters: {'C': 41.43210207590581, 'gamma': 0.9375462160947726}\n",
      "Rank : 1. Mean accuracy 81.1518 +/- 0.1718. Parameters: {'C': 84.86517292676413, 'gamma': 0.2711515929532563}\n",
      "Rank : 1. Mean accuracy 81.1518 +/- 0.1718. Parameters: {'C': 30.73720649151179, 'gamma': 0.18075501899118462}\n",
      "Rank : 1. Mean accuracy 81.1518 +/- 0.1718. Parameters: {'C': 17.82975005638212, 'gamma': 0.6113670265329822}\n",
      "Rank : 1. Mean accuracy 81.1518 +/- 0.1718. Parameters: {'C': 98.61901489071984, 'gamma': 0.008272144963670569}\n",
      "Rank : 1. Mean accuracy 81.1518 +/- 0.1718. Parameters: {'C': 61.47624758252484, 'gamma': 0.7985532301687307}\n",
      "Rank : 1. Mean accuracy 81.1518 +/- 0.1718. Parameters: {'C': 1.2713711103762284, 'gamma': 0.6531342212531983}\n",
      "Rank : 1. Mean accuracy 81.1518 +/- 0.1718. Parameters: {'C': 35.33030723830138, 'gamma': 0.7159890689210219}\n",
      "Rank : 1. Mean accuracy 81.1518 +/- 0.1718. Parameters: {'C': 72.39787427335675, 'gamma': 0.2389322099844866}\n",
      "Rank : 1. Mean accuracy 81.1518 +/- 0.1718. Parameters: {'C': 99.94108550336883, 'gamma': 0.6823855076115772}\n",
      "Rank : 1. Mean accuracy 81.1518 +/- 0.1718. Parameters: {'C': 77.8516107085894, 'gamma': 0.4546314960497585}\n",
      "Rank : 1. Mean accuracy 81.1518 +/- 0.1718. Parameters: {'C': 24.131925350548478, 'gamma': 0.3517331243838223}\n",
      "Rank : 1. Mean accuracy 81.1518 +/- 0.1718. Parameters: {'C': 17.115480749046686, 'gamma': 0.7652007537937993}\n",
      "Rank : 1. Mean accuracy 81.1518 +/- 0.1718. Parameters: {'C': 35.12014831373469, 'gamma': 0.42485401349085516}\n",
      "Rank : 1. Mean accuracy 81.1518 +/- 0.1718. Parameters: {'C': 30.5075745278349, 'gamma': 0.20188436001563226}\n",
      "Rank : 1. Mean accuracy 81.1518 +/- 0.1718. Parameters: {'C': 66.75578522615663, 'gamma': 0.03220762952207046}\n",
      "Rank : 1. Mean accuracy 81.1518 +/- 0.1718. Parameters: {'C': 71.29838569198907, 'gamma': 0.6290711884322933}\n",
      "Rank : 1. Mean accuracy 81.1518 +/- 0.1718. Parameters: {'C': 99.96990888777665, 'gamma': 0.6307285754094972}\n",
      "Rank : 1. Mean accuracy 81.1518 +/- 0.1718. Parameters: {'C': 74.86732562719158, 'gamma': 0.9232085118587802}\n",
      "Rank : 1. Mean accuracy 81.1518 +/- 0.1718. Parameters: {'C': 58.71562445039512, 'gamma': 0.07481855149176186}\n"
     ]
    }
   ],
   "source": [
    "# Create the classifier\n",
    "svm_clasif = SVC(random_state = 1)\n",
    "\n",
    "# Define the hyperparameters to be optimized\n",
    "param_dist = dict(C=uniform(1, 100), gamma=uniform(0.001, 1))\n",
    "\n",
    "# Now create the randomnized search with 4 folds for cross-validation\n",
    "num_iterations = 100\n",
    "cv = StratifiedKFold(n_splits=4, shuffle=True)\n",
    "rand = RandomizedSearchCV(svm_clasif, param_distributions = param_dist, cv=cv, n_iter=num_iterations)\n",
    "\n",
    "# Apply the search to the data checking the time \n",
    "start = time()\n",
    "rand.fit(X_train, y_train)\n",
    "end = time()\n",
    "\n",
    "# Check the results\n",
    "print(\"The search took {} seconds\".format(end - start))\n",
    "print(\" \")\n",
    "\n",
    "ranks = list(rand.cv_results_['rank_test_score'])\n",
    "means = list(rand.cv_results_[\"mean_test_score\"])\n",
    "stds = list(rand.cv_results_[\"std_test_score\"])\n",
    "params = list(rand.cv_results_['params'])\n",
    "\n",
    "results = zip (ranks, means, stds, params)\n",
    "for rank, mean, std, params in results:\n",
    "    if rank == 1: #If the rank of the result is one, print it\n",
    "        print(\"Rank : {}. Mean accuracy {:.4f} +/- {:.4f}. Parameters: {}\".format(rank, mean*100, std*100, params))"
   ]
  },
  {
   "cell_type": "markdown",
   "metadata": {},
   "source": [
    "#### Train model with best parameters"
   ]
  },
  {
   "cell_type": "code",
   "execution_count": 11,
   "metadata": {},
   "outputs": [
    {
     "name": "stdout",
     "output_type": "stream",
     "text": [
      "SVM Algorithm results\n",
      "-----------------------\n",
      "Optimal C: 89.44181231690317\n",
      "Optimal gamma: 0.0636904189190477\n",
      "Accuracy in the test set with the optimal parameters: 81.25%\n"
     ]
    }
   ],
   "source": [
    "# Create and fit the model with the best hyperparameters\n",
    "svm_clasif = SVC(C=rand.best_params_[\"C\"], gamma=rand.best_params_[\"gamma\"])\n",
    "svm_clasif.fit(X_train, y_train)\n",
    "\n",
    "# Predict the test values\n",
    "y_predicted = svm_clasif.predict(X_test)\n",
    "\n",
    "# Get the accuracy of the model\n",
    "accuracy = accuracy_score(y_test, y_predicted)\n",
    "\n",
    "# Print the results\n",
    "print(\"SVM Algorithm results\")\n",
    "print(\"-----------------------\")\n",
    "print(\"Optimal C: {}\".format(rand.best_params_[\"C\"]))\n",
    "print(\"Optimal gamma: {}\".format(rand.best_params_[\"gamma\"]))\n",
    "print(\"Accuracy in the test set with the optimal parameters: {:.2f}%\".format(accuracy*100))"
   ]
  },
  {
   "cell_type": "markdown",
   "metadata": {},
   "source": [
    "#### Confusion matrix"
   ]
  },
  {
   "cell_type": "code",
   "execution_count": 12,
   "metadata": {},
   "outputs": [
    {
     "name": "stdout",
     "output_type": "stream",
     "text": [
      "[[ 0  9]\n",
      " [ 0 39]]\n"
     ]
    },
    {
     "data": {
      "image/png": "[encoded data removed]",
      "text/plain": [
       "<Figure size 432x288 with 2 Axes>"
      ]
     },
     "metadata": {
      "needs_background": "light"
     },
     "output_type": "display_data"
    }
   ],
   "source": [
    "conf_matrix = confusion_matrix(y_test, y_predicted)\n",
    "print(conf_matrix)\n",
    "\n",
    "# Plot confusion matrix\n",
    "plt.figure()\n",
    "plot_confusion_matrix(conf_matrix, classes=classes_names,\n",
    "                      title='Matriz de confusión')"
   ]
  },
  {
   "cell_type": "markdown",
   "metadata": {},
   "source": [
    "# Random Forest"
   ]
  },
  {
   "cell_type": "markdown",
   "metadata": {},
   "source": [
    "#### Hyperparameter tuning"
   ]
  },
  {
   "cell_type": "code",
   "execution_count": 17,
   "metadata": {},
   "outputs": [
    {
     "name": "stdout",
     "output_type": "stream",
     "text": [
      "The search took 123.60973000526428 seconds\n",
      " \n",
      "Rank : 1. Mean accuracy 82.1919 +/- 1.1501. Parameters: {'max_depth': 11, 'n_estimators': 51}\n",
      "Rank : 1. Mean accuracy 82.1919 +/- 1.1501. Parameters: {'max_depth': 21, 'n_estimators': 51}\n",
      "Rank : 1. Mean accuracy 82.1919 +/- 1.1501. Parameters: {'max_depth': 31, 'n_estimators': 51}\n",
      "Rank : 1. Mean accuracy 82.1919 +/- 1.1501. Parameters: {'max_depth': 41, 'n_estimators': 51}\n",
      "Rank : 1. Mean accuracy 82.1919 +/- 1.1501. Parameters: {'max_depth': 51, 'n_estimators': 51}\n",
      "Rank : 1. Mean accuracy 82.1919 +/- 1.1501. Parameters: {'max_depth': 61, 'n_estimators': 51}\n",
      "Rank : 1. Mean accuracy 82.1919 +/- 1.1501. Parameters: {'max_depth': 71, 'n_estimators': 51}\n",
      "Rank : 1. Mean accuracy 82.1919 +/- 1.1501. Parameters: {'max_depth': 81, 'n_estimators': 51}\n",
      "Rank : 1. Mean accuracy 82.1919 +/- 1.1501. Parameters: {'max_depth': 91, 'n_estimators': 51}\n"
     ]
    }
   ],
   "source": [
    "# Create the classifier\n",
    "random_forest = RandomForestClassifier(random_state=0)\n",
    "\n",
    "# Define the hyperparameters to be optimized \n",
    "n_estimators = list(range(1, 61))\n",
    "max_depth = range(1, 100, 10)\n",
    "\n",
    "param_grid = dict(n_estimators=n_estimators, max_depth = max_depth)\n",
    "\n",
    "# Create the grid search with 4 folds for cross-validation\n",
    "grid = GridSearchCV(random_forest, param_grid, cv=4, iid=False)\n",
    "\n",
    "# Apply the grid to the data checking the time \n",
    "start = time()\n",
    "grid.fit(X_train, y_train)\n",
    "end = time()\n",
    "\n",
    "# Check the results\n",
    "print(\"The search took {} seconds\".format(end - start))\n",
    "print(\" \")\n",
    "\n",
    "ranks = list(grid.cv_results_['rank_test_score'])\n",
    "means = list(grid.cv_results_[\"mean_test_score\"])\n",
    "stds = list(grid.cv_results_[\"std_test_score\"])\n",
    "params = list(grid.cv_results_['params'])\n",
    "\n",
    "results = zip (ranks, means, stds, params)\n",
    "for rank, mean, std, params in results:\n",
    "    if rank == 1: #If the rank of the result is one, print it\n",
    "        print(\"Rank : {}. Mean accuracy {:.4f} +/- {:.4f}. Parameters: {}\".format(rank, mean*100, std*100, params))\n"
   ]
  },
  {
   "cell_type": "markdown",
   "metadata": {},
   "source": [
    "#### Train model with best hyperparameters"
   ]
  },
  {
   "cell_type": "code",
   "execution_count": 24,
   "metadata": {},
   "outputs": [
    {
     "name": "stdout",
     "output_type": "stream",
     "text": [
      "Random Forest Algorithm results\n",
      "-----------------------\n",
      "Optimal n_estimators: 51\n",
      "Optimal max_depth: 11\n",
      "Accuracy in the test set with the optimal parameters: 81.25%\n"
     ]
    }
   ],
   "source": [
    "# Create and fit the model with the best hyperparameters\n",
    "random_forest = RandomForestClassifier(random_state=0, n_estimators=grid.best_params_[\"n_estimators\"], max_depth=grid.best_params_[\"max_depth\"])\n",
    "random_forest.fit(X_train, y_train)\n",
    "\n",
    "# Predict the test values\n",
    "y_predicted = random_forest.predict(X_test)\n",
    "\n",
    "# Get the accuracy of the model\n",
    "accuracy = accuracy_score(y_test, y_predicted)\n",
    "\n",
    "# Print the results\n",
    "print(\"Random Forest Algorithm results\")\n",
    "print(\"-----------------------\")\n",
    "print(\"Optimal n_estimators: {}\".format(grid.best_params_[\"n_estimators\"]))\n",
    "print(\"Optimal max_depth: {}\".format(grid.best_params_[\"max_depth\"]))\n",
    "print(\"Accuracy in the test set with the optimal parameters: {:.2f}%\".format(accuracy*100))"
   ]
  },
  {
   "cell_type": "markdown",
   "metadata": {},
   "source": [
    "#### Confusion Matrix"
   ]
  },
  {
   "cell_type": "code",
   "execution_count": 28,
   "metadata": {},
   "outputs": [
    {
     "name": "stdout",
     "output_type": "stream",
     "text": [
      "[[ 1  8]\n",
      " [ 1 38]]\n"
     ]
    },
    {
     "data": {
      "image/png": "[encoded data removed]",
      "text/plain": [
       "<Figure size 432x288 with 2 Axes>"
      ]
     },
     "metadata": {
      "needs_background": "light"
     },
     "output_type": "display_data"
    }
   ],
   "source": [
    "conf_matrix = confusion_matrix(y_test, y_predicted)\n",
    "print(conf_matrix)\n",
    "\n",
    "# Plot confusion matrix\n",
    "plt.figure()\n",
    "plot_confusion_matrix(conf_matrix, classes=classes_names,\n",
    "                      title='Matriz de confusión')"
   ]
  },
  {
   "cell_type": "code",
   "execution_count": null,
   "metadata": {},
   "outputs": [],
   "source": []
  }
 ],
 "metadata": {
  "kernelspec": {
   "display_name": "Python 3",
   "language": "python",
   "name": "python3"
  },
  "language_info": {
   "codemirror_mode": {
    "name": "ipython",
    "version": 3
   },
   "file_extension": ".py",
   "mimetype": "text/x-python",
   "name": "python",
   "nbconvert_exporter": "python",
   "pygments_lexer": "ipython3",
   "version": "3.6.7"
  }
 },
 "nbformat": 4,
 "nbformat_minor": 2
}
