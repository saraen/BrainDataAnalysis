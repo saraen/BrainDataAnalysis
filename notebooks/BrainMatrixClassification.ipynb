{
 "cells": [
  {
   "cell_type": "code",
   "execution_count": 1,
   "metadata": {},
   "outputs": [],
   "source": [
    "# Imports\n",
    "import pandas as pd\n",
    "from sklearn.model_selection import train_test_split\n",
    "from sklearn.model_selection import GridSearchCV\n",
    "from sklearn.neighbors import KNeighborsClassifier\n",
    "from time import time\n",
    "import warnings; warnings.simplefilter('ignore')\n",
    "from sklearn.metrics import accuracy_score\n",
    "from sklearn.metrics import confusion_matrix"
   ]
  },
  {
   "cell_type": "code",
   "execution_count": 2,
   "metadata": {
    "scrolled": true
   },
   "outputs": [
    {
     "data": {
      "text/html": [
       "<div>\n",
       "<style scoped>\n",
       "    .dataframe tbody tr th:only-of-type {\n",
       "        vertical-align: middle;\n",
       "    }\n",
       "\n",
       "    .dataframe tbody tr th {\n",
       "        vertical-align: top;\n",
       "    }\n",
       "\n",
       "    .dataframe thead th {\n",
       "        text-align: right;\n",
       "    }\n",
       "</style>\n",
       "<table border=\"1\" class=\"dataframe\">\n",
       "  <thead>\n",
       "    <tr style=\"text-align: right;\">\n",
       "      <th></th>\n",
       "      <th>Column1</th>\n",
       "      <th>Column2</th>\n",
       "      <th>Column3</th>\n",
       "      <th>Column4</th>\n",
       "      <th>Column5</th>\n",
       "      <th>Column6</th>\n",
       "      <th>Column7</th>\n",
       "      <th>Column8</th>\n",
       "      <th>Column9</th>\n",
       "      <th>Column10</th>\n",
       "      <th>...</th>\n",
       "      <th>Column194</th>\n",
       "      <th>Column195</th>\n",
       "      <th>Column196</th>\n",
       "      <th>Column197</th>\n",
       "      <th>Column198</th>\n",
       "      <th>Column199</th>\n",
       "      <th>Column200</th>\n",
       "      <th>Column201</th>\n",
       "      <th>Column202</th>\n",
       "      <th>Column203</th>\n",
       "    </tr>\n",
       "  </thead>\n",
       "  <tbody>\n",
       "    <tr>\n",
       "      <th>0</th>\n",
       "      <td>19.783990</td>\n",
       "      <td>19.314470</td>\n",
       "      <td>19.142825</td>\n",
       "      <td>19.185161</td>\n",
       "      <td>13.499028</td>\n",
       "      <td>17.694012</td>\n",
       "      <td>8.756266</td>\n",
       "      <td>19.141286</td>\n",
       "      <td>19.187837</td>\n",
       "      <td>14.834598</td>\n",
       "      <td>...</td>\n",
       "      <td>1.486842</td>\n",
       "      <td>1.131579</td>\n",
       "      <td>1.276316</td>\n",
       "      <td>1.342105</td>\n",
       "      <td>1.605263</td>\n",
       "      <td>1.513158</td>\n",
       "      <td>1.421053</td>\n",
       "      <td>1.460526</td>\n",
       "      <td>2.978577</td>\n",
       "      <td>ms</td>\n",
       "    </tr>\n",
       "    <tr>\n",
       "      <th>1</th>\n",
       "      <td>16.733469</td>\n",
       "      <td>12.910102</td>\n",
       "      <td>11.812794</td>\n",
       "      <td>17.734108</td>\n",
       "      <td>11.060022</td>\n",
       "      <td>11.744588</td>\n",
       "      <td>7.687872</td>\n",
       "      <td>19.032041</td>\n",
       "      <td>14.390918</td>\n",
       "      <td>10.717530</td>\n",
       "      <td>...</td>\n",
       "      <td>1.657895</td>\n",
       "      <td>1.065789</td>\n",
       "      <td>1.289474</td>\n",
       "      <td>1.381579</td>\n",
       "      <td>1.657895</td>\n",
       "      <td>1.381579</td>\n",
       "      <td>1.552632</td>\n",
       "      <td>1.578947</td>\n",
       "      <td>3.625088</td>\n",
       "      <td>ms</td>\n",
       "    </tr>\n",
       "    <tr>\n",
       "      <th>2</th>\n",
       "      <td>18.424258</td>\n",
       "      <td>15.705767</td>\n",
       "      <td>16.174190</td>\n",
       "      <td>19.745516</td>\n",
       "      <td>15.631004</td>\n",
       "      <td>12.928705</td>\n",
       "      <td>9.509393</td>\n",
       "      <td>20.030737</td>\n",
       "      <td>17.674618</td>\n",
       "      <td>13.425871</td>\n",
       "      <td>...</td>\n",
       "      <td>1.631579</td>\n",
       "      <td>1.184211</td>\n",
       "      <td>1.315789</td>\n",
       "      <td>1.500000</td>\n",
       "      <td>1.684211</td>\n",
       "      <td>1.407895</td>\n",
       "      <td>1.539474</td>\n",
       "      <td>1.513158</td>\n",
       "      <td>3.178369</td>\n",
       "      <td>ms</td>\n",
       "    </tr>\n",
       "    <tr>\n",
       "      <th>3</th>\n",
       "      <td>19.591100</td>\n",
       "      <td>22.772947</td>\n",
       "      <td>11.736065</td>\n",
       "      <td>19.648423</td>\n",
       "      <td>14.513728</td>\n",
       "      <td>15.147721</td>\n",
       "      <td>5.711180</td>\n",
       "      <td>21.832772</td>\n",
       "      <td>20.116815</td>\n",
       "      <td>14.765563</td>\n",
       "      <td>...</td>\n",
       "      <td>1.684211</td>\n",
       "      <td>1.118421</td>\n",
       "      <td>1.302632</td>\n",
       "      <td>1.486842</td>\n",
       "      <td>1.592105</td>\n",
       "      <td>1.407895</td>\n",
       "      <td>1.434211</td>\n",
       "      <td>1.539474</td>\n",
       "      <td>3.095072</td>\n",
       "      <td>ms</td>\n",
       "    </tr>\n",
       "    <tr>\n",
       "      <th>4</th>\n",
       "      <td>18.533265</td>\n",
       "      <td>15.463072</td>\n",
       "      <td>12.038137</td>\n",
       "      <td>16.380761</td>\n",
       "      <td>14.586402</td>\n",
       "      <td>15.148913</td>\n",
       "      <td>11.773108</td>\n",
       "      <td>16.310207</td>\n",
       "      <td>18.340773</td>\n",
       "      <td>14.913160</td>\n",
       "      <td>...</td>\n",
       "      <td>1.644737</td>\n",
       "      <td>1.157895</td>\n",
       "      <td>1.315789</td>\n",
       "      <td>1.407895</td>\n",
       "      <td>1.552632</td>\n",
       "      <td>1.578947</td>\n",
       "      <td>1.486842</td>\n",
       "      <td>1.565789</td>\n",
       "      <td>3.327974</td>\n",
       "      <td>ms</td>\n",
       "    </tr>\n",
       "  </tbody>\n",
       "</table>\n",
       "<p>5 rows × 203 columns</p>\n",
       "</div>"
      ],
      "text/plain": [
       "     Column1    Column2    Column3    Column4    Column5    Column6  \\\n",
       "0  19.783990  19.314470  19.142825  19.185161  13.499028  17.694012   \n",
       "1  16.733469  12.910102  11.812794  17.734108  11.060022  11.744588   \n",
       "2  18.424258  15.705767  16.174190  19.745516  15.631004  12.928705   \n",
       "3  19.591100  22.772947  11.736065  19.648423  14.513728  15.147721   \n",
       "4  18.533265  15.463072  12.038137  16.380761  14.586402  15.148913   \n",
       "\n",
       "     Column7    Column8    Column9   Column10    ...      Column194  \\\n",
       "0   8.756266  19.141286  19.187837  14.834598    ...       1.486842   \n",
       "1   7.687872  19.032041  14.390918  10.717530    ...       1.657895   \n",
       "2   9.509393  20.030737  17.674618  13.425871    ...       1.631579   \n",
       "3   5.711180  21.832772  20.116815  14.765563    ...       1.684211   \n",
       "4  11.773108  16.310207  18.340773  14.913160    ...       1.644737   \n",
       "\n",
       "   Column195  Column196  Column197  Column198  Column199  Column200  \\\n",
       "0   1.131579   1.276316   1.342105   1.605263   1.513158   1.421053   \n",
       "1   1.065789   1.289474   1.381579   1.657895   1.381579   1.552632   \n",
       "2   1.184211   1.315789   1.500000   1.684211   1.407895   1.539474   \n",
       "3   1.118421   1.302632   1.486842   1.592105   1.407895   1.434211   \n",
       "4   1.157895   1.315789   1.407895   1.552632   1.578947   1.486842   \n",
       "\n",
       "   Column201  Column202  Column203  \n",
       "0   1.460526   2.978577         ms  \n",
       "1   1.578947   3.625088         ms  \n",
       "2   1.513158   3.178369         ms  \n",
       "3   1.539474   3.095072         ms  \n",
       "4   1.565789   3.327974         ms  \n",
       "\n",
       "[5 rows x 203 columns]"
      ]
     },
     "execution_count": 2,
     "metadata": {},
     "output_type": "execute_result"
    }
   ],
   "source": [
    "# First of all, load the csv brain data with the significant variables\n",
    "data = pd.read_csv(\"FAMatrixSignificantData.csv\") \n",
    "data.head()"
   ]
  },
  {
   "cell_type": "code",
   "execution_count": 3,
   "metadata": {},
   "outputs": [
    {
     "name": "stdout",
     "output_type": "stream",
     "text": [
      "Properties dimensions:  (239, 202)\n",
      "Classes dimensions:  (239,)\n",
      "There are 2 classes: ['ms', 'hv']\n"
     ]
    }
   ],
   "source": [
    "# Separate the dataframe into nodes_properties (x) and classes (y)\n",
    "nodes_properties = data.iloc[:,0:len(data.columns)-1]\n",
    "print('Properties dimensions: ', nodes_properties.shape)\n",
    "\n",
    "classes = data.iloc[:,len(data.columns)-1]\n",
    "classes_names = classes.unique().tolist()\n",
    "n_classes = len(classes_names)\n",
    "print('Classes dimensions: ', classes.shape)\n",
    "print('There are {} classes: {}'.format(n_classes, classes_names))"
   ]
  },
  {
   "cell_type": "code",
   "execution_count": 4,
   "metadata": {},
   "outputs": [],
   "source": [
    "# Divide the dataframe in the test and train sets, with 80% of the data in the train group and 20% in the test set.\n",
    "# We will stratify using classes, so that there is the same proportion of each class in the test/train sets as in the original\n",
    "# dataset\n",
    "X_train, X_test, y_train, y_test = train_test_split(nodes_properties, classes, test_size=0.2, random_state=2019, stratify=classes)\n"
   ]
  },
  {
   "cell_type": "markdown",
   "metadata": {},
   "source": [
    "# K-NN"
   ]
  },
  {
   "cell_type": "markdown",
   "metadata": {},
   "source": [
    "#### Hyperparameter tuning"
   ]
  },
  {
   "cell_type": "code",
   "execution_count": 5,
   "metadata": {},
   "outputs": [
    {
     "name": "stdout",
     "output_type": "stream",
     "text": [
      "The search took 2.965538501739502 seconds\n",
      " \n",
      "Rank : 1. Mean accuracy 83.7696 +/- 2.3851. Parameters: {'n_neighbors': 10, 'weights': 'distance'}\n",
      "Rank : 1. Mean accuracy 83.7696 +/- 4.1862. Parameters: {'n_neighbors': 15, 'weights': 'distance'}\n"
     ]
    }
   ],
   "source": [
    "# First of all, create the classifier\n",
    "knn = KNeighborsClassifier()\n",
    "\n",
    "# Then, the hyperparameters to be optimized are defined \n",
    "# k = number of nearest neighbours considered\n",
    "# weights = weight function used in prediction. If it is 'uniform', all the neighbours will have the same importance. If it is \n",
    "# 'distance', closer neighbours will have more influence. \n",
    "\n",
    "k_range = list(range(1, 21))\n",
    "weight_names = ['uniform', 'distance']\n",
    "\n",
    "param_grid = dict(n_neighbors=k_range, weights = weight_names)\n",
    "\n",
    "# Now create the grid search with 4 folds for cross-validation\n",
    "grid = GridSearchCV(knn, param_grid, cv=4)\n",
    "\n",
    "# Apply the grid to the data checking the time \n",
    "start = time()\n",
    "grid.fit(X_train, y_train)\n",
    "end = time()\n",
    "\n",
    "# Check the results\n",
    "print(\"The search took {} seconds\".format(end - start))\n",
    "print(\" \")\n",
    "\n",
    "ranks = list(grid.cv_results_['rank_test_score'])\n",
    "means = list(grid.cv_results_[\"mean_test_score\"])\n",
    "stds = list(grid.cv_results_[\"std_test_score\"])\n",
    "params = list(grid.cv_results_['params'])\n",
    "\n",
    "results = zip (ranks, means, stds, params)\n",
    "for rank, mean, std, params in results:\n",
    "    if rank == 1: #If the rank of the result is one, print it\n",
    "        print(\"Rank : {}. Mean accuracy {:.4f} +/- {:.4f}. Parameters: {}\".format(rank, mean*100, std*100, params))\n"
   ]
  },
  {
   "cell_type": "markdown",
   "metadata": {},
   "source": [
    "##### Model training with best parameters"
   ]
  },
  {
   "cell_type": "code",
   "execution_count": 6,
   "metadata": {},
   "outputs": [
    {
     "name": "stdout",
     "output_type": "stream",
     "text": [
      "K-NN Algorithm results\n",
      "-----------------------\n",
      "Optimal k: 10\n",
      "Optimal weights: distance\n",
      "Accuracy in the test set: 83.33%\n"
     ]
    }
   ],
   "source": [
    "# First create and fit the model with the best hyperparameters\n",
    "knn = KNeighborsClassifier(n_neighbors=grid.best_params_[\"n_neighbors\"], weights=grid.best_params_[\"weights\"])\n",
    "\n",
    "knn.fit(X_train, y_train)\n",
    "\n",
    "# Predict the test values\n",
    "y_predicted = knn.predict(X_test)\n",
    "\n",
    "# Get the accuracy of the model\n",
    "# La precisión del modelo es la siguiente:\n",
    "accuracy = accuracy_score(y_test, y_predicted)\n",
    "\n",
    "# Print the results\n",
    "print(\"K-NN Algorithm results\")\n",
    "print(\"-----------------------\")\n",
    "print(\"Optimal k: {}\".format(grid.best_params_[\"n_neighbors\"]))\n",
    "print(\"Optimal weights: {}\".format(grid.best_params_[\"weights\"]))\n",
    "print(\"Accuracy in the test set: {:.2f}%\".format(accuracy*100))"
   ]
  },
  {
   "cell_type": "markdown",
   "metadata": {},
   "source": [
    "# SVM"
   ]
  },
  {
   "cell_type": "code",
   "execution_count": null,
   "metadata": {},
   "outputs": [],
   "source": []
  },
  {
   "cell_type": "code",
   "execution_count": null,
   "metadata": {},
   "outputs": [],
   "source": []
  },
  {
   "cell_type": "code",
   "execution_count": null,
   "metadata": {},
   "outputs": [],
   "source": []
  }
 ],
 "metadata": {
  "kernelspec": {
   "display_name": "Python 3",
   "language": "python",
   "name": "python3"
  },
  "language_info": {
   "codemirror_mode": {
    "name": "ipython",
    "version": 3
   },
   "file_extension": ".py",
   "mimetype": "text/x-python",
   "name": "python",
   "nbconvert_exporter": "python",
   "pygments_lexer": "ipython3",
   "version": "3.6.7"
  }
 },
 "nbformat": 4,
 "nbformat_minor": 2
}
