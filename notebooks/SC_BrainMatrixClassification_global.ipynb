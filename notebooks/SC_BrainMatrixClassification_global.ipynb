{
 "cells": [
  {
   "cell_type": "markdown",
   "metadata": {},
   "source": [
    "<div style=\"width: 100%; clear: both;\">\n",
    "<div style=\"float: left; width: 50%;\">\n",
    "<img src=\"http://www.uoc.edu/portal/_resources/common/imatges/marca_UOC/UOC_Masterbrand.jpg\", align=\"left\">\n",
    "</div>\n",
    "<div style=\"float: right; width: 50%;\">\n",
    "<p style=\"margin: 0; padding-top: 22px; text-align:right;\">TFM - Data Mining and Machine Learning </p>\n",
    "<p style=\"margin: 0; text-align:right;\">2019 · Master in Data science</p>\n",
    "<p style=\"margin: 0; text-align:right; padding-button: 100px;\">Sara Estravís Nieto</p>\n",
    "</div>\n",
    "</div>\n",
    "<div style=\"width:100%;\">&nbsp;</div>\n",
    "\n",
    "\n",
    "# SC Brain Matrix Classification - global\n",
    "\n",
    "Experiment 3\n",
    "\n",
    "Input data: all the nodes with significant values at global level with data from SC matrices.\n",
    "\n",
    "<ul>\n",
    "  <li><a href='#dataload'>Data load</a></li>\n",
    "  <li><a href='#knn'>K-NN</a></li>\n",
    "  <li><a href='#svm'>SVM</a></li>\n",
    "  <li><a href='#randomforest'>Random Forest</a></li>\n",
    "</ul>"
   ]
  },
  {
   "cell_type": "code",
   "execution_count": 1,
   "metadata": {},
   "outputs": [],
   "source": [
    "# Imports\n",
    "import pandas as pd\n",
    "from sklearn.model_selection import train_test_split\n",
    "from sklearn.model_selection import GridSearchCV\n",
    "from sklearn.model_selection import RandomizedSearchCV\n",
    "from sklearn.neighbors import KNeighborsClassifier\n",
    "from time import time\n",
    "from sklearn.metrics import accuracy_score\n",
    "from sklearn.metrics import confusion_matrix\n",
    "import matplotlib.pyplot as plt\n",
    "%matplotlib inline\n",
    "import numpy as np\n",
    "import itertools\n",
    "from sklearn.svm import SVC\n",
    "from sklearn.utils import shuffle\n",
    "from scipy.stats import uniform\n",
    "from sklearn.model_selection import StratifiedKFold\n",
    "from sklearn.ensemble import RandomForestClassifier"
   ]
  },
  {
   "cell_type": "markdown",
   "metadata": {},
   "source": [
    "<a id = 'dataload'/>"
   ]
  },
  {
   "cell_type": "markdown",
   "metadata": {},
   "source": [
    "## Data Load"
   ]
  },
  {
   "cell_type": "code",
   "execution_count": 2,
   "metadata": {
    "scrolled": true
   },
   "outputs": [
    {
     "data": {
      "text/html": [
       "<div>\n",
       "<style scoped>\n",
       "    .dataframe tbody tr th:only-of-type {\n",
       "        vertical-align: middle;\n",
       "    }\n",
       "\n",
       "    .dataframe tbody tr th {\n",
       "        vertical-align: top;\n",
       "    }\n",
       "\n",
       "    .dataframe thead th {\n",
       "        text-align: right;\n",
       "    }\n",
       "</style>\n",
       "<table border=\"1\" class=\"dataframe\">\n",
       "  <thead>\n",
       "    <tr style=\"text-align: right;\">\n",
       "      <th></th>\n",
       "      <th>Column1</th>\n",
       "      <th>Column2</th>\n",
       "      <th>Column3</th>\n",
       "      <th>Column4</th>\n",
       "      <th>Column5</th>\n",
       "      <th>Column6</th>\n",
       "      <th>Column7</th>\n",
       "      <th>Column8</th>\n",
       "      <th>Column9</th>\n",
       "      <th>Column10</th>\n",
       "      <th>Column11</th>\n",
       "      <th>Column12</th>\n",
       "    </tr>\n",
       "  </thead>\n",
       "  <tbody>\n",
       "    <tr>\n",
       "      <th>0</th>\n",
       "      <td>0.099066</td>\n",
       "      <td>14.613449</td>\n",
       "      <td>14.529623</td>\n",
       "      <td>15.778098</td>\n",
       "      <td>13.159139</td>\n",
       "      <td>12.965646</td>\n",
       "      <td>23.882949</td>\n",
       "      <td>12.598318</td>\n",
       "      <td>25.485011</td>\n",
       "      <td>15.244243</td>\n",
       "      <td>15.131265</td>\n",
       "      <td>ms</td>\n",
       "    </tr>\n",
       "    <tr>\n",
       "      <th>1</th>\n",
       "      <td>0.102228</td>\n",
       "      <td>15.306174</td>\n",
       "      <td>15.796124</td>\n",
       "      <td>14.042908</td>\n",
       "      <td>11.879391</td>\n",
       "      <td>12.147937</td>\n",
       "      <td>19.474595</td>\n",
       "      <td>13.335961</td>\n",
       "      <td>25.994224</td>\n",
       "      <td>15.821715</td>\n",
       "      <td>14.851769</td>\n",
       "      <td>ms</td>\n",
       "    </tr>\n",
       "    <tr>\n",
       "      <th>2</th>\n",
       "      <td>0.077466</td>\n",
       "      <td>18.809321</td>\n",
       "      <td>18.987718</td>\n",
       "      <td>19.107379</td>\n",
       "      <td>16.086686</td>\n",
       "      <td>16.678150</td>\n",
       "      <td>25.897596</td>\n",
       "      <td>18.519867</td>\n",
       "      <td>29.239184</td>\n",
       "      <td>20.218310</td>\n",
       "      <td>20.375064</td>\n",
       "      <td>ms</td>\n",
       "    </tr>\n",
       "    <tr>\n",
       "      <th>3</th>\n",
       "      <td>0.098350</td>\n",
       "      <td>15.712585</td>\n",
       "      <td>17.710904</td>\n",
       "      <td>13.780772</td>\n",
       "      <td>13.473397</td>\n",
       "      <td>12.132908</td>\n",
       "      <td>20.844780</td>\n",
       "      <td>11.864315</td>\n",
       "      <td>19.828555</td>\n",
       "      <td>13.947618</td>\n",
       "      <td>13.321698</td>\n",
       "      <td>ms</td>\n",
       "    </tr>\n",
       "    <tr>\n",
       "      <th>4</th>\n",
       "      <td>0.114283</td>\n",
       "      <td>12.399773</td>\n",
       "      <td>13.694551</td>\n",
       "      <td>12.909561</td>\n",
       "      <td>10.506384</td>\n",
       "      <td>11.220254</td>\n",
       "      <td>20.154159</td>\n",
       "      <td>11.316898</td>\n",
       "      <td>19.266863</td>\n",
       "      <td>12.928888</td>\n",
       "      <td>12.818160</td>\n",
       "      <td>ms</td>\n",
       "    </tr>\n",
       "  </tbody>\n",
       "</table>\n",
       "</div>"
      ],
      "text/plain": [
       "    Column1    Column2    Column3    Column4    Column5    Column6    Column7  \\\n",
       "0  0.099066  14.613449  14.529623  15.778098  13.159139  12.965646  23.882949   \n",
       "1  0.102228  15.306174  15.796124  14.042908  11.879391  12.147937  19.474595   \n",
       "2  0.077466  18.809321  18.987718  19.107379  16.086686  16.678150  25.897596   \n",
       "3  0.098350  15.712585  17.710904  13.780772  13.473397  12.132908  20.844780   \n",
       "4  0.114283  12.399773  13.694551  12.909561  10.506384  11.220254  20.154159   \n",
       "\n",
       "     Column8    Column9   Column10   Column11 Column12  \n",
       "0  12.598318  25.485011  15.244243  15.131265       ms  \n",
       "1  13.335961  25.994224  15.821715  14.851769       ms  \n",
       "2  18.519867  29.239184  20.218310  20.375064       ms  \n",
       "3  11.864315  19.828555  13.947618  13.321698       ms  \n",
       "4  11.316898  19.266863  12.928888  12.818160       ms  "
      ]
     },
     "execution_count": 2,
     "metadata": {},
     "output_type": "execute_result"
    }
   ],
   "source": [
    "# Load the csv brain data with the significant variables\n",
    "data = pd.read_csv(\"globalSCMatrixSignificantData.csv\") \n",
    "\n",
    "# Shuffle the data\n",
    "data = shuffle(data, random_state=0).reset_index(drop=True)\n",
    "data.head()"
   ]
  },
  {
   "cell_type": "code",
   "execution_count": 3,
   "metadata": {},
   "outputs": [
    {
     "name": "stdout",
     "output_type": "stream",
     "text": [
      "Properties dimensions:  (239, 11)\n",
      "Classes dimensions:  (239,)\n",
      "There are 2 classes: ['hv', 'ms']\n"
     ]
    }
   ],
   "source": [
    "# Separate the dataframe into nodes_properties (x) and classes (y)\n",
    "nodes_properties = data.iloc[:,0:len(data.columns)-1]\n",
    "print('Properties dimensions: ', nodes_properties.shape)\n",
    "\n",
    "classes = data.iloc[:,len(data.columns)-1]\n",
    "classes_names = [\"hv\", \"ms\"]\n",
    "n_classes = len(classes_names)\n",
    "print('Classes dimensions: ', classes.shape)\n",
    "print('There are {} classes: {}'.format(n_classes, classes_names))"
   ]
  },
  {
   "cell_type": "code",
   "execution_count": 4,
   "metadata": {},
   "outputs": [],
   "source": [
    "# Divide the dataframe in the test and train sets, with 80% of the data in the train group and 20% in the test set.\n",
    "# We will stratify using classes, so that there is the same proportion of each class in the test/train sets as in the original\n",
    "# dataset\n",
    "X_train, X_test, y_train, y_test = train_test_split(nodes_properties, classes, test_size=0.2, random_state=2019, stratify=classes)\n"
   ]
  },
  {
   "cell_type": "code",
   "execution_count": 5,
   "metadata": {},
   "outputs": [
    {
     "name": "stdout",
     "output_type": "stream",
     "text": [
      "X_train dimensions:  (191, 11)\n",
      "y_train dimensions:  (191,)\n",
      "X_test dimensions:  (48, 11)\n",
      "y_test dimensions:  (48,)\n"
     ]
    }
   ],
   "source": [
    "print('X_train dimensions: ', X_train.shape)\n",
    "print('y_train dimensions: ', y_train.shape)\n",
    "\n",
    "print('X_test dimensions: ', X_test.shape)\n",
    "print('y_test dimensions: ', y_test.shape)"
   ]
  },
  {
   "cell_type": "markdown",
   "metadata": {},
   "source": [
    "<a id='knn'></a>"
   ]
  },
  {
   "cell_type": "markdown",
   "metadata": {},
   "source": [
    "## K-NN"
   ]
  },
  {
   "cell_type": "markdown",
   "metadata": {},
   "source": [
    "#### Hyperparameter tuning"
   ]
  },
  {
   "cell_type": "code",
   "execution_count": 6,
   "metadata": {},
   "outputs": [
    {
     "name": "stdout",
     "output_type": "stream",
     "text": [
      "The search took 1.496764898300171 seconds\n",
      " \n",
      "Rank : 1. Mean accuracy 80.1086 +/- 1.7542. Parameters: {'n_neighbors': 18, 'weights': 'distance'}\n",
      "Rank : 1. Mean accuracy 80.1086 +/- 1.7542. Parameters: {'n_neighbors': 19, 'weights': 'uniform'}\n",
      "Rank : 1. Mean accuracy 80.1086 +/- 1.7542. Parameters: {'n_neighbors': 19, 'weights': 'distance'}\n",
      "Rank : 1. Mean accuracy 80.1086 +/- 1.7542. Parameters: {'n_neighbors': 20, 'weights': 'distance'}\n"
     ]
    }
   ],
   "source": [
    "# First of all, create the classifier\n",
    "knn = KNeighborsClassifier()\n",
    "\n",
    "# Then, the hyperparameters to be optimized are defined \n",
    "# k = number of nearest neighbours considered\n",
    "# weights = weight function used in prediction. If it is 'uniform', all the neighbours will have the same importance. If it is \n",
    "# 'distance', closer neighbours will have more influence. \n",
    "\n",
    "k_range = list(range(1, 21))\n",
    "weight_names = ['uniform', 'distance']\n",
    "\n",
    "param_grid = dict(n_neighbors=k_range, weights = weight_names)\n",
    "\n",
    "# Now create the grid search with 4 folds for cross-validation\n",
    "grid = GridSearchCV(knn, param_grid, cv=4, iid=False)\n",
    "\n",
    "# Apply the grid to the data checking the time \n",
    "start = time()\n",
    "grid.fit(X_train, y_train)\n",
    "end = time()\n",
    "\n",
    "# Check the results\n",
    "print(\"The search took {} seconds\".format(end - start))\n",
    "print(\" \")\n",
    "\n",
    "ranks = list(grid.cv_results_['rank_test_score'])\n",
    "means = list(grid.cv_results_[\"mean_test_score\"])\n",
    "stds = list(grid.cv_results_[\"std_test_score\"])\n",
    "params = list(grid.cv_results_['params'])\n",
    "\n",
    "results = zip (ranks, means, stds, params)\n",
    "for rank, mean, std, params in results:\n",
    "    if rank == 1: #If the rank of the result is one, print it\n",
    "        print(\"Rank : {}. Mean accuracy {:.4f} +/- {:.4f}. Parameters: {}\".format(rank, mean*100, std*100, params))\n"
   ]
  },
  {
   "cell_type": "markdown",
   "metadata": {},
   "source": [
    "#### Model training with best parameters"
   ]
  },
  {
   "cell_type": "code",
   "execution_count": 7,
   "metadata": {},
   "outputs": [
    {
     "name": "stdout",
     "output_type": "stream",
     "text": [
      "K-NN Algorithm results\n",
      "-----------------------\n",
      "Optimal k: 18\n",
      "Optimal weights: distance\n",
      "Accuracy in the test set with the optimal parameters: 81.25%\n"
     ]
    }
   ],
   "source": [
    "# First create and fit the model with the best hyperparameters\n",
    "knn = KNeighborsClassifier(n_neighbors=grid.best_params_[\"n_neighbors\"], weights=grid.best_params_[\"weights\"])\n",
    "\n",
    "knn.fit(X_train, y_train)\n",
    "\n",
    "# Predict the test values\n",
    "y_predicted = knn.predict(X_test)\n",
    "\n",
    "# Get the accuracy of the model\n",
    "accuracy = accuracy_score(y_test, y_predicted)\n",
    "\n",
    "# Print the results\n",
    "print(\"K-NN Algorithm results\")\n",
    "print(\"-----------------------\")\n",
    "print(\"Optimal k: {}\".format(grid.best_params_[\"n_neighbors\"]))\n",
    "print(\"Optimal weights: {}\".format(grid.best_params_[\"weights\"]))\n",
    "print(\"Accuracy in the test set with the optimal parameters: {:.2f}%\".format(accuracy*100))"
   ]
  },
  {
   "cell_type": "code",
   "execution_count": 8,
   "metadata": {},
   "outputs": [],
   "source": [
    "# Confusion matrix plot function\n",
    "def plot_confusion_matrix(cm, classes,\n",
    "                          title='Confusion matrix',\n",
    "                          cmap=plt.cm.Blues):\n",
    "    cm = cm.astype('float') / cm.sum(axis=1)[:, np.newaxis]\n",
    "    plt.imshow(cm, interpolation='nearest', cmap=cmap)\n",
    "    plt.title(title)\n",
    "    plt.colorbar()\n",
    "    tick_marks = np.arange(len(classes))\n",
    "    plt.xticks(tick_marks, classes, rotation=45)\n",
    "    plt.yticks(tick_marks, classes)\n",
    "\n",
    "    fmt = '.2f'\n",
    "    thresh = cm.max() / 2.\n",
    "    for i, j in itertools.product(range(cm.shape[0]), range(cm.shape[1])):\n",
    "        plt.text(j, i, format(cm[i, j], fmt),\n",
    "                 horizontalalignment=\"center\",\n",
    "                 color=\"white\" if cm[i, j] > thresh else \"black\")\n",
    "\n",
    "    plt.ylabel('True label')\n",
    "    plt.xlabel('Predicted label')\n",
    "    plt.tight_layout()"
   ]
  },
  {
   "cell_type": "markdown",
   "metadata": {},
   "source": [
    "#### Confusion matrix"
   ]
  },
  {
   "cell_type": "code",
   "execution_count": 9,
   "metadata": {},
   "outputs": [
    {
     "name": "stdout",
     "output_type": "stream",
     "text": [
      "[[ 0  9]\n",
      " [ 0 39]]\n"
     ]
    },
    {
     "data": {
      "image/png": "[encoded data removed]",
      "text/plain": [
       "<Figure size 432x288 with 2 Axes>"
      ]
     },
     "metadata": {
      "needs_background": "light"
     },
     "output_type": "display_data"
    }
   ],
   "source": [
    "conf_matrix = confusion_matrix(y_test, y_predicted)\n",
    "print(conf_matrix)\n",
    "\n",
    "# Plot confusion matrix\n",
    "plt.figure()\n",
    "plot_confusion_matrix(conf_matrix, classes=classes_names,\n",
    "                      title='Matriz de confusión')"
   ]
  },
  {
   "cell_type": "markdown",
   "metadata": {},
   "source": [
    "<a id='svm'></a>"
   ]
  },
  {
   "cell_type": "markdown",
   "metadata": {},
   "source": [
    "## SVM"
   ]
  },
  {
   "cell_type": "markdown",
   "metadata": {},
   "source": [
    " #### Hyperparameter tuning"
   ]
  },
  {
   "cell_type": "code",
   "execution_count": 10,
   "metadata": {},
   "outputs": [
    {
     "name": "stdout",
     "output_type": "stream",
     "text": [
      "The search took 3.8523993492126465 seconds\n",
      " \n",
      "Rank : 1. Mean accuracy 81.1503 +/- 0.1727. Parameters: {'C': 93.35197676720443, 'gamma': 0.7336505664751476}\n",
      "Rank : 1. Mean accuracy 81.1503 +/- 0.1727. Parameters: {'C': 66.92837986320241, 'gamma': 0.7017557694851073}\n",
      "Rank : 1. Mean accuracy 81.1503 +/- 0.1727. Parameters: {'C': 48.29157418559854, 'gamma': 0.7573412204908442}\n",
      "Rank : 1. Mean accuracy 81.1503 +/- 0.1727. Parameters: {'C': 1.4572904445497072, 'gamma': 0.8432018418003028}\n",
      "Rank : 1. Mean accuracy 81.1503 +/- 0.1727. Parameters: {'C': 17.830245001476563, 'gamma': 0.7010489518879537}\n",
      "Rank : 1. Mean accuracy 81.1503 +/- 0.1727. Parameters: {'C': 71.16908634734236, 'gamma': 0.9319644210240221}\n",
      "Rank : 1. Mean accuracy 81.1503 +/- 0.1727. Parameters: {'C': 2.110061959322539, 'gamma': 0.7500554587176369}\n",
      "Rank : 1. Mean accuracy 81.1503 +/- 0.1727. Parameters: {'C': 17.547564464208055, 'gamma': 0.7861435706689077}\n",
      "Rank : 1. Mean accuracy 81.1503 +/- 0.1727. Parameters: {'C': 7.647184052769861, 'gamma': 0.782258404265164}\n",
      "Rank : 1. Mean accuracy 81.1503 +/- 0.1727. Parameters: {'C': 64.22166851753954, 'gamma': 0.7293808767226078}\n",
      "Rank : 1. Mean accuracy 81.1503 +/- 0.1727. Parameters: {'C': 56.65986708102546, 'gamma': 0.6184093185566686}\n",
      "Rank : 1. Mean accuracy 81.1503 +/- 0.1727. Parameters: {'C': 65.60087102544004, 'gamma': 0.7893190956572874}\n",
      "Rank : 1. Mean accuracy 81.1503 +/- 0.1727. Parameters: {'C': 98.53101148684935, 'gamma': 1.0003101064935112}\n",
      "Rank : 1. Mean accuracy 81.1503 +/- 0.1727. Parameters: {'C': 88.23174250569046, 'gamma': 0.5979250544658565}\n",
      "Rank : 1. Mean accuracy 81.1503 +/- 0.1727. Parameters: {'C': 41.08466496709673, 'gamma': 0.7637189576962203}\n",
      "Rank : 1. Mean accuracy 81.1503 +/- 0.1727. Parameters: {'C': 52.90221213630356, 'gamma': 0.6093918751556027}\n",
      "Rank : 1. Mean accuracy 81.1503 +/- 0.1727. Parameters: {'C': 15.915295641848891, 'gamma': 0.9487556169151163}\n",
      "Rank : 1. Mean accuracy 81.1503 +/- 0.1727. Parameters: {'C': 78.10437768076352, 'gamma': 0.6098773614439211}\n",
      "Rank : 1. Mean accuracy 81.1503 +/- 0.1727. Parameters: {'C': 4.7878275648943305, 'gamma': 0.5798197457932661}\n",
      "Rank : 1. Mean accuracy 81.1503 +/- 0.1727. Parameters: {'C': 25.728299178202874, 'gamma': 0.6373138802611072}\n",
      "Rank : 1. Mean accuracy 81.1503 +/- 0.1727. Parameters: {'C': 77.72202258518017, 'gamma': 0.7477344343632499}\n",
      "Rank : 1. Mean accuracy 81.1503 +/- 0.1727. Parameters: {'C': 43.91056176925818, 'gamma': 0.9502533167201541}\n",
      "Rank : 1. Mean accuracy 81.1503 +/- 0.1727. Parameters: {'C': 79.07230006102769, 'gamma': 0.8325455362777915}\n",
      "Rank : 1. Mean accuracy 81.1503 +/- 0.1727. Parameters: {'C': 10.323821993204795, 'gamma': 0.9044979996199394}\n",
      "Rank : 1. Mean accuracy 81.1503 +/- 0.1727. Parameters: {'C': 100.22246634832098, 'gamma': 0.8437885466495282}\n",
      "Rank : 1. Mean accuracy 81.1503 +/- 0.1727. Parameters: {'C': 13.334091899551158, 'gamma': 0.9573130241854226}\n",
      "Rank : 1. Mean accuracy 81.1503 +/- 0.1727. Parameters: {'C': 34.175865871711366, 'gamma': 0.7736974972462863}\n",
      "Rank : 1. Mean accuracy 81.1503 +/- 0.1727. Parameters: {'C': 8.827827594323477, 'gamma': 0.8861104373242356}\n",
      "Rank : 1. Mean accuracy 81.1503 +/- 0.1727. Parameters: {'C': 74.58158052410386, 'gamma': 0.6649827489260121}\n",
      "Rank : 1. Mean accuracy 81.1503 +/- 0.1727. Parameters: {'C': 40.81496608907157, 'gamma': 0.815847314118924}\n",
      "Rank : 1. Mean accuracy 81.1503 +/- 0.1727. Parameters: {'C': 81.57246659653119, 'gamma': 0.9457898114297555}\n",
      "Rank : 1. Mean accuracy 81.1503 +/- 0.1727. Parameters: {'C': 98.51803794787124, 'gamma': 0.612296075221274}\n",
      "Rank : 1. Mean accuracy 81.1503 +/- 0.1727. Parameters: {'C': 75.53427375750225, 'gamma': 0.7739466837849718}\n",
      "Rank : 1. Mean accuracy 81.1503 +/- 0.1727. Parameters: {'C': 97.14580130546328, 'gamma': 0.6436403214389953}\n",
      "Rank : 1. Mean accuracy 81.1503 +/- 0.1727. Parameters: {'C': 37.30285338943019, 'gamma': 0.6779928072146683}\n",
      "Rank : 1. Mean accuracy 81.1503 +/- 0.1727. Parameters: {'C': 14.965893348420511, 'gamma': 0.6759803232831475}\n",
      "Rank : 1. Mean accuracy 81.1503 +/- 0.1727. Parameters: {'C': 82.86687877417627, 'gamma': 0.5881665820083115}\n",
      "Rank : 1. Mean accuracy 81.1503 +/- 0.1727. Parameters: {'C': 61.969296488000865, 'gamma': 0.677929297203101}\n",
      "Rank : 1. Mean accuracy 81.1503 +/- 0.1727. Parameters: {'C': 96.76687789737721, 'gamma': 0.8222353861235474}\n",
      "Rank : 1. Mean accuracy 81.1503 +/- 0.1727. Parameters: {'C': 85.09113785658154, 'gamma': 0.7989393047190312}\n",
      "Rank : 1. Mean accuracy 81.1503 +/- 0.1727. Parameters: {'C': 85.74956822657853, 'gamma': 0.8552679255860972}\n",
      "Rank : 1. Mean accuracy 81.1503 +/- 0.1727. Parameters: {'C': 60.3201481615911, 'gamma': 0.9744177535218679}\n",
      "Rank : 1. Mean accuracy 81.1503 +/- 0.1727. Parameters: {'C': 76.0409161505473, 'gamma': 0.7818899704420805}\n",
      "Rank : 1. Mean accuracy 81.1503 +/- 0.1727. Parameters: {'C': 28.839039431938993, 'gamma': 0.5932792278492138}\n",
      "Rank : 1. Mean accuracy 81.1503 +/- 0.1727. Parameters: {'C': 1.1871754828102978, 'gamma': 0.5941468859153536}\n",
      "Rank : 1. Mean accuracy 81.1503 +/- 0.1727. Parameters: {'C': 79.90333478587397, 'gamma': 0.8636411852699427}\n"
     ]
    }
   ],
   "source": [
    "# Create the classifier\n",
    "svm_clasif = SVC(random_state = 1)\n",
    "\n",
    "# Define the hyperparameters to be optimized\n",
    "param_dist = dict(C=uniform(1, 100), gamma=uniform(0.001, 1))\n",
    "\n",
    "# Now create the randomnized search with 4 folds for cross-validation\n",
    "num_iterations = 100\n",
    "cv = StratifiedKFold(n_splits=4, shuffle=True)\n",
    "rand = RandomizedSearchCV(svm_clasif, param_distributions = param_dist, cv=cv, n_iter=num_iterations, iid=False)\n",
    "\n",
    "# Apply the search to the data checking the time \n",
    "start = time()\n",
    "rand.fit(X_train, y_train)\n",
    "end = time()\n",
    "\n",
    "# Check the results\n",
    "print(\"The search took {} seconds\".format(end - start))\n",
    "print(\" \")\n",
    "\n",
    "ranks = list(rand.cv_results_['rank_test_score'])\n",
    "means = list(rand.cv_results_[\"mean_test_score\"])\n",
    "stds = list(rand.cv_results_[\"std_test_score\"])\n",
    "params = list(rand.cv_results_['params'])\n",
    "\n",
    "results = zip (ranks, means, stds, params)\n",
    "for rank, mean, std, params in results:\n",
    "    if rank == 1: #If the rank of the result is one, print it\n",
    "        print(\"Rank : {}. Mean accuracy {:.4f} +/- {:.4f}. Parameters: {}\".format(rank, mean*100, std*100, params))"
   ]
  },
  {
   "cell_type": "markdown",
   "metadata": {},
   "source": [
    "#### Train model with best parameters"
   ]
  },
  {
   "cell_type": "code",
   "execution_count": 11,
   "metadata": {},
   "outputs": [
    {
     "name": "stdout",
     "output_type": "stream",
     "text": [
      "SVM Algorithm results\n",
      "-----------------------\n",
      "Optimal C: 93.35197676720443\n",
      "Optimal gamma: 0.7336505664751476\n",
      "Accuracy in the test set with the optimal parameters: 81.25%\n"
     ]
    }
   ],
   "source": [
    "# Create and fit the model with the best hyperparameters\n",
    "svm_clasif = SVC(C=rand.best_params_[\"C\"], gamma=rand.best_params_[\"gamma\"])\n",
    "svm_clasif.fit(X_train, y_train)\n",
    "\n",
    "# Predict the test values\n",
    "y_predicted = svm_clasif.predict(X_test)\n",
    "\n",
    "# Get the accuracy of the model\n",
    "accuracy = accuracy_score(y_test, y_predicted)\n",
    "\n",
    "# Print the results\n",
    "print(\"SVM Algorithm results\")\n",
    "print(\"-----------------------\")\n",
    "print(\"Optimal C: {}\".format(rand.best_params_[\"C\"]))\n",
    "print(\"Optimal gamma: {}\".format(rand.best_params_[\"gamma\"]))\n",
    "print(\"Accuracy in the test set with the optimal parameters: {:.2f}%\".format(accuracy*100))"
   ]
  },
  {
   "cell_type": "markdown",
   "metadata": {},
   "source": [
    "#### Confusion matrix"
   ]
  },
  {
   "cell_type": "code",
   "execution_count": 12,
   "metadata": {},
   "outputs": [
    {
     "name": "stdout",
     "output_type": "stream",
     "text": [
      "[[ 0  9]\n",
      " [ 0 39]]\n"
     ]
    },
    {
     "data": {
      "image/png": "[encoded data removed]",
      "text/plain": [
       "<Figure size 432x288 with 2 Axes>"
      ]
     },
     "metadata": {
      "needs_background": "light"
     },
     "output_type": "display_data"
    }
   ],
   "source": [
    "conf_matrix = confusion_matrix(y_test, y_predicted)\n",
    "print(conf_matrix)\n",
    "\n",
    "# Plot confusion matrix\n",
    "plt.figure()\n",
    "plot_confusion_matrix(conf_matrix, classes=classes_names,\n",
    "                      title='Matriz de confusión')"
   ]
  },
  {
   "cell_type": "markdown",
   "metadata": {},
   "source": [
    "<a id='randomforest'></a>"
   ]
  },
  {
   "cell_type": "markdown",
   "metadata": {},
   "source": [
    "## Random Forest"
   ]
  },
  {
   "cell_type": "markdown",
   "metadata": {},
   "source": [
    "#### Hyperparameter tuning"
   ]
  },
  {
   "cell_type": "code",
   "execution_count": 13,
   "metadata": {},
   "outputs": [
    {
     "name": "stdout",
     "output_type": "stream",
     "text": [
      "The search took 14.30477523803711 seconds\n",
      " \n",
      "Rank : 1. Mean accuracy 79.0669 +/- 2.4748. Parameters: {'n_estimators': 53}\n",
      "Rank : 1. Mean accuracy 79.0669 +/- 2.4748. Parameters: {'n_estimators': 55}\n"
     ]
    }
   ],
   "source": [
    "# Create the classifier\n",
    "random_forest = RandomForestClassifier(random_state=0)\n",
    "\n",
    "# Define the hyperparameters to be optimized \n",
    "n_estimators = list(range(1, 61))\n",
    "\n",
    "param_grid = dict(n_estimators=n_estimators)\n",
    "\n",
    "# Create the grid search with 4 folds for cross-validation\n",
    "grid = GridSearchCV(random_forest, param_grid, cv=4, iid=False)\n",
    "\n",
    "# Apply the grid to the data checking the time \n",
    "start = time()\n",
    "grid.fit(X_train, y_train)\n",
    "end = time()\n",
    "\n",
    "# Check the results\n",
    "print(\"The search took {} seconds\".format(end - start))\n",
    "print(\" \")\n",
    "\n",
    "ranks = list(grid.cv_results_['rank_test_score'])\n",
    "means = list(grid.cv_results_[\"mean_test_score\"])\n",
    "stds = list(grid.cv_results_[\"std_test_score\"])\n",
    "params = list(grid.cv_results_['params'])\n",
    "\n",
    "results = zip (ranks, means, stds, params)\n",
    "for rank, mean, std, params in results:\n",
    "    if rank == 1: #If the rank of the result is one, print it\n",
    "        print(\"Rank : {}. Mean accuracy {:.4f} +/- {:.4f}. Parameters: {}\".format(rank, mean*100, std*100, params))\n"
   ]
  },
  {
   "cell_type": "markdown",
   "metadata": {},
   "source": [
    "#### Train model with best hyperparameters"
   ]
  },
  {
   "cell_type": "code",
   "execution_count": 14,
   "metadata": {},
   "outputs": [
    {
     "name": "stdout",
     "output_type": "stream",
     "text": [
      "Random Forest Algorithm results\n",
      "-----------------------\n",
      "Optimal n_estimators: 53\n",
      "Accuracy in the test set with the optimal parameters: 77.08%\n"
     ]
    }
   ],
   "source": [
    "# Create and fit the model with the best hyperparameters\n",
    "random_forest = RandomForestClassifier(random_state=0, n_estimators=grid.best_params_[\"n_estimators\"])\n",
    "random_forest.fit(X_train, y_train)\n",
    "\n",
    "# Predict the test values\n",
    "y_predicted = random_forest.predict(X_test)\n",
    "\n",
    "# Get the accuracy of the model\n",
    "accuracy = accuracy_score(y_test, y_predicted)\n",
    "\n",
    "# Print the results\n",
    "print(\"Random Forest Algorithm results\")\n",
    "print(\"-----------------------\")\n",
    "print(\"Optimal n_estimators: {}\".format(grid.best_params_[\"n_estimators\"]))\n",
    "print(\"Accuracy in the test set with the optimal parameters: {:.2f}%\".format(accuracy*100))"
   ]
  },
  {
   "cell_type": "markdown",
   "metadata": {},
   "source": [
    "#### Confusion Matrix"
   ]
  },
  {
   "cell_type": "code",
   "execution_count": 15,
   "metadata": {},
   "outputs": [
    {
     "name": "stdout",
     "output_type": "stream",
     "text": [
      "[[ 0  9]\n",
      " [ 2 37]]\n"
     ]
    },
    {
     "data": {
      "image/png": "[encoded data removed]",
      "text/plain": [
       "<Figure size 432x288 with 2 Axes>"
      ]
     },
     "metadata": {
      "needs_background": "light"
     },
     "output_type": "display_data"
    }
   ],
   "source": [
    "conf_matrix = confusion_matrix(y_test, y_predicted)\n",
    "print(conf_matrix)\n",
    "\n",
    "# Plot confusion matrix\n",
    "plt.figure()\n",
    "plot_confusion_matrix(conf_matrix, classes=classes_names,\n",
    "                      title='Matriz de confusión')"
   ]
  },
  {
   "cell_type": "code",
   "execution_count": null,
   "metadata": {},
   "outputs": [],
   "source": []
  }
 ],
 "metadata": {
  "kernelspec": {
   "display_name": "Python 3",
   "language": "python",
   "name": "python3"
  },
  "language_info": {
   "codemirror_mode": {
    "name": "ipython",
    "version": 3
   },
   "file_extension": ".py",
   "mimetype": "text/x-python",
   "name": "python",
   "nbconvert_exporter": "python",
   "pygments_lexer": "ipython3",
   "version": "3.6.7"
  }
 },
 "nbformat": 4,
 "nbformat_minor": 2
}
