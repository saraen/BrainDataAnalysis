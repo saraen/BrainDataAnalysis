{
 "cells": [
  {
   "cell_type": "markdown",
   "metadata": {},
   "source": [
    "<div style=\"width: 100%; clear: both;\">\n",
    "<div style=\"float: left; width: 50%;\">\n",
    "<img src=\"http://www.uoc.edu/portal/_resources/common/imatges/marca_UOC/UOC_Masterbrand.jpg\", align=\"left\">\n",
    "</div>\n",
    "<div style=\"float: right; width: 50%;\">\n",
    "<p style=\"margin: 0; padding-top: 22px; text-align:right;\">TFM - Data Mining and Machine Learning </p>\n",
    "<p style=\"margin: 0; text-align:right;\">2019 · Master in Data science</p>\n",
    "<p style=\"margin: 0; text-align:right; padding-button: 100px;\">Sara Estravís Nieto</p>\n",
    "</div>\n",
    "</div>\n",
    "<div style=\"width:100%;\">&nbsp;</div>\n",
    "\n",
    "\n",
    "# SC Brain Matrix Classification\n",
    "\n",
    "Experiment 4\n",
    "\n",
    "Input data: all the nodes with significant values at local level with data from SC matrices.\n",
    "\n",
    "<ul>\n",
    "  <li><a href='#dataload'>Data load</a></li>\n",
    "  <li><a href='#knn'>K-NN</a></li>\n",
    "  <li><a href='#svm'>SVM</a></li>\n",
    "  <li><a href='#randomforest'>Random Forest</a></li>\n",
    "</ul>"
   ]
  },
  {
   "cell_type": "code",
   "execution_count": 1,
   "metadata": {},
   "outputs": [],
   "source": [
    "# Imports\n",
    "import pandas as pd\n",
    "from sklearn.model_selection import train_test_split\n",
    "from sklearn.model_selection import GridSearchCV\n",
    "from sklearn.model_selection import RandomizedSearchCV\n",
    "from sklearn.neighbors import KNeighborsClassifier\n",
    "from time import time\n",
    "from sklearn.metrics import accuracy_score\n",
    "from sklearn.metrics import confusion_matrix\n",
    "import matplotlib.pyplot as plt\n",
    "%matplotlib inline\n",
    "import numpy as np\n",
    "import itertools\n",
    "from sklearn.svm import SVC\n",
    "from sklearn.utils import shuffle\n",
    "from scipy.stats import uniform\n",
    "from sklearn.model_selection import StratifiedKFold\n",
    "from sklearn.ensemble import RandomForestClassifier"
   ]
  },
  {
   "cell_type": "markdown",
   "metadata": {},
   "source": [
    "<a id = 'dataload'/>"
   ]
  },
  {
   "cell_type": "markdown",
   "metadata": {},
   "source": [
    "## Data Load"
   ]
  },
  {
   "cell_type": "code",
   "execution_count": 2,
   "metadata": {
    "scrolled": true
   },
   "outputs": [
    {
     "data": {
      "text/html": [
       "<div>\n",
       "<style scoped>\n",
       "    .dataframe tbody tr th:only-of-type {\n",
       "        vertical-align: middle;\n",
       "    }\n",
       "\n",
       "    .dataframe tbody tr th {\n",
       "        vertical-align: top;\n",
       "    }\n",
       "\n",
       "    .dataframe thead th {\n",
       "        text-align: right;\n",
       "    }\n",
       "</style>\n",
       "<table border=\"1\" class=\"dataframe\">\n",
       "  <thead>\n",
       "    <tr style=\"text-align: right;\">\n",
       "      <th></th>\n",
       "      <th>Column1</th>\n",
       "      <th>Column2</th>\n",
       "      <th>Column3</th>\n",
       "      <th>Column4</th>\n",
       "      <th>Column5</th>\n",
       "      <th>Column6</th>\n",
       "      <th>Column7</th>\n",
       "      <th>Column8</th>\n",
       "      <th>Column9</th>\n",
       "      <th>Column10</th>\n",
       "      <th>...</th>\n",
       "      <th>Column174</th>\n",
       "      <th>Column175</th>\n",
       "      <th>Column176</th>\n",
       "      <th>Column177</th>\n",
       "      <th>Column178</th>\n",
       "      <th>Column179</th>\n",
       "      <th>Column180</th>\n",
       "      <th>Column181</th>\n",
       "      <th>Column182</th>\n",
       "      <th>Column183</th>\n",
       "    </tr>\n",
       "  </thead>\n",
       "  <tbody>\n",
       "    <tr>\n",
       "      <th>0</th>\n",
       "      <td>2.396691</td>\n",
       "      <td>0.730968</td>\n",
       "      <td>2.552197</td>\n",
       "      <td>2.004677</td>\n",
       "      <td>1.015855</td>\n",
       "      <td>2.887735</td>\n",
       "      <td>4.912143</td>\n",
       "      <td>2.828218</td>\n",
       "      <td>6.304574</td>\n",
       "      <td>2.813657</td>\n",
       "      <td>...</td>\n",
       "      <td>4.026316</td>\n",
       "      <td>3.276316</td>\n",
       "      <td>4.065789</td>\n",
       "      <td>4.118421</td>\n",
       "      <td>3.171053</td>\n",
       "      <td>3.789474</td>\n",
       "      <td>4.697368</td>\n",
       "      <td>4.210526</td>\n",
       "      <td>5.671053</td>\n",
       "      <td>ms</td>\n",
       "    </tr>\n",
       "    <tr>\n",
       "      <th>1</th>\n",
       "      <td>1.970488</td>\n",
       "      <td>0.870745</td>\n",
       "      <td>1.433552</td>\n",
       "      <td>1.509425</td>\n",
       "      <td>1.009835</td>\n",
       "      <td>2.986910</td>\n",
       "      <td>4.820047</td>\n",
       "      <td>3.229880</td>\n",
       "      <td>6.390793</td>\n",
       "      <td>2.672527</td>\n",
       "      <td>...</td>\n",
       "      <td>3.473684</td>\n",
       "      <td>3.276316</td>\n",
       "      <td>4.065789</td>\n",
       "      <td>4.000000</td>\n",
       "      <td>3.144737</td>\n",
       "      <td>3.236842</td>\n",
       "      <td>4.815789</td>\n",
       "      <td>4.486842</td>\n",
       "      <td>5.789474</td>\n",
       "      <td>ms</td>\n",
       "    </tr>\n",
       "    <tr>\n",
       "      <th>2</th>\n",
       "      <td>1.794219</td>\n",
       "      <td>0.675071</td>\n",
       "      <td>1.485171</td>\n",
       "      <td>1.260655</td>\n",
       "      <td>0.866268</td>\n",
       "      <td>2.727176</td>\n",
       "      <td>3.713670</td>\n",
       "      <td>2.329179</td>\n",
       "      <td>4.672959</td>\n",
       "      <td>2.302637</td>\n",
       "      <td>...</td>\n",
       "      <td>3.592105</td>\n",
       "      <td>3.697368</td>\n",
       "      <td>3.986842</td>\n",
       "      <td>4.026316</td>\n",
       "      <td>3.065789</td>\n",
       "      <td>3.473684</td>\n",
       "      <td>4.421053</td>\n",
       "      <td>3.750000</td>\n",
       "      <td>5.394737</td>\n",
       "      <td>ms</td>\n",
       "    </tr>\n",
       "    <tr>\n",
       "      <th>3</th>\n",
       "      <td>1.877490</td>\n",
       "      <td>0.921275</td>\n",
       "      <td>1.654040</td>\n",
       "      <td>1.283696</td>\n",
       "      <td>1.114773</td>\n",
       "      <td>3.108576</td>\n",
       "      <td>4.547035</td>\n",
       "      <td>2.834067</td>\n",
       "      <td>5.477964</td>\n",
       "      <td>2.243947</td>\n",
       "      <td>...</td>\n",
       "      <td>3.276316</td>\n",
       "      <td>2.750000</td>\n",
       "      <td>3.828947</td>\n",
       "      <td>3.855263</td>\n",
       "      <td>2.934211</td>\n",
       "      <td>3.881579</td>\n",
       "      <td>3.842105</td>\n",
       "      <td>4.210526</td>\n",
       "      <td>4.815789</td>\n",
       "      <td>ms</td>\n",
       "    </tr>\n",
       "    <tr>\n",
       "      <th>4</th>\n",
       "      <td>2.429446</td>\n",
       "      <td>0.935277</td>\n",
       "      <td>2.181281</td>\n",
       "      <td>2.028645</td>\n",
       "      <td>1.279855</td>\n",
       "      <td>3.604746</td>\n",
       "      <td>5.435105</td>\n",
       "      <td>3.779656</td>\n",
       "      <td>6.918349</td>\n",
       "      <td>3.351619</td>\n",
       "      <td>...</td>\n",
       "      <td>3.263158</td>\n",
       "      <td>3.526316</td>\n",
       "      <td>3.986842</td>\n",
       "      <td>4.000000</td>\n",
       "      <td>3.052632</td>\n",
       "      <td>2.776316</td>\n",
       "      <td>4.197368</td>\n",
       "      <td>3.526316</td>\n",
       "      <td>5.171053</td>\n",
       "      <td>ms</td>\n",
       "    </tr>\n",
       "  </tbody>\n",
       "</table>\n",
       "<p>5 rows × 183 columns</p>\n",
       "</div>"
      ],
      "text/plain": [
       "    Column1   Column2   Column3   Column4   Column5   Column6   Column7  \\\n",
       "0  2.396691  0.730968  2.552197  2.004677  1.015855  2.887735  4.912143   \n",
       "1  1.970488  0.870745  1.433552  1.509425  1.009835  2.986910  4.820047   \n",
       "2  1.794219  0.675071  1.485171  1.260655  0.866268  2.727176  3.713670   \n",
       "3  1.877490  0.921275  1.654040  1.283696  1.114773  3.108576  4.547035   \n",
       "4  2.429446  0.935277  2.181281  2.028645  1.279855  3.604746  5.435105   \n",
       "\n",
       "    Column8   Column9  Column10    ...      Column174  Column175  Column176  \\\n",
       "0  2.828218  6.304574  2.813657    ...       4.026316   3.276316   4.065789   \n",
       "1  3.229880  6.390793  2.672527    ...       3.473684   3.276316   4.065789   \n",
       "2  2.329179  4.672959  2.302637    ...       3.592105   3.697368   3.986842   \n",
       "3  2.834067  5.477964  2.243947    ...       3.276316   2.750000   3.828947   \n",
       "4  3.779656  6.918349  3.351619    ...       3.263158   3.526316   3.986842   \n",
       "\n",
       "   Column177  Column178  Column179  Column180  Column181  Column182  Column183  \n",
       "0   4.118421   3.171053   3.789474   4.697368   4.210526   5.671053         ms  \n",
       "1   4.000000   3.144737   3.236842   4.815789   4.486842   5.789474         ms  \n",
       "2   4.026316   3.065789   3.473684   4.421053   3.750000   5.394737         ms  \n",
       "3   3.855263   2.934211   3.881579   3.842105   4.210526   4.815789         ms  \n",
       "4   4.000000   3.052632   2.776316   4.197368   3.526316   5.171053         ms  \n",
       "\n",
       "[5 rows x 183 columns]"
      ]
     },
     "execution_count": 2,
     "metadata": {},
     "output_type": "execute_result"
    }
   ],
   "source": [
    "# Load the csv brain data with the significant variables\n",
    "data = pd.read_csv(\"SCMatrixSignificantData.csv\") \n",
    "\n",
    "# Shuffle the data\n",
    "data = shuffle(data, random_state=0).reset_index(drop=True)\n",
    "data.head()"
   ]
  },
  {
   "cell_type": "code",
   "execution_count": 3,
   "metadata": {},
   "outputs": [
    {
     "name": "stdout",
     "output_type": "stream",
     "text": [
      "Properties dimensions:  (239, 182)\n",
      "Classes dimensions:  (239,)\n",
      "There are 2 classes: ['hv', 'ms']\n"
     ]
    }
   ],
   "source": [
    "# Separate the dataframe into nodes_properties (x) and classes (y)\n",
    "nodes_properties = data.iloc[:,0:len(data.columns)-1]\n",
    "print('Properties dimensions: ', nodes_properties.shape)\n",
    "\n",
    "classes = data.iloc[:,len(data.columns)-1]\n",
    "classes_names = [\"hv\", \"ms\"]\n",
    "n_classes = len(classes_names)\n",
    "print('Classes dimensions: ', classes.shape)\n",
    "print('There are {} classes: {}'.format(n_classes, classes_names))"
   ]
  },
  {
   "cell_type": "code",
   "execution_count": 4,
   "metadata": {},
   "outputs": [],
   "source": [
    "# Divide the dataframe in the test and train sets, with 80% of the data in the train group and 20% in the test set.\n",
    "# We will stratify using classes, so that there is the same proportion of each class in the test/train sets as in the original\n",
    "# dataset\n",
    "X_train, X_test, y_train, y_test = train_test_split(nodes_properties, classes, test_size=0.2, random_state=2019, stratify=classes)\n"
   ]
  },
  {
   "cell_type": "code",
   "execution_count": 5,
   "metadata": {},
   "outputs": [
    {
     "name": "stdout",
     "output_type": "stream",
     "text": [
      "X_train dimensions:  (191, 182)\n",
      "y_train dimensions:  (191,)\n",
      "X_test dimensions:  (48, 182)\n",
      "y_test dimensions:  (48,)\n"
     ]
    }
   ],
   "source": [
    "print('X_train dimensions: ', X_train.shape)\n",
    "print('y_train dimensions: ', y_train.shape)\n",
    "\n",
    "print('X_test dimensions: ', X_test.shape)\n",
    "print('y_test dimensions: ', y_test.shape)"
   ]
  },
  {
   "cell_type": "markdown",
   "metadata": {},
   "source": [
    "<a id='knn'></a>"
   ]
  },
  {
   "cell_type": "markdown",
   "metadata": {},
   "source": [
    "## K-NN"
   ]
  },
  {
   "cell_type": "markdown",
   "metadata": {},
   "source": [
    "#### Hyperparameter tuning"
   ]
  },
  {
   "cell_type": "code",
   "execution_count": 6,
   "metadata": {},
   "outputs": [
    {
     "name": "stdout",
     "output_type": "stream",
     "text": [
      "The search took 3.093517541885376 seconds\n",
      " \n",
      "Rank : 1. Mean accuracy 80.1086 +/- 3.0964. Parameters: {'n_neighbors': 20, 'weights': 'distance'}\n"
     ]
    }
   ],
   "source": [
    "# First of all, create the classifier\n",
    "knn = KNeighborsClassifier()\n",
    "\n",
    "# Then, the hyperparameters to be optimized are defined \n",
    "# k = number of nearest neighbours considered\n",
    "# weights = weight function used in prediction. If it is 'uniform', all the neighbours will have the same importance. If it is \n",
    "# 'distance', closer neighbours will have more influence. \n",
    "\n",
    "k_range = list(range(1, 21))\n",
    "weight_names = ['uniform', 'distance']\n",
    "\n",
    "param_grid = dict(n_neighbors=k_range, weights = weight_names)\n",
    "\n",
    "# Now create the grid search with 4 folds for cross-validation\n",
    "grid = GridSearchCV(knn, param_grid, cv=4, iid=False)\n",
    "\n",
    "# Apply the grid to the data checking the time \n",
    "start = time()\n",
    "grid.fit(X_train, y_train)\n",
    "end = time()\n",
    "\n",
    "# Check the results\n",
    "print(\"The search took {} seconds\".format(end - start))\n",
    "print(\" \")\n",
    "\n",
    "ranks = list(grid.cv_results_['rank_test_score'])\n",
    "means = list(grid.cv_results_[\"mean_test_score\"])\n",
    "stds = list(grid.cv_results_[\"std_test_score\"])\n",
    "params = list(grid.cv_results_['params'])\n",
    "\n",
    "results = zip (ranks, means, stds, params)\n",
    "for rank, mean, std, params in results:\n",
    "    if rank == 1: #If the rank of the result is one, print it\n",
    "        print(\"Rank : {}. Mean accuracy {:.4f} +/- {:.4f}. Parameters: {}\".format(rank, mean*100, std*100, params))\n"
   ]
  },
  {
   "cell_type": "markdown",
   "metadata": {},
   "source": [
    "#### Model training with best parameters"
   ]
  },
  {
   "cell_type": "code",
   "execution_count": 7,
   "metadata": {},
   "outputs": [
    {
     "name": "stdout",
     "output_type": "stream",
     "text": [
      "K-NN Algorithm results\n",
      "-----------------------\n",
      "Optimal k: 20\n",
      "Optimal weights: distance\n",
      "Accuracy in the test set with the optimal parameters: 83.33%\n"
     ]
    }
   ],
   "source": [
    "# First create and fit the model with the best hyperparameters\n",
    "knn = KNeighborsClassifier(n_neighbors=grid.best_params_[\"n_neighbors\"], weights=grid.best_params_[\"weights\"])\n",
    "\n",
    "knn.fit(X_train, y_train)\n",
    "\n",
    "# Predict the test values\n",
    "y_predicted = knn.predict(X_test)\n",
    "\n",
    "# Get the accuracy of the model\n",
    "accuracy = accuracy_score(y_test, y_predicted)\n",
    "\n",
    "# Print the results\n",
    "print(\"K-NN Algorithm results\")\n",
    "print(\"-----------------------\")\n",
    "print(\"Optimal k: {}\".format(grid.best_params_[\"n_neighbors\"]))\n",
    "print(\"Optimal weights: {}\".format(grid.best_params_[\"weights\"]))\n",
    "print(\"Accuracy in the test set with the optimal parameters: {:.2f}%\".format(accuracy*100))"
   ]
  },
  {
   "cell_type": "code",
   "execution_count": 8,
   "metadata": {},
   "outputs": [],
   "source": [
    "# Confusion matrix plot function\n",
    "def plot_confusion_matrix(cm, classes,\n",
    "                          title='Confusion matrix',\n",
    "                          cmap=plt.cm.Blues):\n",
    "    cm = cm.astype('float') / cm.sum(axis=1)[:, np.newaxis]\n",
    "    plt.imshow(cm, interpolation='nearest', cmap=cmap)\n",
    "    plt.title(title)\n",
    "    plt.colorbar()\n",
    "    tick_marks = np.arange(len(classes))\n",
    "    plt.xticks(tick_marks, classes, rotation=45)\n",
    "    plt.yticks(tick_marks, classes)\n",
    "\n",
    "    fmt = '.2f'\n",
    "    thresh = cm.max() / 2.\n",
    "    for i, j in itertools.product(range(cm.shape[0]), range(cm.shape[1])):\n",
    "        plt.text(j, i, format(cm[i, j], fmt),\n",
    "                 horizontalalignment=\"center\",\n",
    "                 color=\"white\" if cm[i, j] > thresh else \"black\")\n",
    "\n",
    "    plt.ylabel('True label')\n",
    "    plt.xlabel('Predicted label')\n",
    "    plt.tight_layout()"
   ]
  },
  {
   "cell_type": "markdown",
   "metadata": {},
   "source": [
    "#### Confusion matrix"
   ]
  },
  {
   "cell_type": "code",
   "execution_count": 9,
   "metadata": {},
   "outputs": [
    {
     "name": "stdout",
     "output_type": "stream",
     "text": [
      "[[ 1  8]\n",
      " [ 0 39]]\n"
     ]
    },
    {
     "data": {
      "image/png": "[encoded data removed]",
      "text/plain": [
       "<Figure size 432x288 with 2 Axes>"
      ]
     },
     "metadata": {
      "needs_background": "light"
     },
     "output_type": "display_data"
    }
   ],
   "source": [
    "conf_matrix = confusion_matrix(y_test, y_predicted)\n",
    "print(conf_matrix)\n",
    "\n",
    "# Plot confusion matrix\n",
    "plt.figure()\n",
    "plot_confusion_matrix(conf_matrix, classes=classes_names,\n",
    "                      title='Matriz de confusión')"
   ]
  },
  {
   "cell_type": "markdown",
   "metadata": {},
   "source": [
    "<a id='svm'></a>"
   ]
  },
  {
   "cell_type": "markdown",
   "metadata": {},
   "source": [
    "## SVM"
   ]
  },
  {
   "cell_type": "markdown",
   "metadata": {},
   "source": [
    " #### Hyperparameter tuning"
   ]
  },
  {
   "cell_type": "code",
   "execution_count": 10,
   "metadata": {},
   "outputs": [
    {
     "name": "stdout",
     "output_type": "stream",
     "text": [
      "The search took 9.78747820854187 seconds\n",
      " \n",
      "Rank : 1. Mean accuracy 81.1518 +/- 0.1718. Parameters: {'C': 64.2200773451755, 'gamma': 0.39977771188496447}\n",
      "Rank : 1. Mean accuracy 81.1518 +/- 0.1718. Parameters: {'C': 16.264939856103243, 'gamma': 0.4797105828230358}\n",
      "Rank : 1. Mean accuracy 81.1518 +/- 0.1718. Parameters: {'C': 95.5714619595073, 'gamma': 0.49020253885305176}\n",
      "Rank : 1. Mean accuracy 81.1518 +/- 0.1718. Parameters: {'C': 89.4172525649848, 'gamma': 0.7950977380821433}\n",
      "Rank : 1. Mean accuracy 81.1518 +/- 0.1718. Parameters: {'C': 48.987640842246904, 'gamma': 0.7194376101527928}\n",
      "Rank : 1. Mean accuracy 81.1518 +/- 0.1718. Parameters: {'C': 35.36365278134429, 'gamma': 0.9804474703318289}\n",
      "Rank : 1. Mean accuracy 81.1518 +/- 0.1718. Parameters: {'C': 35.032638423156136, 'gamma': 0.12208836464404427}\n",
      "Rank : 1. Mean accuracy 81.1518 +/- 0.1718. Parameters: {'C': 7.484037117196683, 'gamma': 0.6192146254295181}\n",
      "Rank : 1. Mean accuracy 81.1518 +/- 0.1718. Parameters: {'C': 46.93167423052774, 'gamma': 0.6992739165984648}\n",
      "Rank : 1. Mean accuracy 81.1518 +/- 0.1718. Parameters: {'C': 47.79997078899263, 'gamma': 0.15178655702801325}\n",
      "Rank : 1. Mean accuracy 81.1518 +/- 0.1718. Parameters: {'C': 74.24786431576838, 'gamma': 0.25279962317221283}\n",
      "Rank : 1. Mean accuracy 81.1518 +/- 0.1718. Parameters: {'C': 54.07242473805561, 'gamma': 0.6867903720997127}\n",
      "Rank : 1. Mean accuracy 81.1518 +/- 0.1718. Parameters: {'C': 27.223535332799074, 'gamma': 0.29433770517718805}\n",
      "Rank : 1. Mean accuracy 81.1518 +/- 0.1718. Parameters: {'C': 46.2637210946972, 'gamma': 0.02405107427065134}\n",
      "Rank : 1. Mean accuracy 81.1518 +/- 0.1718. Parameters: {'C': 74.33933463191534, 'gamma': 0.6843283531720513}\n",
      "Rank : 1. Mean accuracy 81.1518 +/- 0.1718. Parameters: {'C': 53.42691861802841, 'gamma': 0.34894353999982664}\n",
      "Rank : 1. Mean accuracy 81.1518 +/- 0.1718. Parameters: {'C': 10.384265378643985, 'gamma': 0.9876197927976639}\n",
      "Rank : 1. Mean accuracy 81.1518 +/- 0.1718. Parameters: {'C': 58.59396241209994, 'gamma': 0.05216214139041597}\n",
      "Rank : 1. Mean accuracy 81.1518 +/- 0.1718. Parameters: {'C': 99.16917508366964, 'gamma': 0.153244755851614}\n",
      "Rank : 1. Mean accuracy 81.1518 +/- 0.1718. Parameters: {'C': 62.77781746723446, 'gamma': 0.776269155904934}\n",
      "Rank : 1. Mean accuracy 81.1518 +/- 0.1718. Parameters: {'C': 35.15078242091959, 'gamma': 0.08703646151557709}\n",
      "Rank : 1. Mean accuracy 81.1518 +/- 0.1718. Parameters: {'C': 62.191708980672196, 'gamma': 0.48242025615825157}\n",
      "Rank : 1. Mean accuracy 81.1518 +/- 0.1718. Parameters: {'C': 26.15674234098838, 'gamma': 0.3318788334095826}\n",
      "Rank : 1. Mean accuracy 81.1518 +/- 0.1718. Parameters: {'C': 43.019621251175145, 'gamma': 0.06900825422786572}\n",
      "Rank : 1. Mean accuracy 81.1518 +/- 0.1718. Parameters: {'C': 3.8586490194049463, 'gamma': 0.14445201166809252}\n",
      "Rank : 1. Mean accuracy 81.1518 +/- 0.1718. Parameters: {'C': 50.07864212877263, 'gamma': 0.713244168837497}\n",
      "Rank : 1. Mean accuracy 81.1518 +/- 0.1718. Parameters: {'C': 92.10496951695737, 'gamma': 0.9898323614931414}\n",
      "Rank : 1. Mean accuracy 81.1518 +/- 0.1718. Parameters: {'C': 98.39337061266184, 'gamma': 0.23929762404494948}\n",
      "Rank : 1. Mean accuracy 81.1518 +/- 0.1718. Parameters: {'C': 91.67057763621175, 'gamma': 0.6184166329678229}\n",
      "Rank : 1. Mean accuracy 81.1518 +/- 0.1718. Parameters: {'C': 3.960746976033357, 'gamma': 0.9983429225738324}\n",
      "Rank : 1. Mean accuracy 81.1518 +/- 0.1718. Parameters: {'C': 67.04988676931008, 'gamma': 0.8098731234430091}\n",
      "Rank : 1. Mean accuracy 81.1518 +/- 0.1718. Parameters: {'C': 20.898123256489576, 'gamma': 0.4823620552848824}\n",
      "Rank : 1. Mean accuracy 81.1518 +/- 0.1718. Parameters: {'C': 8.136966091439445, 'gamma': 0.8619883921155458}\n",
      "Rank : 1. Mean accuracy 81.1518 +/- 0.1718. Parameters: {'C': 4.869910674488231, 'gamma': 0.20868114457357667}\n",
      "Rank : 1. Mean accuracy 81.1518 +/- 0.1718. Parameters: {'C': 6.95454240335761, 'gamma': 0.09458761760972423}\n",
      "Rank : 1. Mean accuracy 81.1518 +/- 0.1718. Parameters: {'C': 31.564315711096857, 'gamma': 0.2055027526248041}\n",
      "Rank : 1. Mean accuracy 81.1518 +/- 0.1718. Parameters: {'C': 38.035915051768875, 'gamma': 0.06773836579968806}\n",
      "Rank : 1. Mean accuracy 81.1518 +/- 0.1718. Parameters: {'C': 76.70777482735504, 'gamma': 0.9852207349973369}\n",
      "Rank : 1. Mean accuracy 81.1518 +/- 0.1718. Parameters: {'C': 7.779381929831107, 'gamma': 0.8217800872859402}\n",
      "Rank : 1. Mean accuracy 81.1518 +/- 0.1718. Parameters: {'C': 78.60281493672045, 'gamma': 0.203243570492323}\n",
      "Rank : 1. Mean accuracy 81.1518 +/- 0.1718. Parameters: {'C': 49.90930059706894, 'gamma': 0.41534674632918034}\n",
      "Rank : 1. Mean accuracy 81.1518 +/- 0.1718. Parameters: {'C': 22.21846294736297, 'gamma': 0.5804810131473915}\n",
      "Rank : 1. Mean accuracy 81.1518 +/- 0.1718. Parameters: {'C': 47.89002710290103, 'gamma': 0.7737826833686656}\n",
      "Rank : 1. Mean accuracy 81.1518 +/- 0.1718. Parameters: {'C': 53.22017290806746, 'gamma': 0.33129997244263576}\n",
      "Rank : 1. Mean accuracy 81.1518 +/- 0.1718. Parameters: {'C': 64.11910576520145, 'gamma': 0.24136229022898936}\n",
      "Rank : 1. Mean accuracy 81.1518 +/- 0.1718. Parameters: {'C': 77.7593773489867, 'gamma': 0.8046596787406747}\n",
      "Rank : 1. Mean accuracy 81.1518 +/- 0.1718. Parameters: {'C': 10.813007011568263, 'gamma': 0.2843089582319893}\n",
      "Rank : 1. Mean accuracy 81.1518 +/- 0.1718. Parameters: {'C': 61.162163806951256, 'gamma': 0.8421977981854143}\n",
      "Rank : 1. Mean accuracy 81.1518 +/- 0.1718. Parameters: {'C': 89.41148849341866, 'gamma': 0.2828201144470235}\n",
      "Rank : 1. Mean accuracy 81.1518 +/- 0.1718. Parameters: {'C': 16.411635013361078, 'gamma': 0.7876053903289544}\n",
      "Rank : 1. Mean accuracy 81.1518 +/- 0.1718. Parameters: {'C': 28.970708338427052, 'gamma': 0.06064168767491618}\n",
      "Rank : 1. Mean accuracy 81.1518 +/- 0.1718. Parameters: {'C': 79.21220106616084, 'gamma': 0.46911778786290015}\n",
      "Rank : 1. Mean accuracy 81.1518 +/- 0.1718. Parameters: {'C': 32.88013640454858, 'gamma': 0.33008921263963986}\n",
      "Rank : 1. Mean accuracy 81.1518 +/- 0.1718. Parameters: {'C': 71.88622420621437, 'gamma': 0.17919449546243094}\n",
      "Rank : 1. Mean accuracy 81.1518 +/- 0.1718. Parameters: {'C': 56.288494507380534, 'gamma': 0.33711432966193944}\n",
      "Rank : 1. Mean accuracy 81.1518 +/- 0.1718. Parameters: {'C': 55.799312752316034, 'gamma': 0.3549358965085041}\n",
      "Rank : 1. Mean accuracy 81.1518 +/- 0.1718. Parameters: {'C': 32.25774706532065, 'gamma': 0.5542495244043467}\n",
      "Rank : 1. Mean accuracy 81.1518 +/- 0.1718. Parameters: {'C': 77.6778033242428, 'gamma': 0.3874663044786234}\n",
      "Rank : 1. Mean accuracy 81.1518 +/- 0.1718. Parameters: {'C': 92.78698386636397, 'gamma': 0.6344954706248753}\n",
      "Rank : 1. Mean accuracy 81.1518 +/- 0.1718. Parameters: {'C': 49.28204262508078, 'gamma': 0.37726505970380564}\n",
      "Rank : 1. Mean accuracy 81.1518 +/- 0.1718. Parameters: {'C': 55.67409136979763, 'gamma': 0.8350345053945613}\n",
      "Rank : 1. Mean accuracy 81.1518 +/- 0.1718. Parameters: {'C': 86.9055335547668, 'gamma': 0.4603903905601159}\n",
      "Rank : 1. Mean accuracy 81.1518 +/- 0.1718. Parameters: {'C': 9.811822829082782, 'gamma': 0.6977194958812716}\n",
      "Rank : 1. Mean accuracy 81.1518 +/- 0.1718. Parameters: {'C': 7.18831591266501, 'gamma': 0.7391419650448358}\n",
      "Rank : 1. Mean accuracy 81.1518 +/- 0.1718. Parameters: {'C': 69.6999201047802, 'gamma': 0.7792542504470477}\n",
      "Rank : 1. Mean accuracy 81.1518 +/- 0.1718. Parameters: {'C': 19.253797267574324, 'gamma': 0.36330349476123736}\n",
      "Rank : 1. Mean accuracy 81.1518 +/- 0.1718. Parameters: {'C': 95.52158141016243, 'gamma': 0.5456968620375231}\n",
      "Rank : 1. Mean accuracy 81.1518 +/- 0.1718. Parameters: {'C': 87.38737407973005, 'gamma': 0.5682495938234413}\n",
      "Rank : 1. Mean accuracy 81.1518 +/- 0.1718. Parameters: {'C': 45.04827568396159, 'gamma': 0.9153225691879432}\n",
      "Rank : 1. Mean accuracy 81.1518 +/- 0.1718. Parameters: {'C': 15.727400170720617, 'gamma': 0.6936375792255888}\n",
      "Rank : 1. Mean accuracy 81.1518 +/- 0.1718. Parameters: {'C': 81.41264170236796, 'gamma': 0.19363846431353837}\n",
      "Rank : 1. Mean accuracy 81.1518 +/- 0.1718. Parameters: {'C': 98.03137518077902, 'gamma': 0.952827790447499}\n",
      "Rank : 1. Mean accuracy 81.1518 +/- 0.1718. Parameters: {'C': 24.861572755607707, 'gamma': 0.17398453482388598}\n",
      "Rank : 1. Mean accuracy 81.1518 +/- 0.1718. Parameters: {'C': 90.07473919910906, 'gamma': 0.7674738947679542}\n",
      "Rank : 1. Mean accuracy 81.1518 +/- 0.1718. Parameters: {'C': 39.887526128059804, 'gamma': 0.9725736527946874}\n",
      "Rank : 1. Mean accuracy 81.1518 +/- 0.1718. Parameters: {'C': 26.692326851985225, 'gamma': 0.5754372618605123}\n",
      "Rank : 1. Mean accuracy 81.1518 +/- 0.1718. Parameters: {'C': 81.08588490729824, 'gamma': 0.5418099659842117}\n",
      "Rank : 1. Mean accuracy 81.1518 +/- 0.1718. Parameters: {'C': 5.918081779147265, 'gamma': 0.8255329615010704}\n",
      "Rank : 1. Mean accuracy 81.1518 +/- 0.1718. Parameters: {'C': 82.82817342629804, 'gamma': 0.6196226070304093}\n",
      "Rank : 1. Mean accuracy 81.1518 +/- 0.1718. Parameters: {'C': 15.047975857563488, 'gamma': 0.00249664922713566}\n",
      "Rank : 1. Mean accuracy 81.1518 +/- 0.1718. Parameters: {'C': 95.8307421086472, 'gamma': 0.6189038477695961}\n",
      "Rank : 1. Mean accuracy 81.1518 +/- 0.1718. Parameters: {'C': 16.20990283679664, 'gamma': 0.8978174556802467}\n",
      "Rank : 1. Mean accuracy 81.1518 +/- 0.1718. Parameters: {'C': 71.00513209568207, 'gamma': 0.3422292414041118}\n",
      "Rank : 1. Mean accuracy 81.1518 +/- 0.1718. Parameters: {'C': 100.66372279313079, 'gamma': 0.6662313261840355}\n",
      "Rank : 1. Mean accuracy 81.1518 +/- 0.1718. Parameters: {'C': 27.75099416727277, 'gamma': 0.18826645618883586}\n",
      "Rank : 1. Mean accuracy 81.1518 +/- 0.1718. Parameters: {'C': 44.74537166132312, 'gamma': 0.36065227888374474}\n",
      "Rank : 1. Mean accuracy 81.1518 +/- 0.1718. Parameters: {'C': 87.511303152496, 'gamma': 0.3203483293202426}\n",
      "Rank : 1. Mean accuracy 81.1518 +/- 0.1718. Parameters: {'C': 79.89155620802512, 'gamma': 0.3542114167181275}\n",
      "Rank : 1. Mean accuracy 81.1518 +/- 0.1718. Parameters: {'C': 32.92593445608547, 'gamma': 0.4804274717679059}\n",
      "Rank : 1. Mean accuracy 81.1518 +/- 0.1718. Parameters: {'C': 95.79791662619927, 'gamma': 0.2378107181065825}\n",
      "Rank : 1. Mean accuracy 81.1518 +/- 0.1718. Parameters: {'C': 14.195413342983574, 'gamma': 0.23772469280940345}\n",
      "Rank : 1. Mean accuracy 81.1518 +/- 0.1718. Parameters: {'C': 41.66615093894402, 'gamma': 0.06779666022802278}\n",
      "Rank : 1. Mean accuracy 81.1518 +/- 0.1718. Parameters: {'C': 54.41946318936452, 'gamma': 0.7184999486134501}\n",
      "Rank : 1. Mean accuracy 81.1518 +/- 0.1718. Parameters: {'C': 87.06874991960828, 'gamma': 0.341190575676811}\n",
      "Rank : 1. Mean accuracy 81.1518 +/- 0.1718. Parameters: {'C': 61.82722223249758, 'gamma': 0.11884599948255259}\n",
      "Rank : 1. Mean accuracy 81.1518 +/- 0.1718. Parameters: {'C': 65.82990349473442, 'gamma': 0.21457906463015064}\n",
      "Rank : 1. Mean accuracy 81.1518 +/- 0.1718. Parameters: {'C': 47.04456955370203, 'gamma': 0.7254012889585795}\n",
      "Rank : 1. Mean accuracy 81.1518 +/- 0.1718. Parameters: {'C': 91.94103868318253, 'gamma': 0.20223294757133714}\n",
      "Rank : 1. Mean accuracy 81.1518 +/- 0.1718. Parameters: {'C': 51.586543879544735, 'gamma': 0.31341677536352464}\n",
      "Rank : 1. Mean accuracy 81.1518 +/- 0.1718. Parameters: {'C': 9.307818835529657, 'gamma': 0.8090432139200644}\n"
     ]
    }
   ],
   "source": [
    "# Create the classifier\n",
    "svm_clasif = SVC(random_state = 1)\n",
    "\n",
    "# Define the hyperparameters to be optimized\n",
    "param_dist = dict(C=uniform(1, 100), gamma=uniform(0.001, 1))\n",
    "\n",
    "# Now create the randomnized search with 4 folds for cross-validation\n",
    "num_iterations = 100\n",
    "cv = StratifiedKFold(n_splits=4, shuffle=True)\n",
    "rand = RandomizedSearchCV(svm_clasif, param_distributions = param_dist, cv=cv, n_iter=num_iterations)\n",
    "\n",
    "# Apply the search to the data checking the time \n",
    "start = time()\n",
    "rand.fit(X_train, y_train)\n",
    "end = time()\n",
    "\n",
    "# Check the results\n",
    "print(\"The search took {} seconds\".format(end - start))\n",
    "print(\" \")\n",
    "\n",
    "ranks = list(rand.cv_results_['rank_test_score'])\n",
    "means = list(rand.cv_results_[\"mean_test_score\"])\n",
    "stds = list(rand.cv_results_[\"std_test_score\"])\n",
    "params = list(rand.cv_results_['params'])\n",
    "\n",
    "results = zip (ranks, means, stds, params)\n",
    "for rank, mean, std, params in results:\n",
    "    if rank == 1: #If the rank of the result is one, print it\n",
    "        print(\"Rank : {}. Mean accuracy {:.4f} +/- {:.4f}. Parameters: {}\".format(rank, mean*100, std*100, params))"
   ]
  },
  {
   "cell_type": "markdown",
   "metadata": {},
   "source": [
    "#### Train model with best parameters"
   ]
  },
  {
   "cell_type": "code",
   "execution_count": 11,
   "metadata": {},
   "outputs": [
    {
     "name": "stdout",
     "output_type": "stream",
     "text": [
      "SVM Algorithm results\n",
      "-----------------------\n",
      "Optimal C: 64.2200773451755\n",
      "Optimal gamma: 0.39977771188496447\n",
      "Accuracy in the test set with the optimal parameters: 81.25%\n"
     ]
    }
   ],
   "source": [
    "# Create and fit the model with the best hyperparameters\n",
    "svm_clasif = SVC(C=rand.best_params_[\"C\"], gamma=rand.best_params_[\"gamma\"])\n",
    "svm_clasif.fit(X_train, y_train)\n",
    "\n",
    "# Predict the test values\n",
    "y_predicted = svm_clasif.predict(X_test)\n",
    "\n",
    "# Get the accuracy of the model\n",
    "accuracy = accuracy_score(y_test, y_predicted)\n",
    "\n",
    "# Print the results\n",
    "print(\"SVM Algorithm results\")\n",
    "print(\"-----------------------\")\n",
    "print(\"Optimal C: {}\".format(rand.best_params_[\"C\"]))\n",
    "print(\"Optimal gamma: {}\".format(rand.best_params_[\"gamma\"]))\n",
    "print(\"Accuracy in the test set with the optimal parameters: {:.2f}%\".format(accuracy*100))"
   ]
  },
  {
   "cell_type": "markdown",
   "metadata": {},
   "source": [
    "#### Confusion matrix"
   ]
  },
  {
   "cell_type": "code",
   "execution_count": 12,
   "metadata": {},
   "outputs": [
    {
     "name": "stdout",
     "output_type": "stream",
     "text": [
      "[[ 0  9]\n",
      " [ 0 39]]\n"
     ]
    },
    {
     "data": {
      "image/png": "[encoded data removed]",
      "text/plain": [
       "<Figure size 432x288 with 2 Axes>"
      ]
     },
     "metadata": {
      "needs_background": "light"
     },
     "output_type": "display_data"
    }
   ],
   "source": [
    "conf_matrix = confusion_matrix(y_test, y_predicted)\n",
    "print(conf_matrix)\n",
    "\n",
    "# Plot confusion matrix\n",
    "plt.figure()\n",
    "plot_confusion_matrix(conf_matrix, classes=classes_names,\n",
    "                      title='Matriz de confusión')"
   ]
  },
  {
   "cell_type": "markdown",
   "metadata": {},
   "source": [
    "<a id='randomforest'></a>"
   ]
  },
  {
   "cell_type": "markdown",
   "metadata": {},
   "source": [
    "## Random Forest"
   ]
  },
  {
   "cell_type": "markdown",
   "metadata": {},
   "source": [
    "#### Hyperparameter tuning"
   ]
  },
  {
   "cell_type": "code",
   "execution_count": 13,
   "metadata": {},
   "outputs": [
    {
     "name": "stdout",
     "output_type": "stream",
     "text": [
      "The search took 16.57741689682007 seconds\n",
      " \n",
      "Rank : 1. Mean accuracy 81.1724 +/- 2.4253. Parameters: {'n_estimators': 5}\n"
     ]
    }
   ],
   "source": [
    "# Create the classifier\n",
    "random_forest = RandomForestClassifier(random_state=0)\n",
    "\n",
    "# Define the hyperparameters to be optimized \n",
    "n_estimators = list(range(1, 61))\n",
    "\n",
    "param_grid = dict(n_estimators=n_estimators)\n",
    "\n",
    "# Create the grid search with 4 folds for cross-validation\n",
    "grid = GridSearchCV(random_forest, param_grid, cv=4, iid=False)\n",
    "\n",
    "# Apply the grid to the data checking the time \n",
    "start = time()\n",
    "grid.fit(X_train, y_train)\n",
    "end = time()\n",
    "\n",
    "# Check the results\n",
    "print(\"The search took {} seconds\".format(end - start))\n",
    "print(\" \")\n",
    "\n",
    "ranks = list(grid.cv_results_['rank_test_score'])\n",
    "means = list(grid.cv_results_[\"mean_test_score\"])\n",
    "stds = list(grid.cv_results_[\"std_test_score\"])\n",
    "params = list(grid.cv_results_['params'])\n",
    "\n",
    "results = zip (ranks, means, stds, params)\n",
    "for rank, mean, std, params in results:\n",
    "    if rank == 1: #If the rank of the result is one, print it\n",
    "        print(\"Rank : {}. Mean accuracy {:.4f} +/- {:.4f}. Parameters: {}\".format(rank, mean*100, std*100, params))\n"
   ]
  },
  {
   "cell_type": "markdown",
   "metadata": {},
   "source": [
    "#### Train model with best hyperparameters"
   ]
  },
  {
   "cell_type": "code",
   "execution_count": 14,
   "metadata": {},
   "outputs": [
    {
     "name": "stdout",
     "output_type": "stream",
     "text": [
      "Random Forest Algorithm results\n",
      "-----------------------\n",
      "Optimal n_estimators: 5\n",
      "Accuracy in the test set with the optimal parameters: 75.00%\n"
     ]
    }
   ],
   "source": [
    "# Create and fit the model with the best hyperparameters\n",
    "random_forest = RandomForestClassifier(random_state=0, n_estimators=grid.best_params_[\"n_estimators\"])\n",
    "random_forest.fit(X_train, y_train)\n",
    "\n",
    "# Predict the test values\n",
    "y_predicted = random_forest.predict(X_test)\n",
    "\n",
    "# Get the accuracy of the model\n",
    "accuracy = accuracy_score(y_test, y_predicted)\n",
    "\n",
    "# Print the results\n",
    "print(\"Random Forest Algorithm results\")\n",
    "print(\"-----------------------\")\n",
    "print(\"Optimal n_estimators: {}\".format(grid.best_params_[\"n_estimators\"]))\n",
    "print(\"Accuracy in the test set with the optimal parameters: {:.2f}%\".format(accuracy*100))"
   ]
  },
  {
   "cell_type": "markdown",
   "metadata": {},
   "source": [
    "#### Confusion Matrix"
   ]
  },
  {
   "cell_type": "code",
   "execution_count": 15,
   "metadata": {},
   "outputs": [
    {
     "name": "stdout",
     "output_type": "stream",
     "text": [
      "[[ 1  8]\n",
      " [ 4 35]]\n"
     ]
    },
    {
     "data": {
      "image/png": "[encoded data removed]",
      "text/plain": [
       "<Figure size 432x288 with 2 Axes>"
      ]
     },
     "metadata": {
      "needs_background": "light"
     },
     "output_type": "display_data"
    }
   ],
   "source": [
    "conf_matrix = confusion_matrix(y_test, y_predicted)\n",
    "print(conf_matrix)\n",
    "\n",
    "# Plot confusion matrix\n",
    "plt.figure()\n",
    "plot_confusion_matrix(conf_matrix, classes=classes_names,\n",
    "                      title='Matriz de confusión')"
   ]
  },
  {
   "cell_type": "code",
   "execution_count": null,
   "metadata": {},
   "outputs": [],
   "source": []
  }
 ],
 "metadata": {
  "kernelspec": {
   "display_name": "Python 3",
   "language": "python",
   "name": "python3"
  },
  "language_info": {
   "codemirror_mode": {
    "name": "ipython",
    "version": 3
   },
   "file_extension": ".py",
   "mimetype": "text/x-python",
   "name": "python",
   "nbconvert_exporter": "python",
   "pygments_lexer": "ipython3",
   "version": "3.6.7"
  }
 },
 "nbformat": 4,
 "nbformat_minor": 2
}
