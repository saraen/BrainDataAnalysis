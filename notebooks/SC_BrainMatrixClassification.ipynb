{
 "cells": [
  {
   "cell_type": "markdown",
   "metadata": {},
   "source": [
    "<div style=\"width: 100%; clear: both;\">\n",
    "<div style=\"float: left; width: 50%;\">\n",
    "<img src=\"http://www.uoc.edu/portal/_resources/common/imatges/marca_UOC/UOC_Masterbrand.jpg\", align=\"left\">\n",
    "</div>\n",
    "<div style=\"float: right; width: 50%;\">\n",
    "<p style=\"margin: 0; padding-top: 22px; text-align:right;\">TFM - Data Mining and Machine Learning </p>\n",
    "<p style=\"margin: 0; text-align:right;\">2019 · Master in Data science</p>\n",
    "<p style=\"margin: 0; text-align:right; padding-button: 100px;\">Sara Estravís Nieto</p>\n",
    "</div>\n",
    "</div>\n",
    "<div style=\"width:100%;\">&nbsp;</div>\n",
    "\n",
    "\n",
    "# SC Brain Matrix Classification\n",
    "\n",
    "<ul>\n",
    "  <li><a href='#dataload'>Data load</a></li>\n",
    "  <li><a href='#knn'>K-NN</a></li>\n",
    "  <li><a href='#svm'>SVM</a></li>\n",
    "  <li><a href='#randomforest'>Random Forest</a></li>\n",
    "</ul>"
   ]
  },
  {
   "cell_type": "code",
   "execution_count": 1,
   "metadata": {},
   "outputs": [],
   "source": [
    "# Imports\n",
    "import pandas as pd\n",
    "from sklearn.model_selection import train_test_split\n",
    "from sklearn.model_selection import GridSearchCV\n",
    "from sklearn.model_selection import RandomizedSearchCV\n",
    "from sklearn.neighbors import KNeighborsClassifier\n",
    "from time import time\n",
    "from sklearn.metrics import accuracy_score\n",
    "from sklearn.metrics import confusion_matrix\n",
    "import matplotlib.pyplot as plt\n",
    "%matplotlib inline\n",
    "import numpy as np\n",
    "import itertools\n",
    "from sklearn.svm import SVC\n",
    "from sklearn.utils import shuffle\n",
    "from scipy.stats import uniform\n",
    "from sklearn.model_selection import StratifiedKFold\n",
    "from sklearn.ensemble import RandomForestClassifier"
   ]
  },
  {
   "cell_type": "markdown",
   "metadata": {},
   "source": [
    "<a id = 'dataload'/>"
   ]
  },
  {
   "cell_type": "markdown",
   "metadata": {},
   "source": [
    "## Data Load"
   ]
  },
  {
   "cell_type": "code",
   "execution_count": 2,
   "metadata": {
    "scrolled": true
   },
   "outputs": [
    {
     "data": {
      "text/html": [
       "<div>\n",
       "<style scoped>\n",
       "    .dataframe tbody tr th:only-of-type {\n",
       "        vertical-align: middle;\n",
       "    }\n",
       "\n",
       "    .dataframe tbody tr th {\n",
       "        vertical-align: top;\n",
       "    }\n",
       "\n",
       "    .dataframe thead th {\n",
       "        text-align: right;\n",
       "    }\n",
       "</style>\n",
       "<table border=\"1\" class=\"dataframe\">\n",
       "  <thead>\n",
       "    <tr style=\"text-align: right;\">\n",
       "      <th></th>\n",
       "      <th>Column1</th>\n",
       "      <th>Column2</th>\n",
       "      <th>Column3</th>\n",
       "      <th>Column4</th>\n",
       "      <th>Column5</th>\n",
       "      <th>Column6</th>\n",
       "      <th>Column7</th>\n",
       "      <th>Column8</th>\n",
       "      <th>Column9</th>\n",
       "      <th>Column10</th>\n",
       "      <th>...</th>\n",
       "      <th>Column174</th>\n",
       "      <th>Column175</th>\n",
       "      <th>Column176</th>\n",
       "      <th>Column177</th>\n",
       "      <th>Column178</th>\n",
       "      <th>Column179</th>\n",
       "      <th>Column180</th>\n",
       "      <th>Column181</th>\n",
       "      <th>Column182</th>\n",
       "      <th>Column183</th>\n",
       "    </tr>\n",
       "  </thead>\n",
       "  <tbody>\n",
       "    <tr>\n",
       "      <th>0</th>\n",
       "      <td>2.396691</td>\n",
       "      <td>0.730968</td>\n",
       "      <td>2.552197</td>\n",
       "      <td>2.004677</td>\n",
       "      <td>1.015855</td>\n",
       "      <td>2.887735</td>\n",
       "      <td>4.912143</td>\n",
       "      <td>2.828218</td>\n",
       "      <td>6.304574</td>\n",
       "      <td>2.813657</td>\n",
       "      <td>...</td>\n",
       "      <td>4.026316</td>\n",
       "      <td>3.276316</td>\n",
       "      <td>4.065789</td>\n",
       "      <td>4.118421</td>\n",
       "      <td>3.171053</td>\n",
       "      <td>3.789474</td>\n",
       "      <td>4.697368</td>\n",
       "      <td>4.210526</td>\n",
       "      <td>5.671053</td>\n",
       "      <td>ms</td>\n",
       "    </tr>\n",
       "    <tr>\n",
       "      <th>1</th>\n",
       "      <td>1.970488</td>\n",
       "      <td>0.870745</td>\n",
       "      <td>1.433552</td>\n",
       "      <td>1.509425</td>\n",
       "      <td>1.009835</td>\n",
       "      <td>2.986910</td>\n",
       "      <td>4.820047</td>\n",
       "      <td>3.229880</td>\n",
       "      <td>6.390793</td>\n",
       "      <td>2.672527</td>\n",
       "      <td>...</td>\n",
       "      <td>3.473684</td>\n",
       "      <td>3.276316</td>\n",
       "      <td>4.065789</td>\n",
       "      <td>4.000000</td>\n",
       "      <td>3.144737</td>\n",
       "      <td>3.236842</td>\n",
       "      <td>4.815789</td>\n",
       "      <td>4.486842</td>\n",
       "      <td>5.789474</td>\n",
       "      <td>ms</td>\n",
       "    </tr>\n",
       "    <tr>\n",
       "      <th>2</th>\n",
       "      <td>1.794219</td>\n",
       "      <td>0.675071</td>\n",
       "      <td>1.485171</td>\n",
       "      <td>1.260655</td>\n",
       "      <td>0.866268</td>\n",
       "      <td>2.727176</td>\n",
       "      <td>3.713670</td>\n",
       "      <td>2.329179</td>\n",
       "      <td>4.672959</td>\n",
       "      <td>2.302637</td>\n",
       "      <td>...</td>\n",
       "      <td>3.592105</td>\n",
       "      <td>3.697368</td>\n",
       "      <td>3.986842</td>\n",
       "      <td>4.026316</td>\n",
       "      <td>3.065789</td>\n",
       "      <td>3.473684</td>\n",
       "      <td>4.421053</td>\n",
       "      <td>3.750000</td>\n",
       "      <td>5.394737</td>\n",
       "      <td>ms</td>\n",
       "    </tr>\n",
       "    <tr>\n",
       "      <th>3</th>\n",
       "      <td>1.877490</td>\n",
       "      <td>0.921275</td>\n",
       "      <td>1.654040</td>\n",
       "      <td>1.283696</td>\n",
       "      <td>1.114773</td>\n",
       "      <td>3.108576</td>\n",
       "      <td>4.547035</td>\n",
       "      <td>2.834067</td>\n",
       "      <td>5.477964</td>\n",
       "      <td>2.243947</td>\n",
       "      <td>...</td>\n",
       "      <td>3.276316</td>\n",
       "      <td>2.750000</td>\n",
       "      <td>3.828947</td>\n",
       "      <td>3.855263</td>\n",
       "      <td>2.934211</td>\n",
       "      <td>3.881579</td>\n",
       "      <td>3.842105</td>\n",
       "      <td>4.210526</td>\n",
       "      <td>4.815789</td>\n",
       "      <td>ms</td>\n",
       "    </tr>\n",
       "    <tr>\n",
       "      <th>4</th>\n",
       "      <td>2.429446</td>\n",
       "      <td>0.935277</td>\n",
       "      <td>2.181281</td>\n",
       "      <td>2.028645</td>\n",
       "      <td>1.279855</td>\n",
       "      <td>3.604746</td>\n",
       "      <td>5.435105</td>\n",
       "      <td>3.779656</td>\n",
       "      <td>6.918349</td>\n",
       "      <td>3.351619</td>\n",
       "      <td>...</td>\n",
       "      <td>3.263158</td>\n",
       "      <td>3.526316</td>\n",
       "      <td>3.986842</td>\n",
       "      <td>4.000000</td>\n",
       "      <td>3.052632</td>\n",
       "      <td>2.776316</td>\n",
       "      <td>4.197368</td>\n",
       "      <td>3.526316</td>\n",
       "      <td>5.171053</td>\n",
       "      <td>ms</td>\n",
       "    </tr>\n",
       "  </tbody>\n",
       "</table>\n",
       "<p>5 rows × 183 columns</p>\n",
       "</div>"
      ],
      "text/plain": [
       "    Column1   Column2   Column3   Column4   Column5   Column6   Column7  \\\n",
       "0  2.396691  0.730968  2.552197  2.004677  1.015855  2.887735  4.912143   \n",
       "1  1.970488  0.870745  1.433552  1.509425  1.009835  2.986910  4.820047   \n",
       "2  1.794219  0.675071  1.485171  1.260655  0.866268  2.727176  3.713670   \n",
       "3  1.877490  0.921275  1.654040  1.283696  1.114773  3.108576  4.547035   \n",
       "4  2.429446  0.935277  2.181281  2.028645  1.279855  3.604746  5.435105   \n",
       "\n",
       "    Column8   Column9  Column10    ...      Column174  Column175  Column176  \\\n",
       "0  2.828218  6.304574  2.813657    ...       4.026316   3.276316   4.065789   \n",
       "1  3.229880  6.390793  2.672527    ...       3.473684   3.276316   4.065789   \n",
       "2  2.329179  4.672959  2.302637    ...       3.592105   3.697368   3.986842   \n",
       "3  2.834067  5.477964  2.243947    ...       3.276316   2.750000   3.828947   \n",
       "4  3.779656  6.918349  3.351619    ...       3.263158   3.526316   3.986842   \n",
       "\n",
       "   Column177  Column178  Column179  Column180  Column181  Column182  Column183  \n",
       "0   4.118421   3.171053   3.789474   4.697368   4.210526   5.671053         ms  \n",
       "1   4.000000   3.144737   3.236842   4.815789   4.486842   5.789474         ms  \n",
       "2   4.026316   3.065789   3.473684   4.421053   3.750000   5.394737         ms  \n",
       "3   3.855263   2.934211   3.881579   3.842105   4.210526   4.815789         ms  \n",
       "4   4.000000   3.052632   2.776316   4.197368   3.526316   5.171053         ms  \n",
       "\n",
       "[5 rows x 183 columns]"
      ]
     },
     "execution_count": 2,
     "metadata": {},
     "output_type": "execute_result"
    }
   ],
   "source": [
    "# Load the csv brain data with the significant variables\n",
    "data = pd.read_csv(\"SCMatrixSignificantData.csv\") \n",
    "\n",
    "# Shuffle the data\n",
    "data = shuffle(data, random_state=0).reset_index(drop=True)\n",
    "data.head()"
   ]
  },
  {
   "cell_type": "code",
   "execution_count": 3,
   "metadata": {},
   "outputs": [
    {
     "name": "stdout",
     "output_type": "stream",
     "text": [
      "Properties dimensions:  (239, 182)\n",
      "Classes dimensions:  (239,)\n",
      "There are 2 classes: ['hv', 'ms']\n"
     ]
    }
   ],
   "source": [
    "# Separate the dataframe into nodes_properties (x) and classes (y)\n",
    "nodes_properties = data.iloc[:,0:len(data.columns)-1]\n",
    "print('Properties dimensions: ', nodes_properties.shape)\n",
    "\n",
    "classes = data.iloc[:,len(data.columns)-1]\n",
    "classes_names = [\"hv\", \"ms\"]\n",
    "n_classes = len(classes_names)\n",
    "print('Classes dimensions: ', classes.shape)\n",
    "print('There are {} classes: {}'.format(n_classes, classes_names))"
   ]
  },
  {
   "cell_type": "code",
   "execution_count": 4,
   "metadata": {},
   "outputs": [],
   "source": [
    "# Divide the dataframe in the test and train sets, with 80% of the data in the train group and 20% in the test set.\n",
    "# We will stratify using classes, so that there is the same proportion of each class in the test/train sets as in the original\n",
    "# dataset\n",
    "X_train, X_test, y_train, y_test = train_test_split(nodes_properties, classes, test_size=0.2, random_state=2019, stratify=classes)\n"
   ]
  },
  {
   "cell_type": "code",
   "execution_count": 5,
   "metadata": {},
   "outputs": [
    {
     "name": "stdout",
     "output_type": "stream",
     "text": [
      "X_train dimensions:  (191, 182)\n",
      "y_train dimensions:  (191,)\n",
      "X_test dimensions:  (48, 182)\n",
      "y_test dimensions:  (48,)\n"
     ]
    }
   ],
   "source": [
    "print('X_train dimensions: ', X_train.shape)\n",
    "print('y_train dimensions: ', y_train.shape)\n",
    "\n",
    "print('X_test dimensions: ', X_test.shape)\n",
    "print('y_test dimensions: ', y_test.shape)"
   ]
  },
  {
   "cell_type": "markdown",
   "metadata": {},
   "source": [
    "<a id='knn'></a>"
   ]
  },
  {
   "cell_type": "markdown",
   "metadata": {},
   "source": [
    "## K-NN"
   ]
  },
  {
   "cell_type": "markdown",
   "metadata": {},
   "source": [
    "#### Hyperparameter tuning"
   ]
  },
  {
   "cell_type": "code",
   "execution_count": 6,
   "metadata": {},
   "outputs": [
    {
     "name": "stdout",
     "output_type": "stream",
     "text": [
      "The search took 2.9245636463165283 seconds\n",
      " \n",
      "Rank : 1. Mean accuracy 80.1086 +/- 3.0964. Parameters: {'n_neighbors': 20, 'weights': 'distance'}\n"
     ]
    }
   ],
   "source": [
    "# First of all, create the classifier\n",
    "knn = KNeighborsClassifier()\n",
    "\n",
    "# Then, the hyperparameters to be optimized are defined \n",
    "# k = number of nearest neighbours considered\n",
    "# weights = weight function used in prediction. If it is 'uniform', all the neighbours will have the same importance. If it is \n",
    "# 'distance', closer neighbours will have more influence. \n",
    "\n",
    "k_range = list(range(1, 21))\n",
    "weight_names = ['uniform', 'distance']\n",
    "\n",
    "param_grid = dict(n_neighbors=k_range, weights = weight_names)\n",
    "\n",
    "# Now create the grid search with 4 folds for cross-validation\n",
    "grid = GridSearchCV(knn, param_grid, cv=4, iid=False)\n",
    "\n",
    "# Apply the grid to the data checking the time \n",
    "start = time()\n",
    "grid.fit(X_train, y_train)\n",
    "end = time()\n",
    "\n",
    "# Check the results\n",
    "print(\"The search took {} seconds\".format(end - start))\n",
    "print(\" \")\n",
    "\n",
    "ranks = list(grid.cv_results_['rank_test_score'])\n",
    "means = list(grid.cv_results_[\"mean_test_score\"])\n",
    "stds = list(grid.cv_results_[\"std_test_score\"])\n",
    "params = list(grid.cv_results_['params'])\n",
    "\n",
    "results = zip (ranks, means, stds, params)\n",
    "for rank, mean, std, params in results:\n",
    "    if rank == 1: #If the rank of the result is one, print it\n",
    "        print(\"Rank : {}. Mean accuracy {:.4f} +/- {:.4f}. Parameters: {}\".format(rank, mean*100, std*100, params))\n"
   ]
  },
  {
   "cell_type": "markdown",
   "metadata": {},
   "source": [
    "#### Model training with best parameters"
   ]
  },
  {
   "cell_type": "code",
   "execution_count": 7,
   "metadata": {},
   "outputs": [
    {
     "name": "stdout",
     "output_type": "stream",
     "text": [
      "K-NN Algorithm results\n",
      "-----------------------\n",
      "Optimal k: 20\n",
      "Optimal weights: distance\n",
      "Accuracy in the test set with the optimal parameters: 83.33%\n"
     ]
    }
   ],
   "source": [
    "# First create and fit the model with the best hyperparameters\n",
    "knn = KNeighborsClassifier(n_neighbors=grid.best_params_[\"n_neighbors\"], weights=grid.best_params_[\"weights\"])\n",
    "\n",
    "knn.fit(X_train, y_train)\n",
    "\n",
    "# Predict the test values\n",
    "y_predicted = knn.predict(X_test)\n",
    "\n",
    "# Get the accuracy of the model\n",
    "accuracy = accuracy_score(y_test, y_predicted)\n",
    "\n",
    "# Print the results\n",
    "print(\"K-NN Algorithm results\")\n",
    "print(\"-----------------------\")\n",
    "print(\"Optimal k: {}\".format(grid.best_params_[\"n_neighbors\"]))\n",
    "print(\"Optimal weights: {}\".format(grid.best_params_[\"weights\"]))\n",
    "print(\"Accuracy in the test set with the optimal parameters: {:.2f}%\".format(accuracy*100))"
   ]
  },
  {
   "cell_type": "code",
   "execution_count": 8,
   "metadata": {},
   "outputs": [],
   "source": [
    "# Confusion matrix plot function\n",
    "def plot_confusion_matrix(cm, classes,\n",
    "                          title='Confusion matrix',\n",
    "                          cmap=plt.cm.Blues):\n",
    "    cm = cm.astype('float') / cm.sum(axis=1)[:, np.newaxis]\n",
    "    plt.imshow(cm, interpolation='nearest', cmap=cmap)\n",
    "    plt.title(title)\n",
    "    plt.colorbar()\n",
    "    tick_marks = np.arange(len(classes))\n",
    "    plt.xticks(tick_marks, classes, rotation=45)\n",
    "    plt.yticks(tick_marks, classes)\n",
    "\n",
    "    fmt = '.2f'\n",
    "    thresh = cm.max() / 2.\n",
    "    for i, j in itertools.product(range(cm.shape[0]), range(cm.shape[1])):\n",
    "        plt.text(j, i, format(cm[i, j], fmt),\n",
    "                 horizontalalignment=\"center\",\n",
    "                 color=\"white\" if cm[i, j] > thresh else \"black\")\n",
    "\n",
    "    plt.ylabel('True label')\n",
    "    plt.xlabel('Predicted label')\n",
    "    plt.tight_layout()"
   ]
  },
  {
   "cell_type": "markdown",
   "metadata": {},
   "source": [
    "#### Confusion matrix"
   ]
  },
  {
   "cell_type": "code",
   "execution_count": 9,
   "metadata": {},
   "outputs": [
    {
     "name": "stdout",
     "output_type": "stream",
     "text": [
      "[[ 1  8]\n",
      " [ 0 39]]\n"
     ]
    },
    {
     "data": {
      "image/png": "[encoded data removed]",
      "text/plain": [
       "<Figure size 432x288 with 2 Axes>"
      ]
     },
     "metadata": {
      "needs_background": "light"
     },
     "output_type": "display_data"
    }
   ],
   "source": [
    "conf_matrix = confusion_matrix(y_test, y_predicted)\n",
    "print(conf_matrix)\n",
    "\n",
    "# Plot confusion matrix\n",
    "plt.figure()\n",
    "plot_confusion_matrix(conf_matrix, classes=classes_names,\n",
    "                      title='Matriz de confusión')"
   ]
  },
  {
   "cell_type": "markdown",
   "metadata": {},
   "source": [
    "<a id='svm'></a>"
   ]
  },
  {
   "cell_type": "markdown",
   "metadata": {},
   "source": [
    "## SVM"
   ]
  },
  {
   "cell_type": "markdown",
   "metadata": {},
   "source": [
    " #### Hyperparameter tuning"
   ]
  },
  {
   "cell_type": "code",
   "execution_count": 10,
   "metadata": {},
   "outputs": [
    {
     "name": "stdout",
     "output_type": "stream",
     "text": [
      "The search took 8.248735904693604 seconds\n",
      " \n",
      "Rank : 1. Mean accuracy 81.1518 +/- 0.1718. Parameters: {'C': 100.28345798781999, 'gamma': 0.24008373343618805}\n",
      "Rank : 1. Mean accuracy 81.1518 +/- 0.1718. Parameters: {'C': 88.20243240140378, 'gamma': 0.6979540840107857}\n",
      "Rank : 1. Mean accuracy 81.1518 +/- 0.1718. Parameters: {'C': 93.17164885941706, 'gamma': 0.6538227530432293}\n",
      "Rank : 1. Mean accuracy 81.1518 +/- 0.1718. Parameters: {'C': 38.43565233577334, 'gamma': 0.12992277199756075}\n",
      "Rank : 1. Mean accuracy 81.1518 +/- 0.1718. Parameters: {'C': 47.47552859002953, 'gamma': 0.5953571654291061}\n",
      "Rank : 1. Mean accuracy 81.1518 +/- 0.1718. Parameters: {'C': 50.55620751856632, 'gamma': 0.012155530427836347}\n",
      "Rank : 1. Mean accuracy 81.1518 +/- 0.1718. Parameters: {'C': 33.56404559307131, 'gamma': 0.9888755319017545}\n",
      "Rank : 1. Mean accuracy 81.1518 +/- 0.1718. Parameters: {'C': 35.25065060396698, 'gamma': 0.6054799798296193}\n",
      "Rank : 1. Mean accuracy 81.1518 +/- 0.1718. Parameters: {'C': 10.225141073214315, 'gamma': 0.48347145609306263}\n",
      "Rank : 1. Mean accuracy 81.1518 +/- 0.1718. Parameters: {'C': 51.12373141963782, 'gamma': 0.16859689968257985}\n",
      "Rank : 1. Mean accuracy 81.1518 +/- 0.1718. Parameters: {'C': 87.9049716508146, 'gamma': 0.740813156842409}\n",
      "Rank : 1. Mean accuracy 81.1518 +/- 0.1718. Parameters: {'C': 6.508647373773745, 'gamma': 0.6702350595042453}\n",
      "Rank : 1. Mean accuracy 81.1518 +/- 0.1718. Parameters: {'C': 63.33346268409129, 'gamma': 0.16856226224140924}\n",
      "Rank : 1. Mean accuracy 81.1518 +/- 0.1718. Parameters: {'C': 43.69523623022392, 'gamma': 0.07571105382629928}\n",
      "Rank : 1. Mean accuracy 81.1518 +/- 0.1718. Parameters: {'C': 96.53554062066316, 'gamma': 0.7810868461958511}\n",
      "Rank : 1. Mean accuracy 81.1518 +/- 0.1718. Parameters: {'C': 28.036750778884343, 'gamma': 0.6585495125899943}\n",
      "Rank : 1. Mean accuracy 81.1518 +/- 0.1718. Parameters: {'C': 87.02679270536704, 'gamma': 0.7960622152774123}\n",
      "Rank : 1. Mean accuracy 81.1518 +/- 0.1718. Parameters: {'C': 3.1748732784253266, 'gamma': 0.39032212397203125}\n",
      "Rank : 1. Mean accuracy 81.1518 +/- 0.1718. Parameters: {'C': 8.832896026398629, 'gamma': 0.9045932615774726}\n",
      "Rank : 1. Mean accuracy 81.1518 +/- 0.1718. Parameters: {'C': 56.83203479591599, 'gamma': 0.40496442939295907}\n",
      "Rank : 1. Mean accuracy 81.1518 +/- 0.1718. Parameters: {'C': 17.984173807972457, 'gamma': 0.08527051525876361}\n",
      "Rank : 1. Mean accuracy 81.1518 +/- 0.1718. Parameters: {'C': 82.179781438311, 'gamma': 0.6708240223406859}\n",
      "Rank : 1. Mean accuracy 81.1518 +/- 0.1718. Parameters: {'C': 100.95082934263964, 'gamma': 0.21646039247691184}\n",
      "Rank : 1. Mean accuracy 81.1518 +/- 0.1718. Parameters: {'C': 69.21368945584555, 'gamma': 0.3574723279469936}\n",
      "Rank : 1. Mean accuracy 81.1518 +/- 0.1718. Parameters: {'C': 33.564785587733844, 'gamma': 0.7052887143230591}\n",
      "Rank : 1. Mean accuracy 81.1518 +/- 0.1718. Parameters: {'C': 93.53061079105414, 'gamma': 0.6788329476180186}\n",
      "Rank : 1. Mean accuracy 81.1518 +/- 0.1718. Parameters: {'C': 36.38389298479019, 'gamma': 0.9014653295564404}\n",
      "Rank : 1. Mean accuracy 81.1518 +/- 0.1718. Parameters: {'C': 77.65555004329038, 'gamma': 0.009385730550831806}\n",
      "Rank : 1. Mean accuracy 81.1518 +/- 0.1718. Parameters: {'C': 20.52265401128752, 'gamma': 0.9825960804335251}\n",
      "Rank : 1. Mean accuracy 81.1518 +/- 0.1718. Parameters: {'C': 35.35650722372894, 'gamma': 0.7190652970047666}\n",
      "Rank : 1. Mean accuracy 81.1518 +/- 0.1718. Parameters: {'C': 58.81631747468984, 'gamma': 0.9482895077721983}\n",
      "Rank : 1. Mean accuracy 81.1518 +/- 0.1718. Parameters: {'C': 43.273017751418195, 'gamma': 0.4731554678519111}\n",
      "Rank : 1. Mean accuracy 81.1518 +/- 0.1718. Parameters: {'C': 68.39987811468976, 'gamma': 0.7829188153755975}\n",
      "Rank : 1. Mean accuracy 81.1518 +/- 0.1718. Parameters: {'C': 50.78137623963581, 'gamma': 0.8596500854348689}\n",
      "Rank : 1. Mean accuracy 81.1518 +/- 0.1718. Parameters: {'C': 21.92380474322151, 'gamma': 0.998265883702469}\n",
      "Rank : 1. Mean accuracy 81.1518 +/- 0.1718. Parameters: {'C': 61.202504469209906, 'gamma': 0.9636759986152869}\n",
      "Rank : 1. Mean accuracy 81.1518 +/- 0.1718. Parameters: {'C': 40.506461640712274, 'gamma': 0.5129653270949555}\n",
      "Rank : 1. Mean accuracy 81.1518 +/- 0.1718. Parameters: {'C': 44.66247693133677, 'gamma': 0.9138286364839409}\n",
      "Rank : 1. Mean accuracy 81.1518 +/- 0.1718. Parameters: {'C': 56.13841151574107, 'gamma': 0.09771222472735974}\n",
      "Rank : 1. Mean accuracy 81.1518 +/- 0.1718. Parameters: {'C': 68.22467944270221, 'gamma': 0.2559161953662229}\n",
      "Rank : 1. Mean accuracy 81.1518 +/- 0.1718. Parameters: {'C': 96.86659894596512, 'gamma': 0.608262576131818}\n",
      "Rank : 1. Mean accuracy 81.1518 +/- 0.1718. Parameters: {'C': 93.61593908008095, 'gamma': 0.04214861122189151}\n",
      "Rank : 1. Mean accuracy 81.1518 +/- 0.1718. Parameters: {'C': 97.72589016209643, 'gamma': 0.7477955553109182}\n",
      "Rank : 1. Mean accuracy 81.1518 +/- 0.1718. Parameters: {'C': 20.243827453929896, 'gamma': 0.5954439249504357}\n",
      "Rank : 1. Mean accuracy 81.1518 +/- 0.1718. Parameters: {'C': 34.97082632374824, 'gamma': 0.5904109097748313}\n",
      "Rank : 1. Mean accuracy 81.1518 +/- 0.1718. Parameters: {'C': 63.451990801894155, 'gamma': 0.2833373467564998}\n",
      "Rank : 1. Mean accuracy 81.1518 +/- 0.1718. Parameters: {'C': 61.14200690018436, 'gamma': 0.24706467159431322}\n",
      "Rank : 1. Mean accuracy 81.1518 +/- 0.1718. Parameters: {'C': 49.548771776067355, 'gamma': 0.4931691734872756}\n",
      "Rank : 1. Mean accuracy 81.1518 +/- 0.1718. Parameters: {'C': 31.157263528107304, 'gamma': 0.49775737725408076}\n",
      "Rank : 1. Mean accuracy 81.1518 +/- 0.1718. Parameters: {'C': 29.471080276038286, 'gamma': 0.2880726074564167}\n",
      "Rank : 1. Mean accuracy 81.1518 +/- 0.1718. Parameters: {'C': 41.26935363709049, 'gamma': 0.738889471488344}\n",
      "Rank : 1. Mean accuracy 81.1518 +/- 0.1718. Parameters: {'C': 20.00256710733209, 'gamma': 0.41056692495629665}\n",
      "Rank : 1. Mean accuracy 81.1518 +/- 0.1718. Parameters: {'C': 98.90166628859657, 'gamma': 0.05268665752208157}\n",
      "Rank : 1. Mean accuracy 81.1518 +/- 0.1718. Parameters: {'C': 18.424464120868453, 'gamma': 0.6096001554350262}\n",
      "Rank : 1. Mean accuracy 81.1518 +/- 0.1718. Parameters: {'C': 67.06386727681159, 'gamma': 0.12152588736956982}\n",
      "Rank : 1. Mean accuracy 81.1518 +/- 0.1718. Parameters: {'C': 7.868629215013189, 'gamma': 0.0798631086692051}\n",
      "Rank : 1. Mean accuracy 81.1518 +/- 0.1718. Parameters: {'C': 100.36737119982672, 'gamma': 0.7420667343349517}\n",
      "Rank : 1. Mean accuracy 81.1518 +/- 0.1718. Parameters: {'C': 59.188084613818305, 'gamma': 0.9799867680593158}\n",
      "Rank : 1. Mean accuracy 81.1518 +/- 0.1718. Parameters: {'C': 9.600164672040389, 'gamma': 0.45399046909533325}\n",
      "Rank : 1. Mean accuracy 81.1518 +/- 0.1718. Parameters: {'C': 9.155653281914466, 'gamma': 0.9661577667280692}\n",
      "Rank : 1. Mean accuracy 81.1518 +/- 0.1718. Parameters: {'C': 28.873723655476567, 'gamma': 0.45794366842713785}\n",
      "Rank : 1. Mean accuracy 81.1518 +/- 0.1718. Parameters: {'C': 33.83592606530495, 'gamma': 0.41544398656902837}\n",
      "Rank : 1. Mean accuracy 81.1518 +/- 0.1718. Parameters: {'C': 42.953997301995074, 'gamma': 0.474597463048124}\n",
      "Rank : 1. Mean accuracy 81.1518 +/- 0.1718. Parameters: {'C': 76.08257399570336, 'gamma': 0.026561831237283173}\n",
      "Rank : 1. Mean accuracy 81.1518 +/- 0.1718. Parameters: {'C': 97.70352097759259, 'gamma': 0.5486638164437884}\n",
      "Rank : 1. Mean accuracy 81.1518 +/- 0.1718. Parameters: {'C': 84.89940566775148, 'gamma': 0.7907866093437848}\n",
      "Rank : 1. Mean accuracy 81.1518 +/- 0.1718. Parameters: {'C': 12.76341726712341, 'gamma': 0.6934272666814355}\n",
      "Rank : 1. Mean accuracy 81.1518 +/- 0.1718. Parameters: {'C': 63.2982697974089, 'gamma': 0.8774792459411735}\n",
      "Rank : 1. Mean accuracy 81.1518 +/- 0.1718. Parameters: {'C': 62.17506955819536, 'gamma': 0.34812110987910805}\n",
      "Rank : 1. Mean accuracy 81.1518 +/- 0.1718. Parameters: {'C': 14.185220240121199, 'gamma': 0.724176087421631}\n",
      "Rank : 1. Mean accuracy 81.1518 +/- 0.1718. Parameters: {'C': 7.869151983669896, 'gamma': 0.5221223791750697}\n",
      "Rank : 1. Mean accuracy 81.1518 +/- 0.1718. Parameters: {'C': 29.251155781199465, 'gamma': 0.4686074084816625}\n",
      "Rank : 1. Mean accuracy 81.1518 +/- 0.1718. Parameters: {'C': 98.20605961318999, 'gamma': 0.8640736908005596}\n",
      "Rank : 1. Mean accuracy 81.1518 +/- 0.1718. Parameters: {'C': 82.9351985510253, 'gamma': 0.20292865042185682}\n",
      "Rank : 1. Mean accuracy 81.1518 +/- 0.1718. Parameters: {'C': 81.05227382775394, 'gamma': 0.043797920375743815}\n",
      "Rank : 1. Mean accuracy 81.1518 +/- 0.1718. Parameters: {'C': 80.78449572021869, 'gamma': 0.9467647881051314}\n",
      "Rank : 1. Mean accuracy 81.1518 +/- 0.1718. Parameters: {'C': 11.21416977411439, 'gamma': 0.09186793042010033}\n",
      "Rank : 1. Mean accuracy 81.1518 +/- 0.1718. Parameters: {'C': 58.80793950355313, 'gamma': 0.8140864479743299}\n",
      "Rank : 1. Mean accuracy 81.1518 +/- 0.1718. Parameters: {'C': 13.641757044476531, 'gamma': 0.9497476169043663}\n",
      "Rank : 1. Mean accuracy 81.1518 +/- 0.1718. Parameters: {'C': 41.23487441433391, 'gamma': 0.5909236231386455}\n",
      "Rank : 1. Mean accuracy 81.1518 +/- 0.1718. Parameters: {'C': 40.56909488319579, 'gamma': 0.6285504995499135}\n",
      "Rank : 1. Mean accuracy 81.1518 +/- 0.1718. Parameters: {'C': 10.548596893016647, 'gamma': 0.10084754170282306}\n",
      "Rank : 1. Mean accuracy 81.1518 +/- 0.1718. Parameters: {'C': 77.24555940552328, 'gamma': 0.5495615624443925}\n",
      "Rank : 1. Mean accuracy 81.1518 +/- 0.1718. Parameters: {'C': 11.654928001234298, 'gamma': 0.10374554382348977}\n",
      "Rank : 1. Mean accuracy 81.1518 +/- 0.1718. Parameters: {'C': 49.38434265154932, 'gamma': 0.9166905339957684}\n",
      "Rank : 1. Mean accuracy 81.1518 +/- 0.1718. Parameters: {'C': 37.60231026611114, 'gamma': 0.2283513884475602}\n",
      "Rank : 1. Mean accuracy 81.1518 +/- 0.1718. Parameters: {'C': 86.3567096848426, 'gamma': 0.06821544508140487}\n",
      "Rank : 1. Mean accuracy 81.1518 +/- 0.1718. Parameters: {'C': 59.557152715061775, 'gamma': 0.7170104452655802}\n",
      "Rank : 1. Mean accuracy 81.1518 +/- 0.1718. Parameters: {'C': 4.262626276488101, 'gamma': 0.19368284109673928}\n",
      "Rank : 1. Mean accuracy 81.1518 +/- 0.1718. Parameters: {'C': 19.82774281656976, 'gamma': 0.83544702228657}\n",
      "Rank : 1. Mean accuracy 81.1518 +/- 0.1718. Parameters: {'C': 87.38430186841995, 'gamma': 0.7183182110765799}\n",
      "Rank : 1. Mean accuracy 81.1518 +/- 0.1718. Parameters: {'C': 36.56094272194167, 'gamma': 0.23705531215071995}\n",
      "Rank : 1. Mean accuracy 81.1518 +/- 0.1718. Parameters: {'C': 46.04592670103881, 'gamma': 0.6093111866643292}\n",
      "Rank : 1. Mean accuracy 81.1518 +/- 0.1718. Parameters: {'C': 33.74610425921129, 'gamma': 0.9636986256584654}\n",
      "Rank : 1. Mean accuracy 81.1518 +/- 0.1718. Parameters: {'C': 98.20545973489149, 'gamma': 0.7105962379616951}\n",
      "Rank : 1. Mean accuracy 81.1518 +/- 0.1718. Parameters: {'C': 58.55906179254239, 'gamma': 0.6621073746620431}\n",
      "Rank : 1. Mean accuracy 81.1518 +/- 0.1718. Parameters: {'C': 92.10340291792963, 'gamma': 0.01991301896398201}\n",
      "Rank : 1. Mean accuracy 81.1518 +/- 0.1718. Parameters: {'C': 41.15369281798258, 'gamma': 0.6138151557525034}\n",
      "Rank : 1. Mean accuracy 81.1518 +/- 0.1718. Parameters: {'C': 61.67272654781314, 'gamma': 0.3323956878170845}\n",
      "Rank : 1. Mean accuracy 81.1518 +/- 0.1718. Parameters: {'C': 83.02279317059244, 'gamma': 0.4194304681256319}\n"
     ]
    }
   ],
   "source": [
    "# Create the classifier\n",
    "svm_clasif = SVC(random_state = 1)\n",
    "\n",
    "# Define the hyperparameters to be optimized\n",
    "param_dist = dict(C=uniform(1, 100), gamma=uniform(0.001, 1))\n",
    "\n",
    "# Now create the randomnized search with 4 folds for cross-validation\n",
    "num_iterations = 100\n",
    "cv = StratifiedKFold(n_splits=4, shuffle=True)\n",
    "rand = RandomizedSearchCV(svm_clasif, param_distributions = param_dist, cv=cv, n_iter=num_iterations)\n",
    "\n",
    "# Apply the search to the data checking the time \n",
    "start = time()\n",
    "rand.fit(X_train, y_train)\n",
    "end = time()\n",
    "\n",
    "# Check the results\n",
    "print(\"The search took {} seconds\".format(end - start))\n",
    "print(\" \")\n",
    "\n",
    "ranks = list(rand.cv_results_['rank_test_score'])\n",
    "means = list(rand.cv_results_[\"mean_test_score\"])\n",
    "stds = list(rand.cv_results_[\"std_test_score\"])\n",
    "params = list(rand.cv_results_['params'])\n",
    "\n",
    "results = zip (ranks, means, stds, params)\n",
    "for rank, mean, std, params in results:\n",
    "    if rank == 1: #If the rank of the result is one, print it\n",
    "        print(\"Rank : {}. Mean accuracy {:.4f} +/- {:.4f}. Parameters: {}\".format(rank, mean*100, std*100, params))"
   ]
  },
  {
   "cell_type": "markdown",
   "metadata": {},
   "source": [
    "#### Train model with best parameters"
   ]
  },
  {
   "cell_type": "code",
   "execution_count": 11,
   "metadata": {},
   "outputs": [
    {
     "name": "stdout",
     "output_type": "stream",
     "text": [
      "SVM Algorithm results\n",
      "-----------------------\n",
      "Optimal C: 100.28345798781999\n",
      "Optimal gamma: 0.24008373343618805\n",
      "Accuracy in the test set with the optimal parameters: 81.25%\n"
     ]
    }
   ],
   "source": [
    "# Create and fit the model with the best hyperparameters\n",
    "svm_clasif = SVC(C=rand.best_params_[\"C\"], gamma=rand.best_params_[\"gamma\"])\n",
    "svm_clasif.fit(X_train, y_train)\n",
    "\n",
    "# Predict the test values\n",
    "y_predicted = svm_clasif.predict(X_test)\n",
    "\n",
    "# Get the accuracy of the model\n",
    "accuracy = accuracy_score(y_test, y_predicted)\n",
    "\n",
    "# Print the results\n",
    "print(\"SVM Algorithm results\")\n",
    "print(\"-----------------------\")\n",
    "print(\"Optimal C: {}\".format(rand.best_params_[\"C\"]))\n",
    "print(\"Optimal gamma: {}\".format(rand.best_params_[\"gamma\"]))\n",
    "print(\"Accuracy in the test set with the optimal parameters: {:.2f}%\".format(accuracy*100))"
   ]
  },
  {
   "cell_type": "markdown",
   "metadata": {},
   "source": [
    "#### Confusion matrix"
   ]
  },
  {
   "cell_type": "code",
   "execution_count": 12,
   "metadata": {},
   "outputs": [
    {
     "name": "stdout",
     "output_type": "stream",
     "text": [
      "[[ 0  9]\n",
      " [ 0 39]]\n"
     ]
    },
    {
     "data": {
      "image/png": "[encoded data removed]",
      "text/plain": [
       "<Figure size 432x288 with 2 Axes>"
      ]
     },
     "metadata": {
      "needs_background": "light"
     },
     "output_type": "display_data"
    }
   ],
   "source": [
    "conf_matrix = confusion_matrix(y_test, y_predicted)\n",
    "print(conf_matrix)\n",
    "\n",
    "# Plot confusion matrix\n",
    "plt.figure()\n",
    "plot_confusion_matrix(conf_matrix, classes=classes_names,\n",
    "                      title='Matriz de confusión')"
   ]
  },
  {
   "cell_type": "markdown",
   "metadata": {},
   "source": [
    "<a id='randomforest'></a>"
   ]
  },
  {
   "cell_type": "markdown",
   "metadata": {},
   "source": [
    "## Random Forest"
   ]
  },
  {
   "cell_type": "markdown",
   "metadata": {},
   "source": [
    "#### Hyperparameter tuning"
   ]
  },
  {
   "cell_type": "code",
   "execution_count": 13,
   "metadata": {},
   "outputs": [
    {
     "name": "stdout",
     "output_type": "stream",
     "text": [
      "The search took 122.03399801254272 seconds\n",
      " \n",
      "Rank : 1. Mean accuracy 81.6711 +/- 1.7657. Parameters: {'max_depth': 1, 'n_estimators': 3}\n",
      "Rank : 1. Mean accuracy 81.6711 +/- 0.9734. Parameters: {'max_depth': 1, 'n_estimators': 9}\n",
      "Rank : 1. Mean accuracy 81.6711 +/- 0.9734. Parameters: {'max_depth': 1, 'n_estimators': 10}\n"
     ]
    }
   ],
   "source": [
    "# Create the classifier\n",
    "random_forest = RandomForestClassifier(random_state=0)\n",
    "\n",
    "# Define the hyperparameters to be optimized \n",
    "n_estimators = list(range(1, 61))\n",
    "max_depth = range(1, 100, 10)\n",
    "\n",
    "param_grid = dict(n_estimators=n_estimators, max_depth = max_depth)\n",
    "\n",
    "# Create the grid search with 4 folds for cross-validation\n",
    "grid = GridSearchCV(random_forest, param_grid, cv=4, iid=False)\n",
    "\n",
    "# Apply the grid to the data checking the time \n",
    "start = time()\n",
    "grid.fit(X_train, y_train)\n",
    "end = time()\n",
    "\n",
    "# Check the results\n",
    "print(\"The search took {} seconds\".format(end - start))\n",
    "print(\" \")\n",
    "\n",
    "ranks = list(grid.cv_results_['rank_test_score'])\n",
    "means = list(grid.cv_results_[\"mean_test_score\"])\n",
    "stds = list(grid.cv_results_[\"std_test_score\"])\n",
    "params = list(grid.cv_results_['params'])\n",
    "\n",
    "results = zip (ranks, means, stds, params)\n",
    "for rank, mean, std, params in results:\n",
    "    if rank == 1: #If the rank of the result is one, print it\n",
    "        print(\"Rank : {}. Mean accuracy {:.4f} +/- {:.4f}. Parameters: {}\".format(rank, mean*100, std*100, params))\n"
   ]
  },
  {
   "cell_type": "markdown",
   "metadata": {},
   "source": [
    "#### Train model with best hyperparameters"
   ]
  },
  {
   "cell_type": "code",
   "execution_count": 14,
   "metadata": {},
   "outputs": [
    {
     "name": "stdout",
     "output_type": "stream",
     "text": [
      "Random Forest Algorithm results\n",
      "-----------------------\n",
      "Optimal n_estimators: 3\n",
      "Optimal max_depth: 1\n",
      "Accuracy in the test set with the optimal parameters: 81.25%\n"
     ]
    }
   ],
   "source": [
    "# Create and fit the model with the best hyperparameters\n",
    "random_forest = RandomForestClassifier(random_state=0, n_estimators=grid.best_params_[\"n_estimators\"], max_depth=grid.best_params_[\"max_depth\"])\n",
    "random_forest.fit(X_train, y_train)\n",
    "\n",
    "# Predict the test values\n",
    "y_predicted = random_forest.predict(X_test)\n",
    "\n",
    "# Get the accuracy of the model\n",
    "accuracy = accuracy_score(y_test, y_predicted)\n",
    "\n",
    "# Print the results\n",
    "print(\"Random Forest Algorithm results\")\n",
    "print(\"-----------------------\")\n",
    "print(\"Optimal n_estimators: {}\".format(grid.best_params_[\"n_estimators\"]))\n",
    "print(\"Optimal max_depth: {}\".format(grid.best_params_[\"max_depth\"]))\n",
    "print(\"Accuracy in the test set with the optimal parameters: {:.2f}%\".format(accuracy*100))"
   ]
  },
  {
   "cell_type": "markdown",
   "metadata": {},
   "source": [
    "#### Confusion Matrix"
   ]
  },
  {
   "cell_type": "code",
   "execution_count": 15,
   "metadata": {},
   "outputs": [
    {
     "name": "stdout",
     "output_type": "stream",
     "text": [
      "[[ 0  9]\n",
      " [ 0 39]]\n"
     ]
    },
    {
     "data": {
      "image/png": "[encoded data removed]",
      "text/plain": [
       "<Figure size 432x288 with 2 Axes>"
      ]
     },
     "metadata": {
      "needs_background": "light"
     },
     "output_type": "display_data"
    }
   ],
   "source": [
    "conf_matrix = confusion_matrix(y_test, y_predicted)\n",
    "print(conf_matrix)\n",
    "\n",
    "# Plot confusion matrix\n",
    "plt.figure()\n",
    "plot_confusion_matrix(conf_matrix, classes=classes_names,\n",
    "                      title='Matriz de confusión')"
   ]
  },
  {
   "cell_type": "code",
   "execution_count": null,
   "metadata": {},
   "outputs": [],
   "source": []
  }
 ],
 "metadata": {
  "kernelspec": {
   "display_name": "Python 3",
   "language": "python",
   "name": "python3"
  },
  "language_info": {
   "codemirror_mode": {
    "name": "ipython",
    "version": 3
   },
   "file_extension": ".py",
   "mimetype": "text/x-python",
   "name": "python",
   "nbconvert_exporter": "python",
   "pygments_lexer": "ipython3",
   "version": "3.6.7"
  }
 },
 "nbformat": 4,
 "nbformat_minor": 2
}
