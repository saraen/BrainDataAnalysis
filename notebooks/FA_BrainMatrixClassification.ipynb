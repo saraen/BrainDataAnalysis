{
 "cells": [
  {
   "cell_type": "markdown",
   "metadata": {},
   "source": [
    "<div style=\"width: 100%; clear: both;\">\n",
    "<div style=\"float: left; width: 50%;\">\n",
    "<img src=\"http://www.uoc.edu/portal/_resources/common/imatges/marca_UOC/UOC_Masterbrand.jpg\", align=\"left\">\n",
    "</div>\n",
    "<div style=\"float: right; width: 50%;\">\n",
    "<p style=\"margin: 0; padding-top: 22px; text-align:right;\">TFM - Data Mining and Machine Learning </p>\n",
    "<p style=\"margin: 0; text-align:right;\">2019 · Master in Data science</p>\n",
    "<p style=\"margin: 0; text-align:right; padding-button: 100px;\">Sara Estravís Nieto</p>\n",
    "</div>\n",
    "</div>\n",
    "<div style=\"width:100%;\">&nbsp;</div>\n",
    "\n",
    "\n",
    "# FA Brain Matrix Classification\n",
    "\n",
    "Experiment 2\n",
    "\n",
    "Input data: all the nodes with significant values at local level with data from FA matrices.\n",
    "\n",
    "<ul>\n",
    "  <li><a href='#dataload'>Data load</a></li>\n",
    "  <li><a href='#knn'>K-NN</a></li>\n",
    "  <li><a href='#svm'>SVM</a></li>\n",
    "  <li><a href='#randomforest'>Random Forest</a></li>\n",
    "</ul>"
   ]
  },
  {
   "cell_type": "code",
   "execution_count": 1,
   "metadata": {},
   "outputs": [],
   "source": [
    "# Imports\n",
    "import pandas as pd\n",
    "from sklearn.model_selection import train_test_split\n",
    "from sklearn.model_selection import GridSearchCV\n",
    "from sklearn.model_selection import RandomizedSearchCV\n",
    "from sklearn.neighbors import KNeighborsClassifier\n",
    "from time import time\n",
    "from sklearn.metrics import accuracy_score\n",
    "from sklearn.metrics import confusion_matrix\n",
    "import matplotlib.pyplot as plt\n",
    "%matplotlib inline\n",
    "import numpy as np\n",
    "import itertools\n",
    "from sklearn.svm import SVC\n",
    "from sklearn.utils import shuffle\n",
    "from scipy.stats import uniform\n",
    "from sklearn.model_selection import StratifiedKFold\n",
    "from sklearn.ensemble import RandomForestClassifier"
   ]
  },
  {
   "cell_type": "markdown",
   "metadata": {},
   "source": [
    "<a id = 'dataload'/>"
   ]
  },
  {
   "cell_type": "markdown",
   "metadata": {},
   "source": [
    "## Data Load"
   ]
  },
  {
   "cell_type": "code",
   "execution_count": 2,
   "metadata": {
    "scrolled": true
   },
   "outputs": [
    {
     "data": {
      "text/html": [
       "<div>\n",
       "<style scoped>\n",
       "    .dataframe tbody tr th:only-of-type {\n",
       "        vertical-align: middle;\n",
       "    }\n",
       "\n",
       "    .dataframe tbody tr th {\n",
       "        vertical-align: top;\n",
       "    }\n",
       "\n",
       "    .dataframe thead th {\n",
       "        text-align: right;\n",
       "    }\n",
       "</style>\n",
       "<table border=\"1\" class=\"dataframe\">\n",
       "  <thead>\n",
       "    <tr style=\"text-align: right;\">\n",
       "      <th></th>\n",
       "      <th>Column1</th>\n",
       "      <th>Column2</th>\n",
       "      <th>Column3</th>\n",
       "      <th>Column4</th>\n",
       "      <th>Column5</th>\n",
       "      <th>Column6</th>\n",
       "      <th>Column7</th>\n",
       "      <th>Column8</th>\n",
       "      <th>Column9</th>\n",
       "      <th>Column10</th>\n",
       "      <th>...</th>\n",
       "      <th>Column194</th>\n",
       "      <th>Column195</th>\n",
       "      <th>Column196</th>\n",
       "      <th>Column197</th>\n",
       "      <th>Column198</th>\n",
       "      <th>Column199</th>\n",
       "      <th>Column200</th>\n",
       "      <th>Column201</th>\n",
       "      <th>Column202</th>\n",
       "      <th>Column203</th>\n",
       "    </tr>\n",
       "  </thead>\n",
       "  <tbody>\n",
       "    <tr>\n",
       "      <th>0</th>\n",
       "      <td>18.850784</td>\n",
       "      <td>16.402654</td>\n",
       "      <td>18.809981</td>\n",
       "      <td>18.661708</td>\n",
       "      <td>17.556558</td>\n",
       "      <td>12.513008</td>\n",
       "      <td>12.394331</td>\n",
       "      <td>19.063928</td>\n",
       "      <td>18.213575</td>\n",
       "      <td>14.936953</td>\n",
       "      <td>...</td>\n",
       "      <td>1.657895</td>\n",
       "      <td>1.052632</td>\n",
       "      <td>1.236842</td>\n",
       "      <td>1.447368</td>\n",
       "      <td>1.592105</td>\n",
       "      <td>1.434211</td>\n",
       "      <td>1.526316</td>\n",
       "      <td>1.434211</td>\n",
       "      <td>3.152472</td>\n",
       "      <td>ms</td>\n",
       "    </tr>\n",
       "    <tr>\n",
       "      <th>1</th>\n",
       "      <td>15.379834</td>\n",
       "      <td>15.053143</td>\n",
       "      <td>8.764925</td>\n",
       "      <td>16.539648</td>\n",
       "      <td>11.803099</td>\n",
       "      <td>14.081771</td>\n",
       "      <td>6.939545</td>\n",
       "      <td>16.653606</td>\n",
       "      <td>17.968536</td>\n",
       "      <td>10.570490</td>\n",
       "      <td>...</td>\n",
       "      <td>1.526316</td>\n",
       "      <td>1.144737</td>\n",
       "      <td>1.355263</td>\n",
       "      <td>1.447368</td>\n",
       "      <td>1.657895</td>\n",
       "      <td>1.460526</td>\n",
       "      <td>1.618421</td>\n",
       "      <td>1.565789</td>\n",
       "      <td>3.384429</td>\n",
       "      <td>ms</td>\n",
       "    </tr>\n",
       "    <tr>\n",
       "      <th>2</th>\n",
       "      <td>20.370230</td>\n",
       "      <td>14.767954</td>\n",
       "      <td>17.956064</td>\n",
       "      <td>19.209180</td>\n",
       "      <td>16.895640</td>\n",
       "      <td>13.473179</td>\n",
       "      <td>11.476377</td>\n",
       "      <td>19.414162</td>\n",
       "      <td>19.302838</td>\n",
       "      <td>14.640634</td>\n",
       "      <td>...</td>\n",
       "      <td>1.644737</td>\n",
       "      <td>1.092105</td>\n",
       "      <td>1.342105</td>\n",
       "      <td>1.421053</td>\n",
       "      <td>1.644737</td>\n",
       "      <td>1.460526</td>\n",
       "      <td>1.565789</td>\n",
       "      <td>1.486842</td>\n",
       "      <td>3.079077</td>\n",
       "      <td>ms</td>\n",
       "    </tr>\n",
       "    <tr>\n",
       "      <th>3</th>\n",
       "      <td>18.350076</td>\n",
       "      <td>17.712715</td>\n",
       "      <td>10.683727</td>\n",
       "      <td>16.155753</td>\n",
       "      <td>12.640386</td>\n",
       "      <td>15.522073</td>\n",
       "      <td>12.730161</td>\n",
       "      <td>21.097650</td>\n",
       "      <td>18.544670</td>\n",
       "      <td>12.890302</td>\n",
       "      <td>...</td>\n",
       "      <td>1.552632</td>\n",
       "      <td>1.092105</td>\n",
       "      <td>1.197368</td>\n",
       "      <td>1.342105</td>\n",
       "      <td>1.526316</td>\n",
       "      <td>1.460526</td>\n",
       "      <td>1.407895</td>\n",
       "      <td>1.486842</td>\n",
       "      <td>3.029070</td>\n",
       "      <td>ms</td>\n",
       "    </tr>\n",
       "    <tr>\n",
       "      <th>4</th>\n",
       "      <td>19.878999</td>\n",
       "      <td>20.705387</td>\n",
       "      <td>16.227605</td>\n",
       "      <td>22.664699</td>\n",
       "      <td>16.868130</td>\n",
       "      <td>17.093917</td>\n",
       "      <td>13.377150</td>\n",
       "      <td>19.524878</td>\n",
       "      <td>19.175979</td>\n",
       "      <td>15.947954</td>\n",
       "      <td>...</td>\n",
       "      <td>1.578947</td>\n",
       "      <td>1.052632</td>\n",
       "      <td>1.342105</td>\n",
       "      <td>1.407895</td>\n",
       "      <td>1.631579</td>\n",
       "      <td>1.578947</td>\n",
       "      <td>1.473684</td>\n",
       "      <td>1.434211</td>\n",
       "      <td>2.998180</td>\n",
       "      <td>ms</td>\n",
       "    </tr>\n",
       "  </tbody>\n",
       "</table>\n",
       "<p>5 rows × 203 columns</p>\n",
       "</div>"
      ],
      "text/plain": [
       "     Column1    Column2    Column3    Column4    Column5    Column6  \\\n",
       "0  18.850784  16.402654  18.809981  18.661708  17.556558  12.513008   \n",
       "1  15.379834  15.053143   8.764925  16.539648  11.803099  14.081771   \n",
       "2  20.370230  14.767954  17.956064  19.209180  16.895640  13.473179   \n",
       "3  18.350076  17.712715  10.683727  16.155753  12.640386  15.522073   \n",
       "4  19.878999  20.705387  16.227605  22.664699  16.868130  17.093917   \n",
       "\n",
       "     Column7    Column8    Column9   Column10    ...      Column194  \\\n",
       "0  12.394331  19.063928  18.213575  14.936953    ...       1.657895   \n",
       "1   6.939545  16.653606  17.968536  10.570490    ...       1.526316   \n",
       "2  11.476377  19.414162  19.302838  14.640634    ...       1.644737   \n",
       "3  12.730161  21.097650  18.544670  12.890302    ...       1.552632   \n",
       "4  13.377150  19.524878  19.175979  15.947954    ...       1.578947   \n",
       "\n",
       "   Column195  Column196  Column197  Column198  Column199  Column200  \\\n",
       "0   1.052632   1.236842   1.447368   1.592105   1.434211   1.526316   \n",
       "1   1.144737   1.355263   1.447368   1.657895   1.460526   1.618421   \n",
       "2   1.092105   1.342105   1.421053   1.644737   1.460526   1.565789   \n",
       "3   1.092105   1.197368   1.342105   1.526316   1.460526   1.407895   \n",
       "4   1.052632   1.342105   1.407895   1.631579   1.578947   1.473684   \n",
       "\n",
       "   Column201  Column202  Column203  \n",
       "0   1.434211   3.152472         ms  \n",
       "1   1.565789   3.384429         ms  \n",
       "2   1.486842   3.079077         ms  \n",
       "3   1.486842   3.029070         ms  \n",
       "4   1.434211   2.998180         ms  \n",
       "\n",
       "[5 rows x 203 columns]"
      ]
     },
     "execution_count": 2,
     "metadata": {},
     "output_type": "execute_result"
    }
   ],
   "source": [
    "# Load the csv brain data with the significant variables\n",
    "data = pd.read_csv(\"FAMatrixSignificantData.csv\") \n",
    "\n",
    "# Shuffle the data\n",
    "data = shuffle(data, random_state=0).reset_index(drop=True)\n",
    "data.head()"
   ]
  },
  {
   "cell_type": "code",
   "execution_count": 3,
   "metadata": {},
   "outputs": [
    {
     "name": "stdout",
     "output_type": "stream",
     "text": [
      "Properties dimensions:  (239, 202)\n",
      "Classes dimensions:  (239,)\n",
      "There are 2 classes: ['hv', 'ms']\n"
     ]
    }
   ],
   "source": [
    "# Separate the dataframe into nodes_properties (x) and classes (y)\n",
    "nodes_properties = data.iloc[:,0:len(data.columns)-1]\n",
    "print('Properties dimensions: ', nodes_properties.shape)\n",
    "\n",
    "classes = data.iloc[:,len(data.columns)-1]\n",
    "classes_names = [\"hv\", \"ms\"]\n",
    "n_classes = len(classes_names)\n",
    "print('Classes dimensions: ', classes.shape)\n",
    "print('There are {} classes: {}'.format(n_classes, classes_names))"
   ]
  },
  {
   "cell_type": "code",
   "execution_count": 4,
   "metadata": {},
   "outputs": [],
   "source": [
    "# Divide the dataframe in the test and train sets, with 80% of the data in the train group and 20% in the test set.\n",
    "# We will stratify using classes, so that there is the same proportion of each class in the test/train sets as in the original\n",
    "# dataset\n",
    "X_train, X_test, y_train, y_test = train_test_split(nodes_properties, classes, test_size=0.2, random_state=2019, stratify=classes)\n"
   ]
  },
  {
   "cell_type": "code",
   "execution_count": 5,
   "metadata": {},
   "outputs": [
    {
     "name": "stdout",
     "output_type": "stream",
     "text": [
      "X_train dimensions:  (191, 202)\n",
      "y_train dimensions:  (191,)\n",
      "X_test dimensions:  (48, 202)\n",
      "y_test dimensions:  (48,)\n"
     ]
    }
   ],
   "source": [
    "print('X_train dimensions: ', X_train.shape)\n",
    "print('y_train dimensions: ', y_train.shape)\n",
    "\n",
    "print('X_test dimensions: ', X_test.shape)\n",
    "print('y_test dimensions: ', y_test.shape)"
   ]
  },
  {
   "cell_type": "markdown",
   "metadata": {},
   "source": [
    "<a id='knn'></a>"
   ]
  },
  {
   "cell_type": "markdown",
   "metadata": {},
   "source": [
    "## K-NN"
   ]
  },
  {
   "cell_type": "markdown",
   "metadata": {},
   "source": [
    "#### Hyperparameter tuning"
   ]
  },
  {
   "cell_type": "code",
   "execution_count": 6,
   "metadata": {},
   "outputs": [
    {
     "name": "stdout",
     "output_type": "stream",
     "text": [
      "The search took 2.9395456314086914 seconds\n",
      " \n",
      "Rank : 1. Mean accuracy 84.8183 +/- 4.7384. Parameters: {'n_neighbors': 14, 'weights': 'distance'}\n"
     ]
    }
   ],
   "source": [
    "# First of all, create the classifier\n",
    "knn = KNeighborsClassifier()\n",
    "\n",
    "# Then, the hyperparameters to be optimized are defined \n",
    "# k = number of nearest neighbours considered\n",
    "# weights = weight function used in prediction. If it is 'uniform', all the neighbours will have the same importance. If it is \n",
    "# 'distance', closer neighbours will have more influence. \n",
    "\n",
    "k_range = list(range(1, 21))\n",
    "weight_names = ['uniform', 'distance']\n",
    "\n",
    "param_grid = dict(n_neighbors=k_range, weights = weight_names)\n",
    "\n",
    "# Now create the grid search with 4 folds for cross-validation\n",
    "grid = GridSearchCV(knn, param_grid, cv=4, iid=False)\n",
    "\n",
    "# Apply the grid to the data checking the time \n",
    "start = time()\n",
    "grid.fit(X_train, y_train)\n",
    "end = time()\n",
    "\n",
    "# Check the results\n",
    "print(\"The search took {} seconds\".format(end - start))\n",
    "print(\" \")\n",
    "\n",
    "ranks = list(grid.cv_results_['rank_test_score'])\n",
    "means = list(grid.cv_results_[\"mean_test_score\"])\n",
    "stds = list(grid.cv_results_[\"std_test_score\"])\n",
    "params = list(grid.cv_results_['params'])\n",
    "\n",
    "results = zip (ranks, means, stds, params)\n",
    "for rank, mean, std, params in results:\n",
    "    if rank == 1: #If the rank of the result is one, print it\n",
    "        print(\"Rank : {}. Mean accuracy {:.4f} +/- {:.4f}. Parameters: {}\".format(rank, mean*100, std*100, params))\n"
   ]
  },
  {
   "cell_type": "markdown",
   "metadata": {},
   "source": [
    "#### Model training with best parameters"
   ]
  },
  {
   "cell_type": "code",
   "execution_count": 7,
   "metadata": {},
   "outputs": [
    {
     "name": "stdout",
     "output_type": "stream",
     "text": [
      "K-NN Algorithm results\n",
      "-----------------------\n",
      "Optimal k: 14\n",
      "Optimal weights: distance\n",
      "Accuracy in the test set with the optimal parameters: 75.00%\n"
     ]
    }
   ],
   "source": [
    "# First create and fit the model with the best hyperparameters\n",
    "knn = KNeighborsClassifier(n_neighbors=grid.best_params_[\"n_neighbors\"], weights=grid.best_params_[\"weights\"])\n",
    "\n",
    "knn.fit(X_train, y_train)\n",
    "\n",
    "# Predict the test values\n",
    "y_predicted = knn.predict(X_test)\n",
    "\n",
    "# Get the accuracy of the model\n",
    "accuracy = accuracy_score(y_test, y_predicted)\n",
    "\n",
    "# Print the results\n",
    "print(\"K-NN Algorithm results\")\n",
    "print(\"-----------------------\")\n",
    "print(\"Optimal k: {}\".format(grid.best_params_[\"n_neighbors\"]))\n",
    "print(\"Optimal weights: {}\".format(grid.best_params_[\"weights\"]))\n",
    "print(\"Accuracy in the test set with the optimal parameters: {:.2f}%\".format(accuracy*100))"
   ]
  },
  {
   "cell_type": "code",
   "execution_count": 8,
   "metadata": {},
   "outputs": [],
   "source": [
    "# Confusion matrix plot function\n",
    "def plot_confusion_matrix(cm, classes,\n",
    "                          title='Confusion matrix',\n",
    "                          cmap=plt.cm.Blues):\n",
    "    cm = cm.astype('float') / cm.sum(axis=1)[:, np.newaxis]\n",
    "    plt.imshow(cm, interpolation='nearest', cmap=cmap)\n",
    "    plt.title(title)\n",
    "    plt.colorbar()\n",
    "    tick_marks = np.arange(len(classes))\n",
    "    plt.xticks(tick_marks, classes, rotation=45)\n",
    "    plt.yticks(tick_marks, classes)\n",
    "\n",
    "    fmt = '.2f'\n",
    "    thresh = cm.max() / 2.\n",
    "    for i, j in itertools.product(range(cm.shape[0]), range(cm.shape[1])):\n",
    "        plt.text(j, i, format(cm[i, j], fmt),\n",
    "                 horizontalalignment=\"center\",\n",
    "                 color=\"white\" if cm[i, j] > thresh else \"black\")\n",
    "\n",
    "    plt.ylabel('True label')\n",
    "    plt.xlabel('Predicted label')\n",
    "    plt.tight_layout()"
   ]
  },
  {
   "cell_type": "markdown",
   "metadata": {},
   "source": [
    "#### Confusion matrix"
   ]
  },
  {
   "cell_type": "code",
   "execution_count": 9,
   "metadata": {},
   "outputs": [
    {
     "name": "stdout",
     "output_type": "stream",
     "text": [
      "[[ 2  7]\n",
      " [ 5 34]]\n"
     ]
    },
    {
     "data": {
      "image/png": "[encoded data removed]",
      "text/plain": [
       "<Figure size 432x288 with 2 Axes>"
      ]
     },
     "metadata": {
      "needs_background": "light"
     },
     "output_type": "display_data"
    }
   ],
   "source": [
    "conf_matrix = confusion_matrix(y_test, y_predicted)\n",
    "print(conf_matrix)\n",
    "\n",
    "# Plot confusion matrix\n",
    "plt.figure()\n",
    "plot_confusion_matrix(conf_matrix, classes=classes_names,\n",
    "                      title='Matriz de confusión')"
   ]
  },
  {
   "cell_type": "markdown",
   "metadata": {},
   "source": [
    "<a id='svm'></a>"
   ]
  },
  {
   "cell_type": "markdown",
   "metadata": {},
   "source": [
    "## SVM"
   ]
  },
  {
   "cell_type": "markdown",
   "metadata": {},
   "source": [
    " #### Hyperparameter tuning"
   ]
  },
  {
   "cell_type": "code",
   "execution_count": 10,
   "metadata": {},
   "outputs": [
    {
     "name": "stdout",
     "output_type": "stream",
     "text": [
      "The search took 8.47625184059143 seconds\n",
      " \n",
      "Rank : 1. Mean accuracy 81.1518 +/- 0.1718. Parameters: {'C': 29.16208291058754, 'gamma': 0.9936875866649094}\n",
      "Rank : 1. Mean accuracy 81.1518 +/- 0.1718. Parameters: {'C': 73.88281333055356, 'gamma': 0.025647962202843155}\n",
      "Rank : 1. Mean accuracy 81.1518 +/- 0.1718. Parameters: {'C': 20.781503751390716, 'gamma': 0.9366613803344962}\n",
      "Rank : 1. Mean accuracy 81.1518 +/- 0.1718. Parameters: {'C': 6.978722163316785, 'gamma': 0.3495861511361863}\n",
      "Rank : 1. Mean accuracy 81.1518 +/- 0.1718. Parameters: {'C': 56.16826077008907, 'gamma': 0.15242061963922138}\n",
      "Rank : 1. Mean accuracy 81.1518 +/- 0.1718. Parameters: {'C': 12.033282283765168, 'gamma': 0.39729300356619535}\n",
      "Rank : 1. Mean accuracy 81.1518 +/- 0.1718. Parameters: {'C': 45.58717900323279, 'gamma': 0.23601315053244398}\n",
      "Rank : 1. Mean accuracy 81.1518 +/- 0.1718. Parameters: {'C': 70.86097121617753, 'gamma': 0.6980016289912346}\n",
      "Rank : 1. Mean accuracy 81.1518 +/- 0.1718. Parameters: {'C': 33.40160104133899, 'gamma': 0.9674367426340149}\n",
      "Rank : 1. Mean accuracy 81.1518 +/- 0.1718. Parameters: {'C': 91.3161793623943, 'gamma': 0.09406029350862999}\n",
      "Rank : 1. Mean accuracy 81.1518 +/- 0.1718. Parameters: {'C': 52.68202668870357, 'gamma': 0.9666035209550723}\n",
      "Rank : 1. Mean accuracy 81.1518 +/- 0.1718. Parameters: {'C': 86.24943515830121, 'gamma': 0.150772528396105}\n",
      "Rank : 1. Mean accuracy 81.1518 +/- 0.1718. Parameters: {'C': 16.2592870921893, 'gamma': 0.5921711152859257}\n",
      "Rank : 1. Mean accuracy 81.1518 +/- 0.1718. Parameters: {'C': 65.55734151882737, 'gamma': 0.4486297318139859}\n",
      "Rank : 1. Mean accuracy 81.1518 +/- 0.1718. Parameters: {'C': 66.41872216640779, 'gamma': 0.2024361280802417}\n",
      "Rank : 1. Mean accuracy 81.1518 +/- 0.1718. Parameters: {'C': 79.30559108553248, 'gamma': 0.09507473651561182}\n",
      "Rank : 1. Mean accuracy 81.1518 +/- 0.1718. Parameters: {'C': 66.87870204996864, 'gamma': 0.7655506306080077}\n",
      "Rank : 1. Mean accuracy 81.1518 +/- 0.1718. Parameters: {'C': 1.7469285792686131, 'gamma': 0.23007352041476836}\n",
      "Rank : 1. Mean accuracy 81.1518 +/- 0.1718. Parameters: {'C': 60.82275717667234, 'gamma': 0.3122423684413752}\n",
      "Rank : 1. Mean accuracy 81.1518 +/- 0.1718. Parameters: {'C': 57.867675754154604, 'gamma': 0.9443533669766065}\n",
      "Rank : 1. Mean accuracy 81.1518 +/- 0.1718. Parameters: {'C': 31.405164759461734, 'gamma': 0.29907371318983267}\n",
      "Rank : 1. Mean accuracy 81.1518 +/- 0.1718. Parameters: {'C': 6.564009374201861, 'gamma': 0.10237754646062325}\n",
      "Rank : 1. Mean accuracy 81.1518 +/- 0.1718. Parameters: {'C': 76.94694045347028, 'gamma': 0.715158476177969}\n",
      "Rank : 1. Mean accuracy 81.1518 +/- 0.1718. Parameters: {'C': 16.08577214051854, 'gamma': 0.45333890649047015}\n",
      "Rank : 1. Mean accuracy 81.1518 +/- 0.1718. Parameters: {'C': 2.290444495187959, 'gamma': 0.786819855047393}\n",
      "Rank : 1. Mean accuracy 81.1518 +/- 0.1718. Parameters: {'C': 86.20955921133681, 'gamma': 0.08777063615626934}\n",
      "Rank : 1. Mean accuracy 81.1518 +/- 0.1718. Parameters: {'C': 36.73874963470654, 'gamma': 0.34754553261604426}\n",
      "Rank : 1. Mean accuracy 81.1518 +/- 0.1718. Parameters: {'C': 13.413272419888543, 'gamma': 0.24291228086182026}\n",
      "Rank : 1. Mean accuracy 81.1518 +/- 0.1718. Parameters: {'C': 10.620264922206035, 'gamma': 0.3713602862825758}\n",
      "Rank : 1. Mean accuracy 81.1518 +/- 0.1718. Parameters: {'C': 18.539954349807907, 'gamma': 1.0001899867371993}\n",
      "Rank : 1. Mean accuracy 81.1518 +/- 0.1718. Parameters: {'C': 83.1341326541437, 'gamma': 0.1776309536817553}\n",
      "Rank : 1. Mean accuracy 81.1518 +/- 0.1718. Parameters: {'C': 8.397902781753917, 'gamma': 0.8885469905450231}\n",
      "Rank : 1. Mean accuracy 81.1518 +/- 0.1718. Parameters: {'C': 27.5775292017032, 'gamma': 0.7325487112435917}\n",
      "Rank : 1. Mean accuracy 81.1518 +/- 0.1718. Parameters: {'C': 88.96711988921052, 'gamma': 0.604304478343569}\n",
      "Rank : 1. Mean accuracy 81.1518 +/- 0.1718. Parameters: {'C': 17.894639533112944, 'gamma': 0.3305308010247424}\n",
      "Rank : 1. Mean accuracy 81.1518 +/- 0.1718. Parameters: {'C': 88.91279443920556, 'gamma': 0.696399847269128}\n",
      "Rank : 1. Mean accuracy 81.1518 +/- 0.1718. Parameters: {'C': 36.03360787957066, 'gamma': 0.5827109282529758}\n",
      "Rank : 1. Mean accuracy 81.1518 +/- 0.1718. Parameters: {'C': 38.62617984204899, 'gamma': 0.8799636399886142}\n",
      "Rank : 1. Mean accuracy 81.1518 +/- 0.1718. Parameters: {'C': 85.87915897899451, 'gamma': 0.6321218665027986}\n",
      "Rank : 1. Mean accuracy 81.1518 +/- 0.1718. Parameters: {'C': 22.91875439359644, 'gamma': 0.11417507350167733}\n",
      "Rank : 1. Mean accuracy 81.1518 +/- 0.1718. Parameters: {'C': 57.264668933701486, 'gamma': 0.49191509682556334}\n",
      "Rank : 1. Mean accuracy 81.1518 +/- 0.1718. Parameters: {'C': 3.0761429127647557, 'gamma': 0.5789624493985627}\n",
      "Rank : 1. Mean accuracy 81.1518 +/- 0.1718. Parameters: {'C': 58.76470810056404, 'gamma': 0.82188743549556}\n",
      "Rank : 1. Mean accuracy 81.1518 +/- 0.1718. Parameters: {'C': 33.430197082268194, 'gamma': 0.9912200320465102}\n",
      "Rank : 1. Mean accuracy 81.1518 +/- 0.1718. Parameters: {'C': 30.807526608549505, 'gamma': 0.9291075763198086}\n",
      "Rank : 1. Mean accuracy 81.1518 +/- 0.1718. Parameters: {'C': 41.00088036651432, 'gamma': 0.90659237561605}\n",
      "Rank : 1. Mean accuracy 81.1518 +/- 0.1718. Parameters: {'C': 15.99882380585339, 'gamma': 0.6178774621103368}\n",
      "Rank : 1. Mean accuracy 81.1518 +/- 0.1718. Parameters: {'C': 40.8988954881585, 'gamma': 0.4063467552193246}\n",
      "Rank : 1. Mean accuracy 81.1518 +/- 0.1718. Parameters: {'C': 84.72375600225577, 'gamma': 0.22033444318377493}\n",
      "Rank : 1. Mean accuracy 81.1518 +/- 0.1718. Parameters: {'C': 41.1121039436798, 'gamma': 0.5969363873783978}\n",
      "Rank : 1. Mean accuracy 81.1518 +/- 0.1718. Parameters: {'C': 52.02463031371822, 'gamma': 0.32683275766596}\n",
      "Rank : 1. Mean accuracy 81.1518 +/- 0.1718. Parameters: {'C': 20.166582493339625, 'gamma': 0.11726307033720973}\n",
      "Rank : 1. Mean accuracy 81.1518 +/- 0.1718. Parameters: {'C': 29.974723419758362, 'gamma': 0.23803884309855783}\n",
      "Rank : 1. Mean accuracy 81.1518 +/- 0.1718. Parameters: {'C': 76.57794837723645, 'gamma': 0.9042911296934873}\n",
      "Rank : 1. Mean accuracy 81.1518 +/- 0.1718. Parameters: {'C': 38.92701225747639, 'gamma': 0.5810834654420988}\n",
      "Rank : 1. Mean accuracy 81.1518 +/- 0.1718. Parameters: {'C': 51.88817645817451, 'gamma': 0.13441818655892346}\n",
      "Rank : 1. Mean accuracy 81.1518 +/- 0.1718. Parameters: {'C': 71.84503842117634, 'gamma': 0.3037753625917803}\n",
      "Rank : 1. Mean accuracy 81.1518 +/- 0.1718. Parameters: {'C': 52.867258764983994, 'gamma': 0.6086199279870267}\n",
      "Rank : 1. Mean accuracy 81.1518 +/- 0.1718. Parameters: {'C': 76.53836654403212, 'gamma': 0.8871981272143069}\n",
      "Rank : 1. Mean accuracy 81.1518 +/- 0.1718. Parameters: {'C': 25.458008939666918, 'gamma': 0.4845193507224066}\n",
      "Rank : 1. Mean accuracy 81.1518 +/- 0.1718. Parameters: {'C': 18.774477183141833, 'gamma': 0.17207967609833408}\n",
      "Rank : 1. Mean accuracy 81.1518 +/- 0.1718. Parameters: {'C': 14.942536969502406, 'gamma': 0.48294856113387485}\n",
      "Rank : 1. Mean accuracy 81.1518 +/- 0.1718. Parameters: {'C': 65.9629207291118, 'gamma': 0.7338393106703798}\n",
      "Rank : 1. Mean accuracy 81.1518 +/- 0.1718. Parameters: {'C': 21.29951992502599, 'gamma': 0.5908147152242578}\n",
      "Rank : 1. Mean accuracy 81.1518 +/- 0.1718. Parameters: {'C': 92.64208889126603, 'gamma': 0.35758004056087045}\n",
      "Rank : 1. Mean accuracy 81.1518 +/- 0.1718. Parameters: {'C': 8.37051056498309, 'gamma': 0.04924873046861178}\n",
      "Rank : 1. Mean accuracy 81.1518 +/- 0.1718. Parameters: {'C': 38.44318908776844, 'gamma': 0.5151427260018466}\n",
      "Rank : 1. Mean accuracy 81.1518 +/- 0.1718. Parameters: {'C': 28.24592662184736, 'gamma': 0.12816327565408203}\n",
      "Rank : 1. Mean accuracy 81.1518 +/- 0.1718. Parameters: {'C': 64.9372769638331, 'gamma': 0.9897921042143506}\n",
      "Rank : 1. Mean accuracy 81.1518 +/- 0.1718. Parameters: {'C': 93.22116750029573, 'gamma': 0.06792767553375001}\n",
      "Rank : 1. Mean accuracy 81.1518 +/- 0.1718. Parameters: {'C': 58.304476037428984, 'gamma': 0.556993041659977}\n",
      "Rank : 1. Mean accuracy 81.1518 +/- 0.1718. Parameters: {'C': 30.07731176389996, 'gamma': 0.8712264711300315}\n",
      "Rank : 1. Mean accuracy 81.1518 +/- 0.1718. Parameters: {'C': 98.54793037713573, 'gamma': 0.5649699821792358}\n",
      "Rank : 1. Mean accuracy 81.1518 +/- 0.1718. Parameters: {'C': 11.574462919635986, 'gamma': 0.05574856738238487}\n",
      "Rank : 1. Mean accuracy 81.1518 +/- 0.1718. Parameters: {'C': 20.878261484208515, 'gamma': 0.20331220131280658}\n",
      "Rank : 1. Mean accuracy 81.1518 +/- 0.1718. Parameters: {'C': 73.63117943808663, 'gamma': 0.04195591043650515}\n",
      "Rank : 1. Mean accuracy 81.1518 +/- 0.1718. Parameters: {'C': 53.54595589693321, 'gamma': 0.7908067635746772}\n",
      "Rank : 1. Mean accuracy 81.1518 +/- 0.1718. Parameters: {'C': 11.333530332761232, 'gamma': 0.9758382194241176}\n",
      "Rank : 1. Mean accuracy 81.1518 +/- 0.1718. Parameters: {'C': 73.31407045608314, 'gamma': 0.35326446616848406}\n",
      "Rank : 1. Mean accuracy 81.1518 +/- 0.1718. Parameters: {'C': 89.75467659028466, 'gamma': 0.7831389788348934}\n",
      "Rank : 1. Mean accuracy 81.1518 +/- 0.1718. Parameters: {'C': 13.761509299102725, 'gamma': 0.5375241590162527}\n",
      "Rank : 1. Mean accuracy 81.1518 +/- 0.1718. Parameters: {'C': 52.59804512087107, 'gamma': 0.7166878861295688}\n",
      "Rank : 1. Mean accuracy 81.1518 +/- 0.1718. Parameters: {'C': 43.01547478298433, 'gamma': 0.7502215824597774}\n",
      "Rank : 1. Mean accuracy 81.1518 +/- 0.1718. Parameters: {'C': 9.685257902007237, 'gamma': 0.8271287468309767}\n",
      "Rank : 1. Mean accuracy 81.1518 +/- 0.1718. Parameters: {'C': 51.568230242490884, 'gamma': 0.3047822986397152}\n",
      "Rank : 1. Mean accuracy 81.1518 +/- 0.1718. Parameters: {'C': 78.54667857620412, 'gamma': 0.1820167534920588}\n",
      "Rank : 1. Mean accuracy 81.1518 +/- 0.1718. Parameters: {'C': 70.15902718483117, 'gamma': 0.3835924516130502}\n",
      "Rank : 1. Mean accuracy 81.1518 +/- 0.1718. Parameters: {'C': 72.59849428003662, 'gamma': 0.6882158380909432}\n",
      "Rank : 1. Mean accuracy 81.1518 +/- 0.1718. Parameters: {'C': 58.353814833312256, 'gamma': 0.7466561963466202}\n",
      "Rank : 1. Mean accuracy 81.1518 +/- 0.1718. Parameters: {'C': 49.70664172999718, 'gamma': 0.6567103927744079}\n",
      "Rank : 1. Mean accuracy 81.1518 +/- 0.1718. Parameters: {'C': 62.31285040668399, 'gamma': 0.21419799777175685}\n",
      "Rank : 1. Mean accuracy 81.1518 +/- 0.1718. Parameters: {'C': 63.84729422439336, 'gamma': 0.5977628659180578}\n",
      "Rank : 1. Mean accuracy 81.1518 +/- 0.1718. Parameters: {'C': 62.53338919920953, 'gamma': 0.9072197188685993}\n",
      "Rank : 1. Mean accuracy 81.1518 +/- 0.1718. Parameters: {'C': 21.843941685770485, 'gamma': 0.18484221590064664}\n",
      "Rank : 1. Mean accuracy 81.1518 +/- 0.1718. Parameters: {'C': 68.22537461769065, 'gamma': 0.5098144471239008}\n",
      "Rank : 1. Mean accuracy 81.1518 +/- 0.1718. Parameters: {'C': 78.878976424338, 'gamma': 0.059642776329611236}\n",
      "Rank : 1. Mean accuracy 81.1518 +/- 0.1718. Parameters: {'C': 54.007562678892114, 'gamma': 0.8826129506088883}\n",
      "Rank : 1. Mean accuracy 81.1518 +/- 0.1718. Parameters: {'C': 77.79467850479442, 'gamma': 0.9245656380796015}\n",
      "Rank : 1. Mean accuracy 81.1518 +/- 0.1718. Parameters: {'C': 34.42327244856344, 'gamma': 0.3562685511963324}\n",
      "Rank : 1. Mean accuracy 81.1518 +/- 0.1718. Parameters: {'C': 27.18563934017373, 'gamma': 0.6007855211245525}\n"
     ]
    }
   ],
   "source": [
    "# Create the classifier\n",
    "svm_clasif = SVC(random_state = 1)\n",
    "\n",
    "# Define the hyperparameters to be optimized\n",
    "param_dist = dict(C=uniform(1, 100), gamma=uniform(0.001, 1))\n",
    "\n",
    "# Now create the randomnized search with 4 folds for cross-validation\n",
    "num_iterations = 100\n",
    "cv = StratifiedKFold(n_splits=4, shuffle=True)\n",
    "rand = RandomizedSearchCV(svm_clasif, param_distributions = param_dist, cv=cv, n_iter=num_iterations)\n",
    "\n",
    "# Apply the search to the data checking the time \n",
    "start = time()\n",
    "rand.fit(X_train, y_train)\n",
    "end = time()\n",
    "\n",
    "# Check the results\n",
    "print(\"The search took {} seconds\".format(end - start))\n",
    "print(\" \")\n",
    "\n",
    "ranks = list(rand.cv_results_['rank_test_score'])\n",
    "means = list(rand.cv_results_[\"mean_test_score\"])\n",
    "stds = list(rand.cv_results_[\"std_test_score\"])\n",
    "params = list(rand.cv_results_['params'])\n",
    "\n",
    "results = zip (ranks, means, stds, params)\n",
    "for rank, mean, std, params in results:\n",
    "    if rank == 1: #If the rank of the result is one, print it\n",
    "        print(\"Rank : {}. Mean accuracy {:.4f} +/- {:.4f}. Parameters: {}\".format(rank, mean*100, std*100, params))"
   ]
  },
  {
   "cell_type": "markdown",
   "metadata": {},
   "source": [
    "#### Train model with best parameters"
   ]
  },
  {
   "cell_type": "code",
   "execution_count": 11,
   "metadata": {},
   "outputs": [
    {
     "name": "stdout",
     "output_type": "stream",
     "text": [
      "SVM Algorithm results\n",
      "-----------------------\n",
      "Optimal C: 29.16208291058754\n",
      "Optimal gamma: 0.9936875866649094\n",
      "Accuracy in the test set with the optimal parameters: 81.25%\n"
     ]
    }
   ],
   "source": [
    "# Create and fit the model with the best hyperparameters\n",
    "svm_clasif = SVC(C=rand.best_params_[\"C\"], gamma=rand.best_params_[\"gamma\"])\n",
    "svm_clasif.fit(X_train, y_train)\n",
    "\n",
    "# Predict the test values\n",
    "y_predicted = svm_clasif.predict(X_test)\n",
    "\n",
    "# Get the accuracy of the model\n",
    "accuracy = accuracy_score(y_test, y_predicted)\n",
    "\n",
    "# Print the results\n",
    "print(\"SVM Algorithm results\")\n",
    "print(\"-----------------------\")\n",
    "print(\"Optimal C: {}\".format(rand.best_params_[\"C\"]))\n",
    "print(\"Optimal gamma: {}\".format(rand.best_params_[\"gamma\"]))\n",
    "print(\"Accuracy in the test set with the optimal parameters: {:.2f}%\".format(accuracy*100))"
   ]
  },
  {
   "cell_type": "markdown",
   "metadata": {},
   "source": [
    "#### Confusion matrix"
   ]
  },
  {
   "cell_type": "code",
   "execution_count": 12,
   "metadata": {},
   "outputs": [
    {
     "name": "stdout",
     "output_type": "stream",
     "text": [
      "[[ 0  9]\n",
      " [ 0 39]]\n"
     ]
    },
    {
     "data": {
      "image/png": "[encoded data removed]",
      "text/plain": [
       "<Figure size 432x288 with 2 Axes>"
      ]
     },
     "metadata": {
      "needs_background": "light"
     },
     "output_type": "display_data"
    }
   ],
   "source": [
    "conf_matrix = confusion_matrix(y_test, y_predicted)\n",
    "print(conf_matrix)\n",
    "\n",
    "# Plot confusion matrix\n",
    "plt.figure()\n",
    "plot_confusion_matrix(conf_matrix, classes=classes_names,\n",
    "                      title='Matriz de confusión')"
   ]
  },
  {
   "cell_type": "markdown",
   "metadata": {},
   "source": [
    "<a id='randomforest'></a>"
   ]
  },
  {
   "cell_type": "markdown",
   "metadata": {},
   "source": [
    "## Random Forest"
   ]
  },
  {
   "cell_type": "markdown",
   "metadata": {},
   "source": [
    "#### Hyperparameter tuning"
   ]
  },
  {
   "cell_type": "code",
   "execution_count": 13,
   "metadata": {},
   "outputs": [
    {
     "name": "stdout",
     "output_type": "stream",
     "text": [
      "The search took 12.94490098953247 seconds\n",
      " \n",
      "Rank : 1. Mean accuracy 82.1919 +/- 1.1501. Parameters: {'n_estimators': 51}\n"
     ]
    }
   ],
   "source": [
    "# Create the classifier\n",
    "random_forest = RandomForestClassifier(random_state=0)\n",
    "\n",
    "# Define the hyperparameters to be optimized \n",
    "n_estimators = list(range(1, 61))\n",
    "\n",
    "param_grid = dict(n_estimators=n_estimators)\n",
    "\n",
    "# Create the grid search with 4 folds for cross-validation\n",
    "grid = GridSearchCV(random_forest, param_grid, cv=4, iid=False)\n",
    "\n",
    "# Apply the grid to the data checking the time \n",
    "start = time()\n",
    "grid.fit(X_train, y_train)\n",
    "end = time()\n",
    "\n",
    "# Check the results\n",
    "print(\"The search took {} seconds\".format(end - start))\n",
    "print(\" \")\n",
    "\n",
    "ranks = list(grid.cv_results_['rank_test_score'])\n",
    "means = list(grid.cv_results_[\"mean_test_score\"])\n",
    "stds = list(grid.cv_results_[\"std_test_score\"])\n",
    "params = list(grid.cv_results_['params'])\n",
    "\n",
    "results = zip (ranks, means, stds, params)\n",
    "for rank, mean, std, params in results:\n",
    "    if rank == 1: #If the rank of the result is one, print it\n",
    "        print(\"Rank : {}. Mean accuracy {:.4f} +/- {:.4f}. Parameters: {}\".format(rank, mean*100, std*100, params))\n"
   ]
  },
  {
   "cell_type": "markdown",
   "metadata": {},
   "source": [
    "#### Train model with best hyperparameters"
   ]
  },
  {
   "cell_type": "code",
   "execution_count": 14,
   "metadata": {},
   "outputs": [
    {
     "name": "stdout",
     "output_type": "stream",
     "text": [
      "Random Forest Algorithm results\n",
      "-----------------------\n",
      "Optimal n_estimators: 51\n",
      "Accuracy in the test set with the optimal parameters: 81.25%\n"
     ]
    }
   ],
   "source": [
    "# Create and fit the model with the best hyperparameters\n",
    "random_forest = RandomForestClassifier(random_state=0, n_estimators=grid.best_params_[\"n_estimators\"])\n",
    "random_forest.fit(X_train, y_train)\n",
    "\n",
    "# Predict the test values\n",
    "y_predicted = random_forest.predict(X_test)\n",
    "\n",
    "# Get the accuracy of the model\n",
    "accuracy = accuracy_score(y_test, y_predicted)\n",
    "\n",
    "# Print the results\n",
    "print(\"Random Forest Algorithm results\")\n",
    "print(\"-----------------------\")\n",
    "print(\"Optimal n_estimators: {}\".format(grid.best_params_[\"n_estimators\"]))\n",
    "print(\"Accuracy in the test set with the optimal parameters: {:.2f}%\".format(accuracy*100))"
   ]
  },
  {
   "cell_type": "markdown",
   "metadata": {},
   "source": [
    "#### Confusion Matrix"
   ]
  },
  {
   "cell_type": "code",
   "execution_count": 15,
   "metadata": {},
   "outputs": [
    {
     "name": "stdout",
     "output_type": "stream",
     "text": [
      "[[ 1  8]\n",
      " [ 1 38]]\n"
     ]
    },
    {
     "data": {
      "image/png": "[encoded data removed]",
      "text/plain": [
       "<Figure size 432x288 with 2 Axes>"
      ]
     },
     "metadata": {
      "needs_background": "light"
     },
     "output_type": "display_data"
    }
   ],
   "source": [
    "conf_matrix = confusion_matrix(y_test, y_predicted)\n",
    "print(conf_matrix)\n",
    "\n",
    "# Plot confusion matrix\n",
    "plt.figure()\n",
    "plot_confusion_matrix(conf_matrix, classes=classes_names,\n",
    "                      title='Matriz de confusión')"
   ]
  },
  {
   "cell_type": "code",
   "execution_count": null,
   "metadata": {},
   "outputs": [],
   "source": []
  }
 ],
 "metadata": {
  "kernelspec": {
   "display_name": "Python 3",
   "language": "python",
   "name": "python3"
  },
  "language_info": {
   "codemirror_mode": {
    "name": "ipython",
    "version": 3
   },
   "file_extension": ".py",
   "mimetype": "text/x-python",
   "name": "python",
   "nbconvert_exporter": "python",
   "pygments_lexer": "ipython3",
   "version": "3.6.7"
  }
 },
 "nbformat": 4,
 "nbformat_minor": 2
}
